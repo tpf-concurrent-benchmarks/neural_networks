{
 "cells": [
  {
   "cell_type": "code",
   "execution_count": null,
   "metadata": {},
   "outputs": [],
   "source": [
    "# installing dependencies, remove if already installed\n",
    "using Pkg\n",
    "deps = [\"DataFrames\", \"CSV\", \"ScikitLearn\", \"Statistics\", \"CUDA\"]\n",
    "Pkg.add(deps)"
   ]
  },
  {
   "cell_type": "code",
   "execution_count": 1,
   "metadata": {},
   "outputs": [],
   "source": [
    "using DataFrames, CSV, ScikitLearn, Statistics, CUDA\n",
    "@sk_import neural_network: MLPRegressor\n",
    "@sk_import metrics: mean_squared_error\n",
    "@sk_import preprocessing: StandardScaler"
   ]
  },
  {
   "cell_type": "code",
   "execution_count": 17,
   "metadata": {},
   "outputs": [
    {
     "data": {
      "text/html": [
       "<div><div style = \"float: left;\"><span>4128×10 DataFrame</span></div><div style = \"float: right;\"><span style = \"font-style: italic;\">4103 rows omitted</span></div><div style = \"clear: both;\"></div></div><div class = \"data-frame\" style = \"overflow-x: scroll;\"><table class = \"data-frame\" style = \"margin-bottom: 6px;\"><thead><tr class = \"header\"><th class = \"rowNumber\" style = \"font-weight: bold; text-align: right;\">Row</th><th style = \"text-align: left;\">longitude</th><th style = \"text-align: left;\">latitude</th><th style = \"text-align: left;\">housing_median_age</th><th style = \"text-align: left;\">total_rooms</th><th style = \"text-align: left;\">total_bedrooms</th><th style = \"text-align: left;\">population</th><th style = \"text-align: left;\">households</th><th style = \"text-align: left;\">median_income</th><th style = \"text-align: left;\">ocean_proximity</th><th style = \"text-align: left;\">median_house_value</th></tr><tr class = \"subheader headerLastRow\"><th class = \"rowNumber\" style = \"font-weight: bold; text-align: right;\"></th><th title = \"Float64\" style = \"text-align: left;\">Float64</th><th title = \"Float64\" style = \"text-align: left;\">Float64</th><th title = \"Float64\" style = \"text-align: left;\">Float64</th><th title = \"Float64\" style = \"text-align: left;\">Float64</th><th title = \"Union{Missing, Float64}\" style = \"text-align: left;\">Float64?</th><th title = \"Float64\" style = \"text-align: left;\">Float64</th><th title = \"Float64\" style = \"text-align: left;\">Float64</th><th title = \"Float64\" style = \"text-align: left;\">Float64</th><th title = \"String15\" style = \"text-align: left;\">String15</th><th title = \"Float64\" style = \"text-align: left;\">Float64</th></tr></thead><tbody><tr><td class = \"rowNumber\" style = \"font-weight: bold; text-align: right;\">1</td><td style = \"text-align: right;\">-118.36</td><td style = \"text-align: right;\">34.06</td><td style = \"text-align: right;\">39.0</td><td style = \"text-align: right;\">2810.0</td><td style = \"text-align: right;\">670.0</td><td style = \"text-align: right;\">1109.0</td><td style = \"text-align: right;\">624.0</td><td style = \"text-align: right;\">3.25</td><td style = \"text-align: left;\">&lt;1H OCEAN</td><td style = \"text-align: right;\">355000.0</td></tr><tr><td class = \"rowNumber\" style = \"font-weight: bold; text-align: right;\">2</td><td style = \"text-align: right;\">-119.78</td><td style = \"text-align: right;\">36.78</td><td style = \"text-align: right;\">37.0</td><td style = \"text-align: right;\">2185.0</td><td style = \"text-align: right;\">455.0</td><td style = \"text-align: right;\">1143.0</td><td style = \"text-align: right;\">438.0</td><td style = \"text-align: right;\">1.9784</td><td style = \"text-align: left;\">INLAND</td><td style = \"text-align: right;\">70700.0</td></tr><tr><td class = \"rowNumber\" style = \"font-weight: bold; text-align: right;\">3</td><td style = \"text-align: right;\">-122.42</td><td style = \"text-align: right;\">37.73</td><td style = \"text-align: right;\">46.0</td><td style = \"text-align: right;\">1819.0</td><td style = \"text-align: right;\">411.0</td><td style = \"text-align: right;\">1534.0</td><td style = \"text-align: right;\">406.0</td><td style = \"text-align: right;\">4.0132</td><td style = \"text-align: left;\">NEAR BAY</td><td style = \"text-align: right;\">229400.0</td></tr><tr><td class = \"rowNumber\" style = \"font-weight: bold; text-align: right;\">4</td><td style = \"text-align: right;\">-122.28</td><td style = \"text-align: right;\">37.81</td><td style = \"text-align: right;\">52.0</td><td style = \"text-align: right;\">340.0</td><td style = \"text-align: right;\">97.0</td><td style = \"text-align: right;\">200.0</td><td style = \"text-align: right;\">87.0</td><td style = \"text-align: right;\">1.5208</td><td style = \"text-align: left;\">NEAR BAY</td><td style = \"text-align: right;\">112500.0</td></tr><tr><td class = \"rowNumber\" style = \"font-weight: bold; text-align: right;\">5</td><td style = \"text-align: right;\">-118.13</td><td style = \"text-align: right;\">33.82</td><td style = \"text-align: right;\">37.0</td><td style = \"text-align: right;\">1530.0</td><td style = \"text-align: right;\">290.0</td><td style = \"text-align: right;\">711.0</td><td style = \"text-align: right;\">283.0</td><td style = \"text-align: right;\">5.1795</td><td style = \"text-align: left;\">&lt;1H OCEAN</td><td style = \"text-align: right;\">225400.0</td></tr><tr><td class = \"rowNumber\" style = \"font-weight: bold; text-align: right;\">6</td><td style = \"text-align: right;\">-118.16</td><td style = \"text-align: right;\">34.15</td><td style = \"text-align: right;\">17.0</td><td style = \"text-align: right;\">821.0</td><td style = \"text-align: right;\">163.0</td><td style = \"text-align: right;\">229.0</td><td style = \"text-align: right;\">164.0</td><td style = \"text-align: right;\">7.3715</td><td style = \"text-align: left;\">&lt;1H OCEAN</td><td style = \"text-align: right;\">263000.0</td></tr><tr><td class = \"rowNumber\" style = \"font-weight: bold; text-align: right;\">7</td><td style = \"text-align: right;\">-120.44</td><td style = \"text-align: right;\">34.91</td><td style = \"text-align: right;\">12.0</td><td style = \"text-align: right;\">3189.0</td><td style = \"text-align: right;\">463.0</td><td style = \"text-align: right;\">1200.0</td><td style = \"text-align: right;\">442.0</td><td style = \"text-align: right;\">5.299</td><td style = \"text-align: left;\">&lt;1H OCEAN</td><td style = \"text-align: right;\">226800.0</td></tr><tr><td class = \"rowNumber\" style = \"font-weight: bold; text-align: right;\">8</td><td style = \"text-align: right;\">-122.48</td><td style = \"text-align: right;\">38.31</td><td style = \"text-align: right;\">29.0</td><td style = \"text-align: right;\">2375.0</td><td style = \"text-align: right;\">560.0</td><td style = \"text-align: right;\">1124.0</td><td style = \"text-align: right;\">502.0</td><td style = \"text-align: right;\">2.3276</td><td style = \"text-align: left;\">&lt;1H OCEAN</td><td style = \"text-align: right;\">166200.0</td></tr><tr><td class = \"rowNumber\" style = \"font-weight: bold; text-align: right;\">9</td><td style = \"text-align: right;\">-117.64</td><td style = \"text-align: right;\">34.08</td><td style = \"text-align: right;\">35.0</td><td style = \"text-align: right;\">1254.0</td><td style = \"text-align: right;\">241.0</td><td style = \"text-align: right;\">729.0</td><td style = \"text-align: right;\">253.0</td><td style = \"text-align: right;\">3.495</td><td style = \"text-align: left;\">INLAND</td><td style = \"text-align: right;\">118000.0</td></tr><tr><td class = \"rowNumber\" style = \"font-weight: bold; text-align: right;\">10</td><td style = \"text-align: right;\">-118.16</td><td style = \"text-align: right;\">34.04</td><td style = \"text-align: right;\">45.0</td><td style = \"text-align: right;\">332.0</td><td style = \"text-align: right;\">70.0</td><td style = \"text-align: right;\">302.0</td><td style = \"text-align: right;\">60.0</td><td style = \"text-align: right;\">3.1895</td><td style = \"text-align: left;\">&lt;1H OCEAN</td><td style = \"text-align: right;\">156300.0</td></tr><tr><td class = \"rowNumber\" style = \"font-weight: bold; text-align: right;\">11</td><td style = \"text-align: right;\">-122.44</td><td style = \"text-align: right;\">37.78</td><td style = \"text-align: right;\">31.0</td><td style = \"text-align: right;\">1364.0</td><td style = \"text-align: right;\">386.0</td><td style = \"text-align: right;\">707.0</td><td style = \"text-align: right;\">379.0</td><td style = \"text-align: right;\">3.1607</td><td style = \"text-align: left;\">NEAR BAY</td><td style = \"text-align: right;\">293800.0</td></tr><tr><td class = \"rowNumber\" style = \"font-weight: bold; text-align: right;\">12</td><td style = \"text-align: right;\">-116.44</td><td style = \"text-align: right;\">33.77</td><td style = \"text-align: right;\">18.0</td><td style = \"text-align: right;\">4872.0</td><td style = \"text-align: right;\">1110.0</td><td style = \"text-align: right;\">955.0</td><td style = \"text-align: right;\">656.0</td><td style = \"text-align: right;\">2.2439</td><td style = \"text-align: left;\">INLAND</td><td style = \"text-align: right;\">97500.0</td></tr><tr><td class = \"rowNumber\" style = \"font-weight: bold; text-align: right;\">13</td><td style = \"text-align: right;\">-117.3</td><td style = \"text-align: right;\">34.12</td><td style = \"text-align: right;\">50.0</td><td style = \"text-align: right;\">1629.0</td><td style = \"text-align: right;\">437.0</td><td style = \"text-align: right;\">1581.0</td><td style = \"text-align: right;\">394.0</td><td style = \"text-align: right;\">2.2019</td><td style = \"text-align: left;\">INLAND</td><td style = \"text-align: right;\">63500.0</td></tr><tr><td style = \"text-align: right;\">&vellip;</td><td style = \"text-align: right;\">&vellip;</td><td style = \"text-align: right;\">&vellip;</td><td style = \"text-align: right;\">&vellip;</td><td style = \"text-align: right;\">&vellip;</td><td style = \"text-align: right;\">&vellip;</td><td style = \"text-align: right;\">&vellip;</td><td style = \"text-align: right;\">&vellip;</td><td style = \"text-align: right;\">&vellip;</td><td style = \"text-align: right;\">&vellip;</td><td style = \"text-align: right;\">&vellip;</td></tr><tr><td class = \"rowNumber\" style = \"font-weight: bold; text-align: right;\">4117</td><td style = \"text-align: right;\">-118.57</td><td style = \"text-align: right;\">34.23</td><td style = \"text-align: right;\">22.0</td><td style = \"text-align: right;\">3275.0</td><td style = \"text-align: right;\">648.0</td><td style = \"text-align: right;\">1746.0</td><td style = \"text-align: right;\">585.0</td><td style = \"text-align: right;\">4.9676</td><td style = \"text-align: left;\">&lt;1H OCEAN</td><td style = \"text-align: right;\">221900.0</td></tr><tr><td class = \"rowNumber\" style = \"font-weight: bold; text-align: right;\">4118</td><td style = \"text-align: right;\">-118.13</td><td style = \"text-align: right;\">34.05</td><td style = \"text-align: right;\">35.0</td><td style = \"text-align: right;\">3229.0</td><td style = \"text-align: right;\">616.0</td><td style = \"text-align: right;\">1879.0</td><td style = \"text-align: right;\">595.0</td><td style = \"text-align: right;\">3.9531</td><td style = \"text-align: left;\">&lt;1H OCEAN</td><td style = \"text-align: right;\">268400.0</td></tr><tr><td class = \"rowNumber\" style = \"font-weight: bold; text-align: right;\">4119</td><td style = \"text-align: right;\">-117.68</td><td style = \"text-align: right;\">33.55</td><td style = \"text-align: right;\">5.0</td><td style = \"text-align: right;\">2262.0</td><td style = \"text-align: right;\">427.0</td><td style = \"text-align: right;\">1016.0</td><td style = \"text-align: right;\">402.0</td><td style = \"text-align: right;\">6.065</td><td style = \"text-align: left;\">&lt;1H OCEAN</td><td style = \"text-align: right;\">315500.0</td></tr><tr><td class = \"rowNumber\" style = \"font-weight: bold; text-align: right;\">4120</td><td style = \"text-align: right;\">-122.08</td><td style = \"text-align: right;\">37.69</td><td style = \"text-align: right;\">36.0</td><td style = \"text-align: right;\">2350.0</td><td style = \"text-align: right;\">499.0</td><td style = \"text-align: right;\">1105.0</td><td style = \"text-align: right;\">467.0</td><td style = \"text-align: right;\">3.3021</td><td style = \"text-align: left;\">NEAR BAY</td><td style = \"text-align: right;\">195700.0</td></tr><tr><td class = \"rowNumber\" style = \"font-weight: bold; text-align: right;\">4121</td><td style = \"text-align: right;\">-117.87</td><td style = \"text-align: right;\">33.89</td><td style = \"text-align: right;\">17.0</td><td style = \"text-align: right;\">1441.0</td><td style = \"text-align: right;\">530.0</td><td style = \"text-align: right;\">769.0</td><td style = \"text-align: right;\">456.0</td><td style = \"text-align: right;\">2.425</td><td style = \"text-align: left;\">&lt;1H OCEAN</td><td style = \"text-align: right;\">171700.0</td></tr><tr><td class = \"rowNumber\" style = \"font-weight: bold; text-align: right;\">4122</td><td style = \"text-align: right;\">-117.98</td><td style = \"text-align: right;\">33.71</td><td style = \"text-align: right;\">26.0</td><td style = \"text-align: right;\">1905.0</td><td style = \"text-align: right;\">373.0</td><td style = \"text-align: right;\">1098.0</td><td style = \"text-align: right;\">368.0</td><td style = \"text-align: right;\">4.8611</td><td style = \"text-align: left;\">&lt;1H OCEAN</td><td style = \"text-align: right;\">229600.0</td></tr><tr><td class = \"rowNumber\" style = \"font-weight: bold; text-align: right;\">4123</td><td style = \"text-align: right;\">-118.21</td><td style = \"text-align: right;\">33.92</td><td style = \"text-align: right;\">37.0</td><td style = \"text-align: right;\">1705.0</td><td style = \"text-align: right;\">403.0</td><td style = \"text-align: right;\">1839.0</td><td style = \"text-align: right;\">410.0</td><td style = \"text-align: right;\">2.5833</td><td style = \"text-align: left;\">&lt;1H OCEAN</td><td style = \"text-align: right;\">132700.0</td></tr><tr><td class = \"rowNumber\" style = \"font-weight: bold; text-align: right;\">4124</td><td style = \"text-align: right;\">-119.7</td><td style = \"text-align: right;\">36.82</td><td style = \"text-align: right;\">25.0</td><td style = \"text-align: right;\">2379.0</td><td style = \"text-align: right;\">540.0</td><td style = \"text-align: right;\">1482.0</td><td style = \"text-align: right;\">484.0</td><td style = \"text-align: right;\">2.3173</td><td style = \"text-align: left;\">INLAND</td><td style = \"text-align: right;\">68200.0</td></tr><tr><td class = \"rowNumber\" style = \"font-weight: bold; text-align: right;\">4125</td><td style = \"text-align: right;\">-118.44</td><td style = \"text-align: right;\">34.04</td><td style = \"text-align: right;\">49.0</td><td style = \"text-align: right;\">32.0</td><td style = \"text-align: right;\">7.0</td><td style = \"text-align: right;\">14.0</td><td style = \"text-align: right;\">7.0</td><td style = \"text-align: right;\">2.1875</td><td style = \"text-align: left;\">&lt;1H OCEAN</td><td style = \"text-align: right;\">225000.0</td></tr><tr><td class = \"rowNumber\" style = \"font-weight: bold; text-align: right;\">4126</td><td style = \"text-align: right;\">-122.37</td><td style = \"text-align: right;\">37.6</td><td style = \"text-align: right;\">26.0</td><td style = \"text-align: right;\">15.0</td><td style = \"text-align: right;\">3.0</td><td style = \"text-align: right;\">11.0</td><td style = \"text-align: right;\">3.0</td><td style = \"text-align: right;\">5.048</td><td style = \"text-align: left;\">NEAR OCEAN</td><td style = \"text-align: right;\">350000.0</td></tr><tr><td class = \"rowNumber\" style = \"font-weight: bold; text-align: right;\">4127</td><td style = \"text-align: right;\">-118.1</td><td style = \"text-align: right;\">34.09</td><td style = \"text-align: right;\">42.0</td><td style = \"text-align: right;\">1460.0</td><td style = \"text-align: right;\">289.0</td><td style = \"text-align: right;\">829.0</td><td style = \"text-align: right;\">273.0</td><td style = \"text-align: right;\">4.875</td><td style = \"text-align: left;\">&lt;1H OCEAN</td><td style = \"text-align: right;\">227300.0</td></tr><tr><td class = \"rowNumber\" style = \"font-weight: bold; text-align: right;\">4128</td><td style = \"text-align: right;\">-117.38</td><td style = \"text-align: right;\">33.99</td><td style = \"text-align: right;\">52.0</td><td style = \"text-align: right;\">1797.0</td><td style = \"text-align: right;\">332.0</td><td style = \"text-align: right;\">905.0</td><td style = \"text-align: right;\">313.0</td><td style = \"text-align: right;\">2.7054</td><td style = \"text-align: left;\">INLAND</td><td style = \"text-align: right;\">141700.0</td></tr></tbody></table></div>"
      ],
      "text/latex": [
       "\\begin{tabular}{r|ccccccc}\n",
       "\t& longitude & latitude & housing\\_median\\_age & total\\_rooms & total\\_bedrooms & population & \\\\\n",
       "\t\\hline\n",
       "\t& Float64 & Float64 & Float64 & Float64 & Float64? & Float64 & \\\\\n",
       "\t\\hline\n",
       "\t1 & -118.36 & 34.06 & 39.0 & 2810.0 & 670.0 & 1109.0 & $\\dots$ \\\\\n",
       "\t2 & -119.78 & 36.78 & 37.0 & 2185.0 & 455.0 & 1143.0 & $\\dots$ \\\\\n",
       "\t3 & -122.42 & 37.73 & 46.0 & 1819.0 & 411.0 & 1534.0 & $\\dots$ \\\\\n",
       "\t4 & -122.28 & 37.81 & 52.0 & 340.0 & 97.0 & 200.0 & $\\dots$ \\\\\n",
       "\t5 & -118.13 & 33.82 & 37.0 & 1530.0 & 290.0 & 711.0 & $\\dots$ \\\\\n",
       "\t6 & -118.16 & 34.15 & 17.0 & 821.0 & 163.0 & 229.0 & $\\dots$ \\\\\n",
       "\t7 & -120.44 & 34.91 & 12.0 & 3189.0 & 463.0 & 1200.0 & $\\dots$ \\\\\n",
       "\t8 & -122.48 & 38.31 & 29.0 & 2375.0 & 560.0 & 1124.0 & $\\dots$ \\\\\n",
       "\t9 & -117.64 & 34.08 & 35.0 & 1254.0 & 241.0 & 729.0 & $\\dots$ \\\\\n",
       "\t10 & -118.16 & 34.04 & 45.0 & 332.0 & 70.0 & 302.0 & $\\dots$ \\\\\n",
       "\t11 & -122.44 & 37.78 & 31.0 & 1364.0 & 386.0 & 707.0 & $\\dots$ \\\\\n",
       "\t12 & -116.44 & 33.77 & 18.0 & 4872.0 & 1110.0 & 955.0 & $\\dots$ \\\\\n",
       "\t13 & -117.3 & 34.12 & 50.0 & 1629.0 & 437.0 & 1581.0 & $\\dots$ \\\\\n",
       "\t14 & -118.34 & 34.26 & 37.0 & 1776.0 & 301.0 & 702.0 & $\\dots$ \\\\\n",
       "\t15 & -117.37 & 33.97 & 34.0 & 3676.0 & 697.0 & 2653.0 & $\\dots$ \\\\\n",
       "\t16 & -118.24 & 33.97 & 37.0 & 1212.0 & 314.0 & 1403.0 & $\\dots$ \\\\\n",
       "\t17 & -121.87 & 37.22 & 17.0 & 2825.0 & 365.0 & 1052.0 & $\\dots$ \\\\\n",
       "\t18 & -117.89 & 34.12 & 35.0 & 1447.0 & 272.0 & 1224.0 & $\\dots$ \\\\\n",
       "\t19 & -118.09 & 34.07 & 31.0 & 1054.0 & 252.0 & 1032.0 & $\\dots$ \\\\\n",
       "\t20 & -122.46 & 37.72 & 49.0 & 1207.0 & 255.0 & 658.0 & $\\dots$ \\\\\n",
       "\t21 & -122.64 & 41.73 & 36.0 & 3319.0 & 664.0 & 1492.0 & $\\dots$ \\\\\n",
       "\t22 & -121.63 & 36.68 & 24.0 & 2591.0 & 739.0 & 3243.0 & $\\dots$ \\\\\n",
       "\t23 & -121.22 & 37.96 & 30.0 & 1737.0 & 381.0 & 1177.0 & $\\dots$ \\\\\n",
       "\t24 & -117.03 & 32.79 & 31.0 & 2366.0 & 383.0 & 1077.0 & $\\dots$ \\\\\n",
       "\t$\\dots$ & $\\dots$ & $\\dots$ & $\\dots$ & $\\dots$ & $\\dots$ & $\\dots$ &  \\\\\n",
       "\\end{tabular}\n"
      ],
      "text/plain": [
       "\u001b[1m4128×10 DataFrame\u001b[0m\n",
       "\u001b[1m  Row \u001b[0m│\u001b[1m longitude \u001b[0m\u001b[1m latitude \u001b[0m\u001b[1m housing_median_age \u001b[0m\u001b[1m total_rooms \u001b[0m\u001b[1m total_bedrooms \u001b[0m\u001b[1m \u001b[0m ⋯\n",
       "      │\u001b[90m Float64   \u001b[0m\u001b[90m Float64  \u001b[0m\u001b[90m Float64            \u001b[0m\u001b[90m Float64     \u001b[0m\u001b[90m Float64?       \u001b[0m\u001b[90m \u001b[0m ⋯\n",
       "──────┼─────────────────────────────────────────────────────────────────────────\n",
       "    1 │   -118.36     34.06                39.0       2810.0           670.0   ⋯\n",
       "    2 │   -119.78     36.78                37.0       2185.0           455.0\n",
       "    3 │   -122.42     37.73                46.0       1819.0           411.0\n",
       "    4 │   -122.28     37.81                52.0        340.0            97.0\n",
       "    5 │   -118.13     33.82                37.0       1530.0           290.0   ⋯\n",
       "    6 │   -118.16     34.15                17.0        821.0           163.0\n",
       "    7 │   -120.44     34.91                12.0       3189.0           463.0\n",
       "    8 │   -122.48     38.31                29.0       2375.0           560.0\n",
       "  ⋮   │     ⋮         ⋮              ⋮                ⋮             ⋮          ⋱\n",
       " 4122 │   -117.98     33.71                26.0       1905.0           373.0   ⋯\n",
       " 4123 │   -118.21     33.92                37.0       1705.0           403.0\n",
       " 4124 │   -119.7      36.82                25.0       2379.0           540.0\n",
       " 4125 │   -118.44     34.04                49.0         32.0             7.0\n",
       " 4126 │   -122.37     37.6                 26.0         15.0             3.0   ⋯\n",
       " 4127 │   -118.1      34.09                42.0       1460.0           289.0\n",
       " 4128 │   -117.38     33.99                52.0       1797.0           332.0\n",
       "\u001b[36m                                                 5 columns and 4113 rows omitted\u001b[0m"
      ]
     },
     "metadata": {},
     "output_type": "display_data"
    }
   ],
   "source": [
    "# initialize datasets\n",
    "train_df = DataFrame(CSV.File(\"../../data/train.csv\"))\n",
    "val_df = DataFrame(CSV.File(\"../../data/validation.csv\"))\n",
    "train_df = hcat(train_df, val_df) # merge train and validation data, this is because the split is done by sklearn\n",
    "test_df = DataFrame(CSV.File(\"../../data/test.csv\"))"
   ]
  },
  {
   "cell_type": "code",
   "execution_count": 3,
   "metadata": {},
   "outputs": [
    {
     "data": {
      "text/plain": [
       "apply_feature_engineering (generic function with 1 method)"
      ]
     },
     "metadata": {},
     "output_type": "display_data"
    }
   ],
   "source": [
    "#remove outliers values, q represents the quantile where the data outside them will be removed\n",
    "function remove_outliers( df::DataFrame, feat::String, q=0.05 )\n",
    "    Qi = quantile(df[:,feat], q)\n",
    "    Qf = quantile(df[:,feat], 1-q)\n",
    "    IQR = Qf-Qi\n",
    "\n",
    "    Qi -= 1.5*IQR\n",
    "    Qf += 1.5*IQR\n",
    "    \n",
    "    return df[ (df[:,feat] .> Qi) .& (df[:,feat] .< Qf) , : ]\n",
    "end\n",
    "\n",
    "function apply_feature_engineering(df::DataFrame, keep_outliers::Bool)\n",
    "    df.total_bedrooms .= coalesce.(df.total_bedrooms, mean(skipmissing(df.total_bedrooms)))\n",
    "    \n",
    "    #encode ocean_proximity column\n",
    "    custom_encoding = Dict(\"ISLAND\" => 4, \"NEAR OCEAN\" => 3, \"NEAR BAY\" => 2, \"<1H OCEAN\" => 1, \"INLAND\" => 0)\n",
    "    df.ocean_proximity_enc = get.(Ref(custom_encoding), df.ocean_proximity, missing)\n",
    "    select!(df, Not(:ocean_proximity))\n",
    "    \n",
    "    df.rooms_per_bedroom = df.total_rooms ./ df.total_bedrooms\n",
    "    df.rooms_per_household = df.total_rooms ./ df.households\n",
    "    df.encoded_position = df.longitude + df.latitude\n",
    "    df.population_per_bedrooms = df.population ./ df.total_bedrooms\n",
    "    df.target = df.median_house_value\n",
    "    select!(df, Not(:median_house_value))\n",
    "    \n",
    "    if !keep_outliers\n",
    "        for name in names(df)\n",
    "            df = remove_outliers(df, name, 0.05)\n",
    "        end\n",
    "    end\n",
    "    \n",
    "    return df\n",
    "end"
   ]
  },
  {
   "cell_type": "code",
   "execution_count": 4,
   "metadata": {},
   "outputs": [
    {
     "data": {
      "text/plain": [
       "rmse (generic function with 1 method)"
      ]
     },
     "metadata": {},
     "output_type": "display_data"
    }
   ],
   "source": [
    "function rmse(y_true::AbstractVector, y_pred::AbstractVector)\n",
    "    return sqrt(mean((y_pred .- y_true) .^ 2))\n",
    "end"
   ]
  },
  {
   "cell_type": "code",
   "execution_count": 22,
   "metadata": {},
   "outputs": [
    {
     "data": {
      "text/plain": [
       "split_target (generic function with 1 method)"
      ]
     },
     "metadata": {},
     "output_type": "display_data"
    }
   ],
   "source": [
    "# split the dataset into features and target\n",
    "function split_target(df::DataFrame)\n",
    "    x = Matrix(select(df, Not(:target)))\n",
    "    y = Vector(df.target)\n",
    "    return x, y\n",
    "end"
   ]
  },
  {
   "cell_type": "code",
   "execution_count": 23,
   "metadata": {},
   "outputs": [
    {
     "data": {
      "text/plain": [
       "([-118.36 34.06 … -84.3 1.655223880597015; -119.78 36.78 … -83.0 2.512087912087912; … ; -118.1 34.09 … -84.00999999999999 2.868512110726644; -117.38 33.99 … -83.38999999999999 2.7259036144578315], [355000.0, 70700.0, 229400.0, 112500.0, 225400.0, 263000.0, 226800.0, 166200.0, 118000.0, 156300.0  …  315500.0, 195700.0, 171700.0, 229600.0, 132700.0, 68200.0, 225000.0, 350000.0, 227300.0, 141700.0])"
      ]
     },
     "metadata": {},
     "output_type": "display_data"
    }
   ],
   "source": [
    "x_train, y_train = split_target(apply_feature_engineering(train_df, false))\n",
    "x_test, y_test = split_target(apply_feature_engineering(test_df, false))"
   ]
  },
  {
   "cell_type": "code",
   "execution_count": 8,
   "metadata": {},
   "outputs": [
    {
     "data": {
      "text/plain": [
       "build_model (generic function with 5 methods)"
      ]
     },
     "metadata": {},
     "output_type": "display_data"
    }
   ],
   "source": [
    "using ScikitLearn\n",
    "\n",
    "function build_model(layers::Vector{Int},\n",
    "                     activation_func::String = \"relu\",\n",
    "                     loss_func::String = \"squared_loss\",\n",
    "                     optimizer::String = \"adam\",\n",
    "                     patience::Int = 10)\n",
    "    \n",
    "    model = MLPRegressor(hidden_layer_sizes=tuple(layers...),\n",
    "                         activation=activation_func,\n",
    "                         solver=optimizer,\n",
    "                         alpha=0.01, # applied alpha regularization to replace dropout\n",
    "                         batch_size=100,\n",
    "                         learning_rate=\"constant\",\n",
    "                         learning_rate_init=0.001,\n",
    "                         max_iter=100,\n",
    "                         shuffle=true,\n",
    "                         tol=1e-4,\n",
    "                         early_stopping=true,\n",
    "                         validation_fraction=0.25,\n",
    "                         n_iter_no_change=patience)\n",
    "    \n",
    "    return model\n",
    "end"
   ]
  },
  {
   "cell_type": "code",
   "execution_count": 9,
   "metadata": {},
   "outputs": [
    {
     "data": {
      "text/html": [
       "<style>#sk-container-id-3 {color: black;background-color: white;}#sk-container-id-3 pre{padding: 0;}#sk-container-id-3 div.sk-toggleable {background-color: white;}#sk-container-id-3 label.sk-toggleable__label {cursor: pointer;display: block;width: 100%;margin-bottom: 0;padding: 0.3em;box-sizing: border-box;text-align: center;}#sk-container-id-3 label.sk-toggleable__label-arrow:before {content: \"▸\";float: left;margin-right: 0.25em;color: #696969;}#sk-container-id-3 label.sk-toggleable__label-arrow:hover:before {color: black;}#sk-container-id-3 div.sk-estimator:hover label.sk-toggleable__label-arrow:before {color: black;}#sk-container-id-3 div.sk-toggleable__content {max-height: 0;max-width: 0;overflow: hidden;text-align: left;background-color: #f0f8ff;}#sk-container-id-3 div.sk-toggleable__content pre {margin: 0.2em;color: black;border-radius: 0.25em;background-color: #f0f8ff;}#sk-container-id-3 input.sk-toggleable__control:checked~div.sk-toggleable__content {max-height: 200px;max-width: 100%;overflow: auto;}#sk-container-id-3 input.sk-toggleable__control:checked~label.sk-toggleable__label-arrow:before {content: \"▾\";}#sk-container-id-3 div.sk-estimator input.sk-toggleable__control:checked~label.sk-toggleable__label {background-color: #d4ebff;}#sk-container-id-3 div.sk-label input.sk-toggleable__control:checked~label.sk-toggleable__label {background-color: #d4ebff;}#sk-container-id-3 input.sk-hidden--visually {border: 0;clip: rect(1px 1px 1px 1px);clip: rect(1px, 1px, 1px, 1px);height: 1px;margin: -1px;overflow: hidden;padding: 0;position: absolute;width: 1px;}#sk-container-id-3 div.sk-estimator {font-family: monospace;background-color: #f0f8ff;border: 1px dotted black;border-radius: 0.25em;box-sizing: border-box;margin-bottom: 0.5em;}#sk-container-id-3 div.sk-estimator:hover {background-color: #d4ebff;}#sk-container-id-3 div.sk-parallel-item::after {content: \"\";width: 100%;border-bottom: 1px solid gray;flex-grow: 1;}#sk-container-id-3 div.sk-label:hover label.sk-toggleable__label {background-color: #d4ebff;}#sk-container-id-3 div.sk-serial::before {content: \"\";position: absolute;border-left: 1px solid gray;box-sizing: border-box;top: 0;bottom: 0;left: 50%;z-index: 0;}#sk-container-id-3 div.sk-serial {display: flex;flex-direction: column;align-items: center;background-color: white;padding-right: 0.2em;padding-left: 0.2em;position: relative;}#sk-container-id-3 div.sk-item {position: relative;z-index: 1;}#sk-container-id-3 div.sk-parallel {display: flex;align-items: stretch;justify-content: center;background-color: white;position: relative;}#sk-container-id-3 div.sk-item::before, #sk-container-id-3 div.sk-parallel-item::before {content: \"\";position: absolute;border-left: 1px solid gray;box-sizing: border-box;top: 0;bottom: 0;left: 50%;z-index: -1;}#sk-container-id-3 div.sk-parallel-item {display: flex;flex-direction: column;z-index: 1;position: relative;background-color: white;}#sk-container-id-3 div.sk-parallel-item:first-child::after {align-self: flex-end;width: 50%;}#sk-container-id-3 div.sk-parallel-item:last-child::after {align-self: flex-start;width: 50%;}#sk-container-id-3 div.sk-parallel-item:only-child::after {width: 0;}#sk-container-id-3 div.sk-dashed-wrapped {border: 1px dashed gray;margin: 0 0.4em 0.5em 0.4em;box-sizing: border-box;padding-bottom: 0.4em;background-color: white;}#sk-container-id-3 div.sk-label label {font-family: monospace;font-weight: bold;display: inline-block;line-height: 1.2em;}#sk-container-id-3 div.sk-label-container {text-align: center;}#sk-container-id-3 div.sk-container {/* jupyter's `normalize.less` sets `[hidden] { display: none; }` but bootstrap.min.css set `[hidden] { display: none !important; }` so we also need the `!important` here to be able to override the default hidden behavior on the sphinx rendered scikit-learn.org. See: https://github.com/scikit-learn/scikit-learn/issues/21755 */display: inline-block !important;position: relative;}#sk-container-id-3 div.sk-text-repr-fallback {display: none;}</style><div id=\"sk-container-id-3\" class=\"sk-top-container\"><div class=\"sk-text-repr-fallback\"><pre>MLPRegressor(alpha=0.01, batch_size=100, early_stopping=True,\n",
       "             hidden_layer_sizes=(64, 32, 16), max_iter=100,\n",
       "             validation_fraction=0.25)</pre><b>In a Jupyter environment, please rerun this cell to show the HTML representation or trust the notebook. <br />On GitHub, the HTML representation is unable to render, please try loading this page with nbviewer.org.</b></div><div class=\"sk-container\" hidden><div class=\"sk-item\"><div class=\"sk-estimator sk-toggleable\"><input class=\"sk-toggleable__control sk-hidden--visually\" id=\"sk-estimator-id-3\" type=\"checkbox\" checked><label for=\"sk-estimator-id-3\" class=\"sk-toggleable__label sk-toggleable__label-arrow\">MLPRegressor</label><div class=\"sk-toggleable__content\"><pre>MLPRegressor(alpha=0.01, batch_size=100, early_stopping=True,\n",
       "             hidden_layer_sizes=(64, 32, 16), max_iter=100,\n",
       "             validation_fraction=0.25)</pre></div></div></div></div></div>"
      ],
      "text/plain": [
       "PyObject MLPRegressor(alpha=0.01, batch_size=100, early_stopping=True,\n",
       "             hidden_layer_sizes=(64, 32, 16), max_iter=100,\n",
       "             validation_fraction=0.25)"
      ]
     },
     "metadata": {},
     "output_type": "display_data"
    }
   ],
   "source": [
    "model = build_model([64, 32, 16])"
   ]
  },
  {
   "cell_type": "code",
   "execution_count": 12,
   "metadata": {},
   "outputs": [
    {
     "data": {
      "text/plain": [
       "ScikitLearn.Skcore.Pipeline(Tuple{Any, Any}[(\"scaler\", PyObject StandardScaler()), (\"model\", PyObject MLPRegressor(alpha=0.01, batch_size=100, early_stopping=True,\n",
       "             hidden_layer_sizes=(64, 32, 16), max_iter=100,\n",
       "             validation_fraction=0.25))], Any[PyObject StandardScaler(), PyObject MLPRegressor(alpha=0.01, batch_size=100, early_stopping=True,\n",
       "             hidden_layer_sizes=(64, 32, 16), max_iter=100,\n",
       "             validation_fraction=0.25)])"
      ]
     },
     "metadata": {},
     "output_type": "display_data"
    }
   ],
   "source": [
    "pipe = ScikitLearn.Pipelines.Pipeline([(\"scaler\", StandardScaler()), (\"model\", model)])"
   ]
  },
  {
   "cell_type": "code",
   "execution_count": 24,
   "metadata": {},
   "outputs": [
    {
     "name": "stderr",
     "output_type": "stream",
     "text": [
      "C:\\Users\\tcivi\\.julia\\conda\\3\\x86_64\\lib\\site-packages\\sklearn\\neural_network\\_multilayer_perceptron.py:686: ConvergenceWarning: Stochastic Optimizer: Maximum iterations (100) reached and the optimization hasn't converged yet.\n",
      "  warnings.warn(\n"
     ]
    },
    {
     "data": {
      "text/plain": [
       "ScikitLearn.Skcore.Pipeline(Tuple{Any, Any}[(\"scaler\", PyObject StandardScaler()), (\"model\", PyObject MLPRegressor(alpha=0.01, batch_size=100, early_stopping=True,\n",
       "             hidden_layer_sizes=(64, 32, 16), max_iter=100,\n",
       "             validation_fraction=0.25))], Any[PyObject StandardScaler(), PyObject MLPRegressor(alpha=0.01, batch_size=100, early_stopping=True,\n",
       "             hidden_layer_sizes=(64, 32, 16), max_iter=100,\n",
       "             validation_fraction=0.25)])"
      ]
     },
     "metadata": {},
     "output_type": "display_data"
    }
   ],
   "source": [
    "fit!(pipe, x_test, y_test)"
   ]
  },
  {
   "cell_type": "code",
   "execution_count": 35,
   "metadata": {},
   "outputs": [
    {
     "name": "stdout",
     "output_type": "stream",
     "text": [
      "Mean Squared Error on Test Set: 68596.8787927076\n"
     ]
    }
   ],
   "source": [
    "# X_test_transformed = transform(pipe, x_test)\n",
    "y_pred = predict(pipe, x_test)\n",
    "mse = rmse(y_test, y_pred)\n",
    "println(\"Mean Squared Error on Test Set: \", mse)"
   ]
  }
 ],
 "metadata": {
  "kernelspec": {
   "display_name": "Julia 1.10.2",
   "language": "julia",
   "name": "julia-1.10"
  },
  "language_info": {
   "file_extension": ".jl",
   "mimetype": "application/julia",
   "name": "julia",
   "version": "1.10.2"
  }
 },
 "nbformat": 4,
 "nbformat_minor": 2
}
