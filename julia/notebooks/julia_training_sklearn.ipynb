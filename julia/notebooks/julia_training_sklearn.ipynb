{
 "cells": [
  {
   "cell_type": "code",
   "execution_count": null,
   "metadata": {
    "vscode": {
     "languageId": "julia"
    }
   },
   "outputs": [],
   "source": [
    "using Pkg\n",
    "deps = [\"DataFrames\", \"CSV\", \"ScikitLearn\", \"Statistics\", \"CUDA\"]\n",
    "Pkg.add(deps)"
   ]
  },
  {
   "cell_type": "code",
   "execution_count": null,
   "metadata": {
    "vscode": {
     "languageId": "julia"
    }
   },
   "outputs": [],
   "source": [
    "using DataFrames, CSV, ScikitLearn, Statistics, CUDA"
   ]
  },
  {
   "cell_type": "code",
   "execution_count": null,
   "metadata": {
    "vscode": {
     "languageId": "julia"
    }
   },
   "outputs": [],
   "source": [
    "test_df = DataFrame(CSV.File(\"../../data/test.csv\"))\n"
   ]
  },
  {
   "cell_type": "code",
   "execution_count": null,
   "metadata": {
    "vscode": {
     "languageId": "julia"
    }
   },
   "outputs": [],
   "source": [
    "function remove_outliers( df::DataFrame, feat::String, q=0.05 )\n",
    "    Qi = quantile(df[:,feat], q)\n",
    "    Qf = quantile(df[:,feat], 1-q)\n",
    "    IQR = Qf-Qi\n",
    "\n",
    "    Qi -= 1.5*IQR\n",
    "    Qf += 1.5*IQR\n",
    "    \n",
    "    return df[ (df[:,feat] .> Qi) .& (df[:,feat] .< Qf) , : ]\n",
    "end\n",
    "\n",
    "function apply_feature_engineering(df::DataFrame, keep_outliers::Bool)\n",
    "    df.total_bedrooms .= coalesce.(df.total_bedrooms, mean(skipmissing(df.total_bedrooms)))\n",
    "    \n",
    "    custom_encoding = Dict(\"ISLAND\" => 4, \"NEAR OCEAN\" => 3, \"NEAR BAY\" => 2, \"<1H OCEAN\" => 1, \"INLAND\" => 0)\n",
    "    df.ocean_proximity_enc = get.(Ref(custom_encoding), df.ocean_proximity, missing)\n",
    "    select!(df, Not(:ocean_proximity))\n",
    "    \n",
    "    df.rooms_per_bedroom = df.total_rooms ./ df.total_bedrooms\n",
    "    df.rooms_per_household = df.total_rooms ./ df.households\n",
    "    df.encoded_position = df.longitude + df.latitude\n",
    "    df.population_per_bedrooms = df.population ./ df.total_bedrooms\n",
    "    df.target = df.median_house_value\n",
    "    select!(df, Not(:median_house_value))\n",
    "    \n",
    "    if !keep_outliers\n",
    "        for name in names(df)\n",
    "            df = remove_outliers(df, name, 0.05)\n",
    "        end\n",
    "    end\n",
    "    \n",
    "    return df\n",
    "end"
   ]
  },
  {
   "cell_type": "code",
   "execution_count": null,
   "metadata": {
    "vscode": {
     "languageId": "julia"
    }
   },
   "outputs": [],
   "source": [
    "function rmse(y_true::AbstractVector, y_pred::AbstractVector)\n",
    "    return sqrt(mean((y_pred .- y_true) .^ 2))\n",
    "end"
   ]
  },
  {
   "cell_type": "code",
   "execution_count": null,
   "metadata": {
    "vscode": {
     "languageId": "julia"
    }
   },
   "outputs": [],
   "source": [
    "function split_target(df::DataFrame)\n",
    "    x = transpose(Matrix(select(df, Not(:target))))\n",
    "    y = Vector(df.target)\n",
    "    return x, y\n",
    "end"
   ]
  },
  {
   "cell_type": "code",
   "execution_count": null,
   "metadata": {
    "vscode": {
     "languageId": "julia"
    }
   },
   "outputs": [],
   "source": [
    "using ScikitLearn\n",
    "using ScikitLearn.CrossValidation: train_test_split\n",
    "using ScikitLearn: fit!, predict\n",
    "\n",
    "@sk_import neural_network: MLPRegressor\n",
    "@sk_import metrics: mean_squared_error\n",
    "\n",
    "function build_model(inputs::Int,\n",
    "                     layers::Vector{Int},\n",
    "                     activation_func::String = \"relu\",\n",
    "                     loss_func::String = \"squared_loss\",\n",
    "                     optimizer::String = \"adam\"\n",
    "                     patience::Int = 10)\n",
    "    \n",
    "    model = MLPRegressor(hidden_layer_sizes=tuple(layers...),\n",
    "                         activation=activation_func,\n",
    "                         solver=optimizer,\n",
    "                         alpha=0.0,\n",
    "                         batch_size=\"auto\",\n",
    "                         learning_rate=\"constant\",\n",
    "                         learning_rate_init=0.001,\n",
    "                         max_iter=200,\n",
    "                         shuffle=true,\n",
    "                         tol=1e-4,\n",
    "                         verbose=false,\n",
    "                         warm_start=false,\n",
    "                         momentum=0.9,\n",
    "                         nesterovs_momentum=true,\n",
    "                         early_stopping=true,\n",
    "                         validation_fraction=0.1,\n",
    "                         beta_1=0.9,\n",
    "                         beta_2=0.999,\n",
    "                         epsilon=1e-8,\n",
    "                         n_iter_no_change=patience)\n",
    "    \n",
    "    return model\n",
    "end"
   ]
  }
 ],
 "metadata": {
  "language_info": {
   "name": "python"
  }
 },
 "nbformat": 4,
 "nbformat_minor": 2
}
