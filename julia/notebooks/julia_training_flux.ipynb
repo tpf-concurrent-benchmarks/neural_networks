{
 "cells": [
  {
   "cell_type": "markdown",
   "id": "c40f287f-eb29-43ae-b776-a36de4794a5b",
   "metadata": {},
   "source": [
    "# Training"
   ]
  },
  {
   "cell_type": "code",
   "execution_count": null,
   "id": "ecfefcf4",
   "metadata": {},
   "outputs": [
    {
     "name": "stderr",
     "output_type": "stream",
     "text": [
      "\u001b[32m\u001b[1m   Resolving\u001b[22m\u001b[39m package versions...\n",
      "\u001b[32m\u001b[1m   Installed\u001b[22m\u001b[39m CUDNN_jll ─ v9.0.0+1\n",
      "\u001b[32m\u001b[1m   Installed\u001b[22m\u001b[39m cuDNN ───── v1.3.1\n",
      "\u001b[32m\u001b[1m    Updating\u001b[22m\u001b[39m `~/.julia/environments/v1.10/Project.toml`\n",
      "  \u001b[90m[02a925ec] \u001b[39m\u001b[92m+ cuDNN v1.3.1\u001b[39m\n",
      "\u001b[32m\u001b[1m    Updating\u001b[22m\u001b[39m `~/.julia/environments/v1.10/Manifest.toml`\n",
      "  \u001b[90m[02a925ec] \u001b[39m\u001b[92m+ cuDNN v1.3.1\u001b[39m\n",
      "  \u001b[90m[62b44479] \u001b[39m\u001b[92m+ CUDNN_jll v9.0.0+1\u001b[39m\n",
      "\u001b[32m\u001b[1mPrecompiling\u001b[22m\u001b[39m project...\n",
      "\u001b[32m  ✓ \u001b[39m\u001b[90mCUDNN_jll\u001b[39m\n",
      "\u001b[32m  ✓ \u001b[39mcuDNN\n",
      "\u001b[32m  ✓ \u001b[39m\u001b[90mNNlib → NNlibCUDACUDNNExt\u001b[39m\n",
      "\u001b[32m  ✓ \u001b[39m\u001b[90mFlux → FluxCUDAcuDNNExt\u001b[39m\n",
      "  4 dependencies successfully precompiled in 13 seconds. 166 already precompiled.\n"
     ]
    }
   ],
   "source": [
    "# installing dependencies, remove if already installed\n",
    "using Pkg\n",
    "deps = [\"DataFrames\", \"CSV\", \"ScikitLearn\", \"Statistics\", \"Flux\", \"CUDA\", \"cuDNN\"]\n",
    "Pkg.add(deps)"
   ]
  },
  {
   "cell_type": "code",
   "execution_count": 1,
   "id": "3a0ee701-32fa-4d7e-af8e-443a6495abdd",
   "metadata": {},
   "outputs": [
    {
     "name": "stderr",
     "output_type": "stream",
     "text": [
      "\u001b[32m\u001b[1mPrecompiling\u001b[22m\u001b[39m CUDA\n",
      "\u001b[32m  ✓ \u001b[39mCUDA\n",
      "  1 dependency successfully precompiled in 37 seconds. 70 already precompiled.\n",
      "\u001b[32m\u001b[1mPrecompiling\u001b[22m\u001b[39m NNlibCUDAExt\n",
      "\u001b[32m  ✓ \u001b[39m\u001b[90mNNlib → NNlibCUDAExt\u001b[39m\n",
      "  1 dependency successfully precompiled in 6 seconds. 72 already precompiled.\n",
      "\u001b[32m\u001b[1mPrecompiling\u001b[22m\u001b[39m FluxCUDAExt\n",
      "\u001b[32m  ✓ \u001b[39m\u001b[90mCUDNN_jll\u001b[39m\n",
      "\u001b[32m  ✓ \u001b[39m\u001b[90mCUDA → SpecialFunctionsExt\u001b[39m\n",
      "\u001b[32m  ✓ \u001b[39mcuDNN\n",
      "\u001b[32m  ✓ \u001b[39m\u001b[90mNNlib → NNlibCUDACUDNNExt\u001b[39m\n",
      "\u001b[32m  ✓ \u001b[39m\u001b[90mFlux → FluxCUDAExt\u001b[39m\n",
      "\u001b[32m  ✓ \u001b[39m\u001b[90mFlux → FluxCUDAcuDNNExt\u001b[39m\n",
      "  6 dependencies successfully precompiled in 18 seconds. 141 already precompiled.\n"
     ]
    }
   ],
   "source": [
    "using DataFrames, CSV, ScikitLearn, Statistics, Flux, CUDA"
   ]
  },
  {
   "cell_type": "code",
   "execution_count": 2,
   "id": "a9e699ec-622a-401c-92ea-ccad68a0c3e4",
   "metadata": {},
   "outputs": [
    {
     "ename": "LoadError",
     "evalue": "CUDA error (code 35, UnknownMember)",
     "output_type": "error",
     "traceback": [
      "CUDA error (code 35, UnknownMember)",
      "",
      "Stacktrace:",
      " [1] throw_api_error(res::CUDA.cudaError_enum)",
      "   @ CUDA ~/.julia/packages/CUDA/02Uw6/lib/cudadrv/libcuda.jl:30",
      " [2] check",
      "   @ ~/.julia/packages/CUDA/02Uw6/lib/cudadrv/libcuda.jl:37 [inlined]",
      " [3] runtime_version()",
      "   @ CUDA ~/.julia/packages/CUDA/02Uw6/lib/cudadrv/version.jl:37",
      " [4] top-level scope",
      "   @ In[2]:1"
     ]
    }
   ],
   "source": [
    "CUDA.runtime_version()"
   ]
  },
  {
   "cell_type": "code",
   "execution_count": 3,
   "id": "4e2eaa99-0bf0-4d47-b8e1-269f387bbc19",
   "metadata": {},
   "outputs": [
    {
     "name": "stderr",
     "output_type": "stream",
     "text": [
      "\u001b[36m\u001b[1m[ \u001b[22m\u001b[39m\u001b[36m\u001b[1mInfo: \u001b[22m\u001b[39mConfigure the active project to use CUDA 12.0; please re-start Julia for this to take effect.\n"
     ]
    }
   ],
   "source": [
    "CUDA.set_runtime_version!(v\"12.0.140\")"
   ]
  },
  {
   "cell_type": "code",
   "execution_count": 4,
   "id": "b53d02f1-6e48-4f8d-91f0-ffa6c39f1ba3",
   "metadata": {},
   "outputs": [
    {
     "ename": "LoadError",
     "evalue": "UndefVarError: `libcuda` not defined",
     "output_type": "error",
     "traceback": [
      "UndefVarError: `libcuda` not defined",
      "",
      "Stacktrace:",
      " [1] macro expansion",
      "   @ ~/.julia/packages/CUDA/02Uw6/lib/utils/call.jl:217 [inlined]",
      " [2] macro expansion",
      "   @ ~/.julia/packages/CUDA/02Uw6/lib/cudadrv/libcuda.jl:3172 [inlined]",
      " [3] (::CUDA.var\"#147#148\"{Base.RefValue{Int32}})()",
      "   @ CUDA ~/.julia/packages/CUDA/02Uw6/lib/utils/call.jl:31",
      " [4] check",
      "   @ ~/.julia/packages/CUDA/02Uw6/lib/cudadrv/libcuda.jl:35 [inlined]",
      " [5] cuDriverGetVersion",
      "   @ ~/.julia/packages/CUDA/02Uw6/lib/utils/call.jl:30 [inlined]",
      " [6] driver_version()",
      "   @ CUDA ~/.julia/packages/CUDA/02Uw6/lib/cudadrv/version.jl:10",
      " [7] top-level scope",
      "   @ In[4]:1"
     ]
    }
   ],
   "source": [
    "CUDA.driver_version()"
   ]
  },
  {
   "cell_type": "code",
   "execution_count": 6,
   "id": "7f6595a4-cf76-4f74-b5cd-79db74bedd00",
   "metadata": {},
   "outputs": [],
   "source": [
    "CUDA.system_driver_version()"
   ]
  },
  {
   "cell_type": "code",
   "execution_count": 7,
   "id": "e2c8b7e0",
   "metadata": {},
   "outputs": [
    {
     "ename": "LoadError",
     "evalue": "CUDA driver not found",
     "output_type": "error",
     "traceback": [
      "CUDA driver not found",
      "",
      "Stacktrace:",
      " [1] error(s::String)",
      "   @ Base ./error.jl:35",
      " [2] functional(show_reason::Bool)",
      "   @ CUDA ~/.julia/packages/CUDA/02Uw6/src/initialization.jl:24",
      " [3] top-level scope",
      "   @ In[7]:1"
     ]
    }
   ],
   "source": [
    "@assert CUDA.functional(true) #check gpu support"
   ]
  },
  {
   "cell_type": "code",
   "execution_count": 8,
   "id": "27be30ea-1752-4ca2-ae5c-ed1bf9117f2d",
   "metadata": {},
   "outputs": [
    {
     "ename": "LoadError",
     "evalue": "CUDA driver not found",
     "output_type": "error",
     "traceback": [
      "CUDA driver not found",
      "",
      "Stacktrace:",
      " [1] error(s::String)",
      "   @ Base ./error.jl:35",
      " [2] functional",
      "   @ ~/.julia/packages/CUDA/02Uw6/src/initialization.jl:24 [inlined]",
      " [3] versioninfo(io::IJulia.IJuliaStdio{Base.PipeEndpoint})",
      "   @ CUDA ~/.julia/packages/CUDA/02Uw6/src/utilities.jl:42",
      " [4] top-level scope",
      "   @ In[8]:1"
     ]
    }
   ],
   "source": [
    "CUDA.versioninfo()"
   ]
  },
  {
   "cell_type": "code",
   "execution_count": 4,
   "id": "03c4963b",
   "metadata": {},
   "outputs": [
    {
     "data": {
      "text/html": [
       "<div><div style = \"float: left;\"><span>4128×10 DataFrame</span></div><div style = \"float: right;\"><span style = \"font-style: italic;\">4103 rows omitted</span></div><div style = \"clear: both;\"></div></div><div class = \"data-frame\" style = \"overflow-x: scroll;\"><table class = \"data-frame\" style = \"margin-bottom: 6px;\"><thead><tr class = \"header\"><th class = \"rowNumber\" style = \"font-weight: bold; text-align: right;\">Row</th><th style = \"text-align: left;\">longitude</th><th style = \"text-align: left;\">latitude</th><th style = \"text-align: left;\">housing_median_age</th><th style = \"text-align: left;\">total_rooms</th><th style = \"text-align: left;\">total_bedrooms</th><th style = \"text-align: left;\">population</th><th style = \"text-align: left;\">households</th><th style = \"text-align: left;\">median_income</th><th style = \"text-align: left;\">ocean_proximity</th><th style = \"text-align: left;\">median_house_value</th></tr><tr class = \"subheader headerLastRow\"><th class = \"rowNumber\" style = \"font-weight: bold; text-align: right;\"></th><th title = \"Float64\" style = \"text-align: left;\">Float64</th><th title = \"Float64\" style = \"text-align: left;\">Float64</th><th title = \"Float64\" style = \"text-align: left;\">Float64</th><th title = \"Float64\" style = \"text-align: left;\">Float64</th><th title = \"Union{Missing, Float64}\" style = \"text-align: left;\">Float64?</th><th title = \"Float64\" style = \"text-align: left;\">Float64</th><th title = \"Float64\" style = \"text-align: left;\">Float64</th><th title = \"Float64\" style = \"text-align: left;\">Float64</th><th title = \"String15\" style = \"text-align: left;\">String15</th><th title = \"Float64\" style = \"text-align: left;\">Float64</th></tr></thead><tbody><tr><td class = \"rowNumber\" style = \"font-weight: bold; text-align: right;\">1</td><td style = \"text-align: right;\">-118.36</td><td style = \"text-align: right;\">34.06</td><td style = \"text-align: right;\">39.0</td><td style = \"text-align: right;\">2810.0</td><td style = \"text-align: right;\">670.0</td><td style = \"text-align: right;\">1109.0</td><td style = \"text-align: right;\">624.0</td><td style = \"text-align: right;\">3.25</td><td style = \"text-align: left;\">&lt;1H OCEAN</td><td style = \"text-align: right;\">355000.0</td></tr><tr><td class = \"rowNumber\" style = \"font-weight: bold; text-align: right;\">2</td><td style = \"text-align: right;\">-119.78</td><td style = \"text-align: right;\">36.78</td><td style = \"text-align: right;\">37.0</td><td style = \"text-align: right;\">2185.0</td><td style = \"text-align: right;\">455.0</td><td style = \"text-align: right;\">1143.0</td><td style = \"text-align: right;\">438.0</td><td style = \"text-align: right;\">1.9784</td><td style = \"text-align: left;\">INLAND</td><td style = \"text-align: right;\">70700.0</td></tr><tr><td class = \"rowNumber\" style = \"font-weight: bold; text-align: right;\">3</td><td style = \"text-align: right;\">-122.42</td><td style = \"text-align: right;\">37.73</td><td style = \"text-align: right;\">46.0</td><td style = \"text-align: right;\">1819.0</td><td style = \"text-align: right;\">411.0</td><td style = \"text-align: right;\">1534.0</td><td style = \"text-align: right;\">406.0</td><td style = \"text-align: right;\">4.0132</td><td style = \"text-align: left;\">NEAR BAY</td><td style = \"text-align: right;\">229400.0</td></tr><tr><td class = \"rowNumber\" style = \"font-weight: bold; text-align: right;\">4</td><td style = \"text-align: right;\">-122.28</td><td style = \"text-align: right;\">37.81</td><td style = \"text-align: right;\">52.0</td><td style = \"text-align: right;\">340.0</td><td style = \"text-align: right;\">97.0</td><td style = \"text-align: right;\">200.0</td><td style = \"text-align: right;\">87.0</td><td style = \"text-align: right;\">1.5208</td><td style = \"text-align: left;\">NEAR BAY</td><td style = \"text-align: right;\">112500.0</td></tr><tr><td class = \"rowNumber\" style = \"font-weight: bold; text-align: right;\">5</td><td style = \"text-align: right;\">-118.13</td><td style = \"text-align: right;\">33.82</td><td style = \"text-align: right;\">37.0</td><td style = \"text-align: right;\">1530.0</td><td style = \"text-align: right;\">290.0</td><td style = \"text-align: right;\">711.0</td><td style = \"text-align: right;\">283.0</td><td style = \"text-align: right;\">5.1795</td><td style = \"text-align: left;\">&lt;1H OCEAN</td><td style = \"text-align: right;\">225400.0</td></tr><tr><td class = \"rowNumber\" style = \"font-weight: bold; text-align: right;\">6</td><td style = \"text-align: right;\">-118.16</td><td style = \"text-align: right;\">34.15</td><td style = \"text-align: right;\">17.0</td><td style = \"text-align: right;\">821.0</td><td style = \"text-align: right;\">163.0</td><td style = \"text-align: right;\">229.0</td><td style = \"text-align: right;\">164.0</td><td style = \"text-align: right;\">7.3715</td><td style = \"text-align: left;\">&lt;1H OCEAN</td><td style = \"text-align: right;\">263000.0</td></tr><tr><td class = \"rowNumber\" style = \"font-weight: bold; text-align: right;\">7</td><td style = \"text-align: right;\">-120.44</td><td style = \"text-align: right;\">34.91</td><td style = \"text-align: right;\">12.0</td><td style = \"text-align: right;\">3189.0</td><td style = \"text-align: right;\">463.0</td><td style = \"text-align: right;\">1200.0</td><td style = \"text-align: right;\">442.0</td><td style = \"text-align: right;\">5.299</td><td style = \"text-align: left;\">&lt;1H OCEAN</td><td style = \"text-align: right;\">226800.0</td></tr><tr><td class = \"rowNumber\" style = \"font-weight: bold; text-align: right;\">8</td><td style = \"text-align: right;\">-122.48</td><td style = \"text-align: right;\">38.31</td><td style = \"text-align: right;\">29.0</td><td style = \"text-align: right;\">2375.0</td><td style = \"text-align: right;\">560.0</td><td style = \"text-align: right;\">1124.0</td><td style = \"text-align: right;\">502.0</td><td style = \"text-align: right;\">2.3276</td><td style = \"text-align: left;\">&lt;1H OCEAN</td><td style = \"text-align: right;\">166200.0</td></tr><tr><td class = \"rowNumber\" style = \"font-weight: bold; text-align: right;\">9</td><td style = \"text-align: right;\">-117.64</td><td style = \"text-align: right;\">34.08</td><td style = \"text-align: right;\">35.0</td><td style = \"text-align: right;\">1254.0</td><td style = \"text-align: right;\">241.0</td><td style = \"text-align: right;\">729.0</td><td style = \"text-align: right;\">253.0</td><td style = \"text-align: right;\">3.495</td><td style = \"text-align: left;\">INLAND</td><td style = \"text-align: right;\">118000.0</td></tr><tr><td class = \"rowNumber\" style = \"font-weight: bold; text-align: right;\">10</td><td style = \"text-align: right;\">-118.16</td><td style = \"text-align: right;\">34.04</td><td style = \"text-align: right;\">45.0</td><td style = \"text-align: right;\">332.0</td><td style = \"text-align: right;\">70.0</td><td style = \"text-align: right;\">302.0</td><td style = \"text-align: right;\">60.0</td><td style = \"text-align: right;\">3.1895</td><td style = \"text-align: left;\">&lt;1H OCEAN</td><td style = \"text-align: right;\">156300.0</td></tr><tr><td class = \"rowNumber\" style = \"font-weight: bold; text-align: right;\">11</td><td style = \"text-align: right;\">-122.44</td><td style = \"text-align: right;\">37.78</td><td style = \"text-align: right;\">31.0</td><td style = \"text-align: right;\">1364.0</td><td style = \"text-align: right;\">386.0</td><td style = \"text-align: right;\">707.0</td><td style = \"text-align: right;\">379.0</td><td style = \"text-align: right;\">3.1607</td><td style = \"text-align: left;\">NEAR BAY</td><td style = \"text-align: right;\">293800.0</td></tr><tr><td class = \"rowNumber\" style = \"font-weight: bold; text-align: right;\">12</td><td style = \"text-align: right;\">-116.44</td><td style = \"text-align: right;\">33.77</td><td style = \"text-align: right;\">18.0</td><td style = \"text-align: right;\">4872.0</td><td style = \"text-align: right;\">1110.0</td><td style = \"text-align: right;\">955.0</td><td style = \"text-align: right;\">656.0</td><td style = \"text-align: right;\">2.2439</td><td style = \"text-align: left;\">INLAND</td><td style = \"text-align: right;\">97500.0</td></tr><tr><td class = \"rowNumber\" style = \"font-weight: bold; text-align: right;\">13</td><td style = \"text-align: right;\">-117.3</td><td style = \"text-align: right;\">34.12</td><td style = \"text-align: right;\">50.0</td><td style = \"text-align: right;\">1629.0</td><td style = \"text-align: right;\">437.0</td><td style = \"text-align: right;\">1581.0</td><td style = \"text-align: right;\">394.0</td><td style = \"text-align: right;\">2.2019</td><td style = \"text-align: left;\">INLAND</td><td style = \"text-align: right;\">63500.0</td></tr><tr><td style = \"text-align: right;\">&vellip;</td><td style = \"text-align: right;\">&vellip;</td><td style = \"text-align: right;\">&vellip;</td><td style = \"text-align: right;\">&vellip;</td><td style = \"text-align: right;\">&vellip;</td><td style = \"text-align: right;\">&vellip;</td><td style = \"text-align: right;\">&vellip;</td><td style = \"text-align: right;\">&vellip;</td><td style = \"text-align: right;\">&vellip;</td><td style = \"text-align: right;\">&vellip;</td><td style = \"text-align: right;\">&vellip;</td></tr><tr><td class = \"rowNumber\" style = \"font-weight: bold; text-align: right;\">4117</td><td style = \"text-align: right;\">-118.57</td><td style = \"text-align: right;\">34.23</td><td style = \"text-align: right;\">22.0</td><td style = \"text-align: right;\">3275.0</td><td style = \"text-align: right;\">648.0</td><td style = \"text-align: right;\">1746.0</td><td style = \"text-align: right;\">585.0</td><td style = \"text-align: right;\">4.9676</td><td style = \"text-align: left;\">&lt;1H OCEAN</td><td style = \"text-align: right;\">221900.0</td></tr><tr><td class = \"rowNumber\" style = \"font-weight: bold; text-align: right;\">4118</td><td style = \"text-align: right;\">-118.13</td><td style = \"text-align: right;\">34.05</td><td style = \"text-align: right;\">35.0</td><td style = \"text-align: right;\">3229.0</td><td style = \"text-align: right;\">616.0</td><td style = \"text-align: right;\">1879.0</td><td style = \"text-align: right;\">595.0</td><td style = \"text-align: right;\">3.9531</td><td style = \"text-align: left;\">&lt;1H OCEAN</td><td style = \"text-align: right;\">268400.0</td></tr><tr><td class = \"rowNumber\" style = \"font-weight: bold; text-align: right;\">4119</td><td style = \"text-align: right;\">-117.68</td><td style = \"text-align: right;\">33.55</td><td style = \"text-align: right;\">5.0</td><td style = \"text-align: right;\">2262.0</td><td style = \"text-align: right;\">427.0</td><td style = \"text-align: right;\">1016.0</td><td style = \"text-align: right;\">402.0</td><td style = \"text-align: right;\">6.065</td><td style = \"text-align: left;\">&lt;1H OCEAN</td><td style = \"text-align: right;\">315500.0</td></tr><tr><td class = \"rowNumber\" style = \"font-weight: bold; text-align: right;\">4120</td><td style = \"text-align: right;\">-122.08</td><td style = \"text-align: right;\">37.69</td><td style = \"text-align: right;\">36.0</td><td style = \"text-align: right;\">2350.0</td><td style = \"text-align: right;\">499.0</td><td style = \"text-align: right;\">1105.0</td><td style = \"text-align: right;\">467.0</td><td style = \"text-align: right;\">3.3021</td><td style = \"text-align: left;\">NEAR BAY</td><td style = \"text-align: right;\">195700.0</td></tr><tr><td class = \"rowNumber\" style = \"font-weight: bold; text-align: right;\">4121</td><td style = \"text-align: right;\">-117.87</td><td style = \"text-align: right;\">33.89</td><td style = \"text-align: right;\">17.0</td><td style = \"text-align: right;\">1441.0</td><td style = \"text-align: right;\">530.0</td><td style = \"text-align: right;\">769.0</td><td style = \"text-align: right;\">456.0</td><td style = \"text-align: right;\">2.425</td><td style = \"text-align: left;\">&lt;1H OCEAN</td><td style = \"text-align: right;\">171700.0</td></tr><tr><td class = \"rowNumber\" style = \"font-weight: bold; text-align: right;\">4122</td><td style = \"text-align: right;\">-117.98</td><td style = \"text-align: right;\">33.71</td><td style = \"text-align: right;\">26.0</td><td style = \"text-align: right;\">1905.0</td><td style = \"text-align: right;\">373.0</td><td style = \"text-align: right;\">1098.0</td><td style = \"text-align: right;\">368.0</td><td style = \"text-align: right;\">4.8611</td><td style = \"text-align: left;\">&lt;1H OCEAN</td><td style = \"text-align: right;\">229600.0</td></tr><tr><td class = \"rowNumber\" style = \"font-weight: bold; text-align: right;\">4123</td><td style = \"text-align: right;\">-118.21</td><td style = \"text-align: right;\">33.92</td><td style = \"text-align: right;\">37.0</td><td style = \"text-align: right;\">1705.0</td><td style = \"text-align: right;\">403.0</td><td style = \"text-align: right;\">1839.0</td><td style = \"text-align: right;\">410.0</td><td style = \"text-align: right;\">2.5833</td><td style = \"text-align: left;\">&lt;1H OCEAN</td><td style = \"text-align: right;\">132700.0</td></tr><tr><td class = \"rowNumber\" style = \"font-weight: bold; text-align: right;\">4124</td><td style = \"text-align: right;\">-119.7</td><td style = \"text-align: right;\">36.82</td><td style = \"text-align: right;\">25.0</td><td style = \"text-align: right;\">2379.0</td><td style = \"text-align: right;\">540.0</td><td style = \"text-align: right;\">1482.0</td><td style = \"text-align: right;\">484.0</td><td style = \"text-align: right;\">2.3173</td><td style = \"text-align: left;\">INLAND</td><td style = \"text-align: right;\">68200.0</td></tr><tr><td class = \"rowNumber\" style = \"font-weight: bold; text-align: right;\">4125</td><td style = \"text-align: right;\">-118.44</td><td style = \"text-align: right;\">34.04</td><td style = \"text-align: right;\">49.0</td><td style = \"text-align: right;\">32.0</td><td style = \"text-align: right;\">7.0</td><td style = \"text-align: right;\">14.0</td><td style = \"text-align: right;\">7.0</td><td style = \"text-align: right;\">2.1875</td><td style = \"text-align: left;\">&lt;1H OCEAN</td><td style = \"text-align: right;\">225000.0</td></tr><tr><td class = \"rowNumber\" style = \"font-weight: bold; text-align: right;\">4126</td><td style = \"text-align: right;\">-122.37</td><td style = \"text-align: right;\">37.6</td><td style = \"text-align: right;\">26.0</td><td style = \"text-align: right;\">15.0</td><td style = \"text-align: right;\">3.0</td><td style = \"text-align: right;\">11.0</td><td style = \"text-align: right;\">3.0</td><td style = \"text-align: right;\">5.048</td><td style = \"text-align: left;\">NEAR OCEAN</td><td style = \"text-align: right;\">350000.0</td></tr><tr><td class = \"rowNumber\" style = \"font-weight: bold; text-align: right;\">4127</td><td style = \"text-align: right;\">-118.1</td><td style = \"text-align: right;\">34.09</td><td style = \"text-align: right;\">42.0</td><td style = \"text-align: right;\">1460.0</td><td style = \"text-align: right;\">289.0</td><td style = \"text-align: right;\">829.0</td><td style = \"text-align: right;\">273.0</td><td style = \"text-align: right;\">4.875</td><td style = \"text-align: left;\">&lt;1H OCEAN</td><td style = \"text-align: right;\">227300.0</td></tr><tr><td class = \"rowNumber\" style = \"font-weight: bold; text-align: right;\">4128</td><td style = \"text-align: right;\">-117.38</td><td style = \"text-align: right;\">33.99</td><td style = \"text-align: right;\">52.0</td><td style = \"text-align: right;\">1797.0</td><td style = \"text-align: right;\">332.0</td><td style = \"text-align: right;\">905.0</td><td style = \"text-align: right;\">313.0</td><td style = \"text-align: right;\">2.7054</td><td style = \"text-align: left;\">INLAND</td><td style = \"text-align: right;\">141700.0</td></tr></tbody></table></div>"
      ],
      "text/latex": [
       "\\begin{tabular}{r|ccccccc}\n",
       "\t& longitude & latitude & housing\\_median\\_age & total\\_rooms & total\\_bedrooms & population & \\\\\n",
       "\t\\hline\n",
       "\t& Float64 & Float64 & Float64 & Float64 & Float64? & Float64 & \\\\\n",
       "\t\\hline\n",
       "\t1 & -118.36 & 34.06 & 39.0 & 2810.0 & 670.0 & 1109.0 & $\\dots$ \\\\\n",
       "\t2 & -119.78 & 36.78 & 37.0 & 2185.0 & 455.0 & 1143.0 & $\\dots$ \\\\\n",
       "\t3 & -122.42 & 37.73 & 46.0 & 1819.0 & 411.0 & 1534.0 & $\\dots$ \\\\\n",
       "\t4 & -122.28 & 37.81 & 52.0 & 340.0 & 97.0 & 200.0 & $\\dots$ \\\\\n",
       "\t5 & -118.13 & 33.82 & 37.0 & 1530.0 & 290.0 & 711.0 & $\\dots$ \\\\\n",
       "\t6 & -118.16 & 34.15 & 17.0 & 821.0 & 163.0 & 229.0 & $\\dots$ \\\\\n",
       "\t7 & -120.44 & 34.91 & 12.0 & 3189.0 & 463.0 & 1200.0 & $\\dots$ \\\\\n",
       "\t8 & -122.48 & 38.31 & 29.0 & 2375.0 & 560.0 & 1124.0 & $\\dots$ \\\\\n",
       "\t9 & -117.64 & 34.08 & 35.0 & 1254.0 & 241.0 & 729.0 & $\\dots$ \\\\\n",
       "\t10 & -118.16 & 34.04 & 45.0 & 332.0 & 70.0 & 302.0 & $\\dots$ \\\\\n",
       "\t11 & -122.44 & 37.78 & 31.0 & 1364.0 & 386.0 & 707.0 & $\\dots$ \\\\\n",
       "\t12 & -116.44 & 33.77 & 18.0 & 4872.0 & 1110.0 & 955.0 & $\\dots$ \\\\\n",
       "\t13 & -117.3 & 34.12 & 50.0 & 1629.0 & 437.0 & 1581.0 & $\\dots$ \\\\\n",
       "\t14 & -118.34 & 34.26 & 37.0 & 1776.0 & 301.0 & 702.0 & $\\dots$ \\\\\n",
       "\t15 & -117.37 & 33.97 & 34.0 & 3676.0 & 697.0 & 2653.0 & $\\dots$ \\\\\n",
       "\t16 & -118.24 & 33.97 & 37.0 & 1212.0 & 314.0 & 1403.0 & $\\dots$ \\\\\n",
       "\t17 & -121.87 & 37.22 & 17.0 & 2825.0 & 365.0 & 1052.0 & $\\dots$ \\\\\n",
       "\t18 & -117.89 & 34.12 & 35.0 & 1447.0 & 272.0 & 1224.0 & $\\dots$ \\\\\n",
       "\t19 & -118.09 & 34.07 & 31.0 & 1054.0 & 252.0 & 1032.0 & $\\dots$ \\\\\n",
       "\t20 & -122.46 & 37.72 & 49.0 & 1207.0 & 255.0 & 658.0 & $\\dots$ \\\\\n",
       "\t21 & -122.64 & 41.73 & 36.0 & 3319.0 & 664.0 & 1492.0 & $\\dots$ \\\\\n",
       "\t22 & -121.63 & 36.68 & 24.0 & 2591.0 & 739.0 & 3243.0 & $\\dots$ \\\\\n",
       "\t23 & -121.22 & 37.96 & 30.0 & 1737.0 & 381.0 & 1177.0 & $\\dots$ \\\\\n",
       "\t24 & -117.03 & 32.79 & 31.0 & 2366.0 & 383.0 & 1077.0 & $\\dots$ \\\\\n",
       "\t$\\dots$ & $\\dots$ & $\\dots$ & $\\dots$ & $\\dots$ & $\\dots$ & $\\dots$ &  \\\\\n",
       "\\end{tabular}\n"
      ],
      "text/plain": [
       "\u001b[1m4128×10 DataFrame\u001b[0m\n",
       "\u001b[1m  Row \u001b[0m│\u001b[1m longitude \u001b[0m\u001b[1m latitude \u001b[0m\u001b[1m housing_median_age \u001b[0m\u001b[1m total_rooms \u001b[0m\u001b[1m total_bedrooms \u001b[0m\u001b[1m \u001b[0m ⋯\n",
       "      │\u001b[90m Float64   \u001b[0m\u001b[90m Float64  \u001b[0m\u001b[90m Float64            \u001b[0m\u001b[90m Float64     \u001b[0m\u001b[90m Float64?       \u001b[0m\u001b[90m \u001b[0m ⋯\n",
       "──────┼─────────────────────────────────────────────────────────────────────────\n",
       "    1 │   -118.36     34.06                39.0       2810.0           670.0   ⋯\n",
       "    2 │   -119.78     36.78                37.0       2185.0           455.0\n",
       "    3 │   -122.42     37.73                46.0       1819.0           411.0\n",
       "    4 │   -122.28     37.81                52.0        340.0            97.0\n",
       "    5 │   -118.13     33.82                37.0       1530.0           290.0   ⋯\n",
       "    6 │   -118.16     34.15                17.0        821.0           163.0\n",
       "    7 │   -120.44     34.91                12.0       3189.0           463.0\n",
       "    8 │   -122.48     38.31                29.0       2375.0           560.0\n",
       "  ⋮   │     ⋮         ⋮              ⋮                ⋮             ⋮          ⋱\n",
       " 4122 │   -117.98     33.71                26.0       1905.0           373.0   ⋯\n",
       " 4123 │   -118.21     33.92                37.0       1705.0           403.0\n",
       " 4124 │   -119.7      36.82                25.0       2379.0           540.0\n",
       " 4125 │   -118.44     34.04                49.0         32.0             7.0\n",
       " 4126 │   -122.37     37.6                 26.0         15.0             3.0   ⋯\n",
       " 4127 │   -118.1      34.09                42.0       1460.0           289.0\n",
       " 4128 │   -117.38     33.99                52.0       1797.0           332.0\n",
       "\u001b[36m                                                 5 columns and 4113 rows omitted\u001b[0m"
      ]
     },
     "metadata": {},
     "output_type": "display_data"
    }
   ],
   "source": [
    "# initialize datasets\n",
    "train_df = DataFrame(CSV.File(\"../../data/train.csv\"))\n",
    "val_df = DataFrame(CSV.File(\"../../data/validation.csv\"))\n",
    "test_df = DataFrame(CSV.File(\"../../data/test.csv\"))"
   ]
  },
  {
   "cell_type": "code",
   "execution_count": 5,
   "id": "8c78b73e",
   "metadata": {},
   "outputs": [
    {
     "data": {
      "text/plain": [
       "apply_feature_engineering (generic function with 1 method)"
      ]
     },
     "metadata": {},
     "output_type": "display_data"
    }
   ],
   "source": [
    "#remove outliers values, q represents the quantile where the data outside them will be removed\n",
    "function remove_outliers( df::DataFrame, feat::String, q=0.05 )\n",
    "    Qi = quantile(df[:,feat], q)\n",
    "    Qf = quantile(df[:,feat], 1-q)\n",
    "    IQR = Qf-Qi\n",
    "\n",
    "    Qi -= 1.5*IQR\n",
    "    Qf += 1.5*IQR\n",
    "    \n",
    "    return df[ (df[:,feat] .> Qi) .& (df[:,feat] .< Qf) , : ]\n",
    "end\n",
    "\n",
    "function apply_feature_engineering(df::DataFrame, keep_outliers::Bool)\n",
    "    df.total_bedrooms .= coalesce.(df.total_bedrooms, mean(skipmissing(df.total_bedrooms)))\n",
    "    \n",
    "    #encode ocean_proximity column\n",
    "    custom_encoding = Dict(\"ISLAND\" => 4, \"NEAR OCEAN\" => 3, \"NEAR BAY\" => 2, \"<1H OCEAN\" => 1, \"INLAND\" => 0)\n",
    "    df.ocean_proximity_enc = get.(Ref(custom_encoding), df.ocean_proximity, missing)\n",
    "    select!(df, Not(:ocean_proximity))\n",
    "    \n",
    "    df.rooms_per_bedroom = df.total_rooms ./ df.total_bedrooms\n",
    "    df.rooms_per_household = df.total_rooms ./ df.households\n",
    "    df.encoded_position = df.longitude + df.latitude\n",
    "    df.population_per_bedrooms = df.population ./ df.total_bedrooms\n",
    "    df.target = df.median_house_value\n",
    "    select!(df, Not(:median_house_value))\n",
    "    \n",
    "    if !keep_outliers\n",
    "        for name in names(df)\n",
    "            df = remove_outliers(df, name, 0.05)\n",
    "        end\n",
    "    end\n",
    "    \n",
    "    return df\n",
    "end"
   ]
  },
  {
   "cell_type": "code",
   "execution_count": 11,
   "id": "d0d4f7d8",
   "metadata": {},
   "outputs": [
    {
     "data": {
      "text/plain": [
       "rmse (generic function with 1 method)"
      ]
     },
     "metadata": {},
     "output_type": "display_data"
    }
   ],
   "source": [
    "function rmse(y_true::AbstractVector, y_pred::AbstractVector)\n",
    "    return sqrt(mean((y_pred .- y_true) .^ 2))\n",
    "end"
   ]
  },
  {
   "cell_type": "code",
   "execution_count": 7,
   "id": "36e92cf8",
   "metadata": {},
   "outputs": [
    {
     "data": {
      "text/plain": [
       "split_target (generic function with 1 method)"
      ]
     },
     "metadata": {},
     "output_type": "display_data"
    }
   ],
   "source": [
    "# split the dataset into features and target, specifically for flux we need to transpose the features matrix\n",
    "function split_target(df::DataFrame)\n",
    "    x = transpose(Matrix(select(df, Not(:target))))\n",
    "    y = Vector(df.target)\n",
    "    return x, y\n",
    "end"
   ]
  },
  {
   "cell_type": "code",
   "execution_count": 42,
   "id": "08d80137",
   "metadata": {},
   "outputs": [
    {
     "data": {
      "text/plain": [
       "simple_train_model (generic function with 7 methods)"
      ]
     },
     "metadata": {},
     "output_type": "display_data"
    }
   ],
   "source": [
    "function build_model(inputs::Int,\n",
    "    layers::Vector{Int},\n",
    "    layers_per_dropout::Int=0,\n",
    "    dropout_rate::Float64=0.0,\n",
    "    activation_func::Function=Flux.relu\n",
    ")\n",
    "    layer_vec = Vector{Any}()\n",
    "    push!(layer_vec, Flux.Dense(inputs => layers[1], activation_func)) #add input layer\n",
    "\n",
    "    count = 1\n",
    "    for i in 2:length(layers)\n",
    "        push!(layer_vec, Flux.Dense(layers[i-1] => layers[i], activation_func))\n",
    "        count += 1\n",
    "        if layers_per_dropout > 0 && count % layers_per_dropout == 0\n",
    "            push!(layer_vec, Flux.Dropout(dropout_rate))\n",
    "            count = 0\n",
    "        end\n",
    "    end\n",
    "    push!(layer_vec, Flux.Dense(last(layers) => 1))\n",
    "    model = Flux.Chain(layer_vec) |> gpu #move the modelt to the gpu\n",
    "    return model\n",
    "end\n",
    "\n",
    "function simple_train_model(train_df::DataFrame,\n",
    "    test_df::DataFrame,\n",
    "    layers::Vector{Int},\n",
    "    layers_per_dropout::Int=0,\n",
    "    dropout_rate::Float64=0.0,\n",
    "    activation_func::Function=Flux.relu,\n",
    "    loss_func::Function=Flux.mse,\n",
    "    optimizer=Flux.ADAM,\n",
    "    patience::Int=20\n",
    ")\n",
    "\n",
    "    x_train, y_train = split_target(apply_feature_engineering(train_df, false))\n",
    "    x_test, y_test = split_target(apply_feature_engineering(test_df, false)) |> gpu\n",
    "\n",
    "    model = build_model(size(x_train, 1), layers, layers_per_dropout, dropout_rate, activation_func)\n",
    "    opt = Flux.setup(optimizer(), model)\n",
    "    y_train = reshape(y_train, 1, :) \n",
    "    y_test = reshape(y_test, 1, :)\n",
    "\n",
    "    acc = let best_loss = Inf #early stopping callback\n",
    "        () -> begin\n",
    "            loss_func(model(x_test), y_test)\n",
    "        end \n",
    "    end\n",
    "    es = Flux.early_stopping(acc, patience, init_score = Inf)\n",
    "\n",
    "    for epoch in 1:100\n",
    "        Flux.train!(model, [(x_train, y_train)] |> gpu, opt) do m, x, y\n",
    "            y_hat = m(x)\n",
    "            loss_func(y_hat, y)\n",
    "        end\n",
    "\n",
    "        if es()\n",
    "            println(\"Early stopping at epoch \", epoch)\n",
    "            break\n",
    "        end\n",
    "    end\n",
    "\n",
    "    println(\"done\")\n",
    "    return model\n",
    "end"
   ]
  },
  {
   "cell_type": "code",
   "execution_count": 43,
   "id": "c33f972e",
   "metadata": {},
   "outputs": [
    {
     "name": "stderr",
     "output_type": "stream",
     "text": [
      "┌ Info: The CUDA function is being called but CUDA.jl is not functional.\n",
      "│ Defaulting back to the CPU. (No action is required if you want to run on the CPU).\n",
      "└ @ FluxCUDAExt C:\\Users\\tcivi\\.julia\\packages\\Flux\\Wz6D4\\ext\\FluxCUDAExt\\FluxCUDAExt.jl:35\n"
     ]
    },
    {
     "name": "stdout",
     "output_type": "stream",
     "text": [
      "done\n"
     ]
    },
    {
     "data": {
      "text/plain": [
       "Chain([\n",
       "  Array(\n",
       "    Dense(13 => 64, relu),              \u001b[90m# 896 parameters\u001b[39m\n",
       "    Dense(64 => 32, relu),              \u001b[90m# 2_080 parameters\u001b[39m\n",
       "    Dropout(0.2),\n",
       "    Dense(32 => 16, relu),              \u001b[90m# 528 parameters\u001b[39m\n",
       "    Dense(16 => 1),                     \u001b[90m# 17 parameters\u001b[39m\n",
       "  ),\n",
       "])\u001b[90m                  # Total: 8 arrays, \u001b[39m3_521 parameters, 14.230 KiB."
      ]
     },
     "metadata": {},
     "output_type": "display_data"
    }
   ],
   "source": [
    "model = simple_train_model(train_df, val_df, [64, 32, 16], 2, 0.2)"
   ]
  },
  {
   "cell_type": "code",
   "execution_count": 44,
   "id": "148654db",
   "metadata": {},
   "outputs": [
    {
     "name": "stdout",
     "output_type": "stream",
     "text": [
      "RMSE on test data: 126361.63818513002\n"
     ]
    }
   ],
   "source": [
    "x_test, y_test = split_target(apply_feature_engineering(copy(test_df), true))\n",
    "\n",
    "# Evaluate the model on the test data\n",
    "predictions = model(x_test)\n",
    "\n",
    "# Check the RMSE\n",
    "_rmse = sqrt(mean((predictions .- y_test) .^ 2))\n",
    "println(\"RMSE on test data: \", _rmse)"
   ]
  },
  {
   "cell_type": "code",
   "execution_count": 45,
   "id": "44784a47",
   "metadata": {},
   "outputs": [
    {
     "data": {
      "text/plain": [
       "126361.63818513002"
      ]
     },
     "metadata": {},
     "output_type": "display_data"
    }
   ],
   "source": [
    "_rmse"
   ]
  }
 ],
 "metadata": {
  "kernelspec": {
   "display_name": "Julia 1.10.2",
   "language": "julia",
   "name": "julia-1.10"
  },
  "language_info": {
   "file_extension": ".jl",
   "mimetype": "application/julia",
   "name": "julia",
   "version": "1.10.2"
  }
 },
 "nbformat": 4,
 "nbformat_minor": 5
}
