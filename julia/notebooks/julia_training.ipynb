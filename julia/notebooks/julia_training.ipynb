{
 "cells": [
  {
   "cell_type": "markdown",
   "id": "c40f287f-eb29-43ae-b776-a36de4794a5b",
   "metadata": {},
   "source": [
    "# Training"
   ]
  },
  {
   "cell_type": "code",
   "execution_count": null,
   "id": "bb043179",
   "metadata": {},
   "outputs": [],
   "source": []
  },
  {
   "cell_type": "code",
   "execution_count": 1,
   "id": "ecfefcf4",
   "metadata": {},
   "outputs": [
    {
     "name": "stderr",
     "output_type": "stream",
     "text": [
      "\u001b[32m\u001b[1m  Installing\u001b[22m\u001b[39m known registries into `C:\\Users\\tcivi\\.julia`\n",
      "\u001b[32m\u001b[1m    Updating\u001b[22m\u001b[39m registry at `C:\\Users\\tcivi\\.julia\\registries\\General.toml`\n",
      "\u001b[32m\u001b[1m   Resolving\u001b[22m\u001b[39m package versions...\n",
      "\u001b[32m\u001b[1m   Installed\u001b[22m\u001b[39m IrrationalConstants ───────── v0.2.2\n",
      "\u001b[32m\u001b[1m   Installed\u001b[22m\u001b[39m ScikitLearnBase ───────────── v0.5.0\n",
      "\u001b[32m\u001b[1m   Installed\u001b[22m\u001b[39m Conda ─────────────────────── v1.10.0\n",
      "\u001b[32m\u001b[1m   Installed\u001b[22m\u001b[39m Crayons ───────────────────── v4.1.1\n",
      "\u001b[32m\u001b[1m   Installed\u001b[22m\u001b[39m JSON ──────────────────────── v0.21.4\n",
      "\u001b[32m\u001b[1m   Installed\u001b[22m\u001b[39m Preferences ───────────────── v1.4.3\n",
      "\u001b[32m\u001b[1m   Installed\u001b[22m\u001b[39m IterTools ─────────────────── v1.10.0\n",
      "\u001b[32m\u001b[1m   Installed\u001b[22m\u001b[39m TableTraits ───────────────── v1.0.1\n",
      "\u001b[32m\u001b[1m   Installed\u001b[22m\u001b[39m Tables ────────────────────── v1.11.1\n",
      "\u001b[32m\u001b[1m   Installed\u001b[22m\u001b[39m Parsers ───────────────────── v2.8.1\n",
      "\u001b[32m\u001b[1m   Installed\u001b[22m\u001b[39m PyCall ────────────────────── v1.96.4\n",
      "\u001b[32m\u001b[1m   Installed\u001b[22m\u001b[39m SentinelArrays ────────────── v1.4.1\n",
      "\u001b[32m\u001b[1m   Installed\u001b[22m\u001b[39m DataAPI ───────────────────── v1.16.0\n",
      "\u001b[32m\u001b[1m   Installed\u001b[22m\u001b[39m PrettyTables ──────────────── v2.3.1\n",
      "\u001b[32m\u001b[1m   Installed\u001b[22m\u001b[39m ScikitLearn ───────────────── v0.7.0\n",
      "\u001b[32m\u001b[1m   Installed\u001b[22m\u001b[39m PooledArrays ──────────────── v1.4.3\n",
      "\u001b[32m\u001b[1m   Installed\u001b[22m\u001b[39m InlineStrings ─────────────── v1.4.0\n",
      "\u001b[32m\u001b[1m   Installed\u001b[22m\u001b[39m DataValueInterfaces ───────── v1.0.0\n",
      "\u001b[32m\u001b[1m   Installed\u001b[22m\u001b[39m IteratorInterfaceExtensions ─ v1.0.0\n",
      "\u001b[32m\u001b[1m   Installed\u001b[22m\u001b[39m PrecompileTools ───────────── v1.2.1\n",
      "\u001b[32m\u001b[1m   Installed\u001b[22m\u001b[39m VersionParsing ────────────── v1.3.0\n",
      "\u001b[32m\u001b[1m   Installed\u001b[22m\u001b[39m CSV ───────────────────────── v0.10.14\n",
      "\u001b[32m\u001b[1m   Installed\u001b[22m\u001b[39m WorkerUtilities ───────────── v1.6.1\n",
      "\u001b[32m\u001b[1m   Installed\u001b[22m\u001b[39m OrderedCollections ────────── v1.6.3\n",
      "\u001b[32m\u001b[1m   Installed\u001b[22m\u001b[39m LaTeXStrings ──────────────── v1.3.1\n",
      "\u001b[32m\u001b[1m   Installed\u001b[22m\u001b[39m TranscodingStreams ────────── v0.10.7\n",
      "\u001b[32m\u001b[1m   Installed\u001b[22m\u001b[39m InvertedIndices ───────────── v1.3.0\n",
      "\u001b[32m\u001b[1m   Installed\u001b[22m\u001b[39m WeakRefStrings ────────────── v1.4.2\n",
      "\u001b[32m\u001b[1m   Installed\u001b[22m\u001b[39m Reexport ──────────────────── v1.2.2\n",
      "\u001b[32m\u001b[1m   Installed\u001b[22m\u001b[39m FilePathsBase ─────────────── v0.9.21\n",
      "\u001b[32m\u001b[1m   Installed\u001b[22m\u001b[39m DataStructures ────────────── v0.18.19\n",
      "\u001b[32m\u001b[1m   Installed\u001b[22m\u001b[39m LogExpFunctions ───────────── v0.3.27\n",
      "\u001b[32m\u001b[1m   Installed\u001b[22m\u001b[39m MacroTools ────────────────── v0.5.13\n",
      "\u001b[32m\u001b[1m   Installed\u001b[22m\u001b[39m StatsAPI ──────────────────── v1.7.0\n",
      "\u001b[32m\u001b[1m   Installed\u001b[22m\u001b[39m DataFrames ────────────────── v1.6.1\n",
      "\u001b[32m\u001b[1m   Installed\u001b[22m\u001b[39m UnPack ────────────────────── v1.0.2\n",
      "\u001b[32m\u001b[1m   Installed\u001b[22m\u001b[39m CodecZlib ─────────────────── v0.7.4\n",
      "\u001b[32m\u001b[1m   Installed\u001b[22m\u001b[39m Compat ────────────────────── v4.14.0\n",
      "\u001b[32m\u001b[1m   Installed\u001b[22m\u001b[39m Parameters ────────────────── v0.12.3\n",
      "\u001b[32m\u001b[1m   Installed\u001b[22m\u001b[39m StringManipulation ────────── v0.3.4\n",
      "\u001b[32m\u001b[1m   Installed\u001b[22m\u001b[39m SortingAlgorithms ─────────── v1.2.1\n",
      "\u001b[32m\u001b[1m   Installed\u001b[22m\u001b[39m StatsBase ─────────────────── v0.33.21\n",
      "\u001b[32m\u001b[1m   Installed\u001b[22m\u001b[39m Missings ──────────────────── v1.2.0\n",
      "\u001b[32m\u001b[1m   Installed\u001b[22m\u001b[39m DocStringExtensions ───────── v0.9.3\n",
      "\u001b[32m\u001b[1m    Updating\u001b[22m\u001b[39m `C:\\Users\\tcivi\\.julia\\environments\\v1.10\\Project.toml`\n",
      "  \u001b[90m[336ed68f] \u001b[39m\u001b[92m+ CSV v0.10.14\u001b[39m\n",
      "  \u001b[90m[a93c6f00] \u001b[39m\u001b[92m+ DataFrames v1.6.1\u001b[39m\n",
      "  \u001b[90m[3646fa90] \u001b[39m\u001b[92m+ ScikitLearn v0.7.0\u001b[39m\n",
      "  \u001b[90m[10745b16] \u001b[39m\u001b[92m+ Statistics v1.10.0\u001b[39m\n",
      "\u001b[32m\u001b[1m    Updating\u001b[22m\u001b[39m `C:\\Users\\tcivi\\.julia\\environments\\v1.10\\Manifest.toml`\n",
      "  \u001b[90m[336ed68f] \u001b[39m\u001b[92m+ CSV v0.10.14\u001b[39m\n",
      "  \u001b[90m[944b1d66] \u001b[39m\u001b[92m+ CodecZlib v0.7.4\u001b[39m\n",
      "  \u001b[90m[34da2185] \u001b[39m\u001b[92m+ Compat v4.14.0\u001b[39m\n",
      "  \u001b[90m[8f4d0f93] \u001b[39m\u001b[92m+ Conda v1.10.0\u001b[39m\n",
      "  \u001b[90m[a8cc5b0e] \u001b[39m\u001b[92m+ Crayons v4.1.1\u001b[39m\n",
      "  \u001b[90m[9a962f9c] \u001b[39m\u001b[92m+ DataAPI v1.16.0\u001b[39m\n",
      "  \u001b[90m[a93c6f00] \u001b[39m\u001b[92m+ DataFrames v1.6.1\u001b[39m\n",
      "  \u001b[90m[864edb3b] \u001b[39m\u001b[92m+ DataStructures v0.18.19\u001b[39m\n",
      "  \u001b[90m[e2d170a0] \u001b[39m\u001b[92m+ DataValueInterfaces v1.0.0\u001b[39m\n",
      "  \u001b[90m[ffbed154] \u001b[39m\u001b[92m+ DocStringExtensions v0.9.3\u001b[39m\n",
      "  \u001b[90m[48062228] \u001b[39m\u001b[92m+ FilePathsBase v0.9.21\u001b[39m\n",
      "  \u001b[90m[842dd82b] \u001b[39m\u001b[92m+ InlineStrings v1.4.0\u001b[39m\n",
      "  \u001b[90m[41ab1584] \u001b[39m\u001b[92m+ InvertedIndices v1.3.0\u001b[39m\n",
      "  \u001b[90m[92d709cd] \u001b[39m\u001b[92m+ IrrationalConstants v0.2.2\u001b[39m\n",
      "  \u001b[90m[c8e1da08] \u001b[39m\u001b[92m+ IterTools v1.10.0\u001b[39m\n",
      "  \u001b[90m[82899510] \u001b[39m\u001b[92m+ IteratorInterfaceExtensions v1.0.0\u001b[39m\n",
      "  \u001b[90m[682c06a0] \u001b[39m\u001b[92m+ JSON v0.21.4\u001b[39m\n",
      "  \u001b[90m[b964fa9f] \u001b[39m\u001b[92m+ LaTeXStrings v1.3.1\u001b[39m\n",
      "  \u001b[90m[2ab3a3ac] \u001b[39m\u001b[92m+ LogExpFunctions v0.3.27\u001b[39m\n",
      "  \u001b[90m[1914dd2f] \u001b[39m\u001b[92m+ MacroTools v0.5.13\u001b[39m\n",
      "  \u001b[90m[e1d29d7a] \u001b[39m\u001b[92m+ Missings v1.2.0\u001b[39m\n",
      "  \u001b[90m[bac558e1] \u001b[39m\u001b[92m+ OrderedCollections v1.6.3\u001b[39m\n",
      "  \u001b[90m[d96e819e] \u001b[39m\u001b[92m+ Parameters v0.12.3\u001b[39m\n",
      "  \u001b[90m[69de0a69] \u001b[39m\u001b[92m+ Parsers v2.8.1\u001b[39m\n",
      "  \u001b[90m[2dfb63ee] \u001b[39m\u001b[92m+ PooledArrays v1.4.3\u001b[39m\n",
      "  \u001b[90m[aea7be01] \u001b[39m\u001b[92m+ PrecompileTools v1.2.1\u001b[39m\n",
      "  \u001b[90m[21216c6a] \u001b[39m\u001b[92m+ Preferences v1.4.3\u001b[39m\n",
      "  \u001b[90m[08abe8d2] \u001b[39m\u001b[92m+ PrettyTables v2.3.1\u001b[39m\n",
      "  \u001b[90m[438e738f] \u001b[39m\u001b[92m+ PyCall v1.96.4\u001b[39m\n",
      "  \u001b[90m[189a3867] \u001b[39m\u001b[92m+ Reexport v1.2.2\u001b[39m\n",
      "  \u001b[90m[3646fa90] \u001b[39m\u001b[92m+ ScikitLearn v0.7.0\u001b[39m\n",
      "  \u001b[90m[6e75b9c4] \u001b[39m\u001b[92m+ ScikitLearnBase v0.5.0\u001b[39m\n",
      "  \u001b[90m[91c51154] \u001b[39m\u001b[92m+ SentinelArrays v1.4.1\u001b[39m\n",
      "  \u001b[90m[a2af1166] \u001b[39m\u001b[92m+ SortingAlgorithms v1.2.1\u001b[39m\n",
      "  \u001b[90m[82ae8749] \u001b[39m\u001b[92m+ StatsAPI v1.7.0\u001b[39m\n",
      "\u001b[33m⌅\u001b[39m \u001b[90m[2913bbd2] \u001b[39m\u001b[92m+ StatsBase v0.33.21\u001b[39m\n",
      "  \u001b[90m[892a3eda] \u001b[39m\u001b[92m+ StringManipulation v0.3.4\u001b[39m\n",
      "  \u001b[90m[3783bdb8] \u001b[39m\u001b[92m+ TableTraits v1.0.1\u001b[39m\n",
      "  \u001b[90m[bd369af6] \u001b[39m\u001b[92m+ Tables v1.11.1\u001b[39m\n",
      "  \u001b[90m[3bb67fe8] \u001b[39m\u001b[92m+ TranscodingStreams v0.10.7\u001b[39m\n",
      "  \u001b[90m[3a884ed6] \u001b[39m\u001b[92m+ UnPack v1.0.2\u001b[39m\n",
      "  \u001b[90m[81def892] \u001b[39m\u001b[92m+ VersionParsing v1.3.0\u001b[39m\n",
      "  \u001b[90m[ea10d353] \u001b[39m\u001b[92m+ WeakRefStrings v1.4.2\u001b[39m\n",
      "  \u001b[90m[76eceee3] \u001b[39m\u001b[92m+ WorkerUtilities v1.6.1\u001b[39m\n",
      "  \u001b[90m[0dad84c5] \u001b[39m\u001b[92m+ ArgTools v1.1.1\u001b[39m\n",
      "  \u001b[90m[56f22d72] \u001b[39m\u001b[92m+ Artifacts\u001b[39m\n",
      "  \u001b[90m[2a0f44e3] \u001b[39m\u001b[92m+ Base64\u001b[39m\n",
      "  \u001b[90m[ade2ca70] \u001b[39m\u001b[92m+ Dates\u001b[39m\n",
      "  \u001b[90m[8ba89e20] \u001b[39m\u001b[92m+ Distributed\u001b[39m\n",
      "  \u001b[90m[f43a241f] \u001b[39m\u001b[92m+ Downloads v1.6.0\u001b[39m\n",
      "  \u001b[90m[7b1f6079] \u001b[39m\u001b[92m+ FileWatching\u001b[39m\n",
      "  \u001b[90m[9fa8497b] \u001b[39m\u001b[92m+ Future\u001b[39m\n",
      "  \u001b[90m[b77e0a4c] \u001b[39m\u001b[92m+ InteractiveUtils\u001b[39m\n",
      "  \u001b[90m[b27032c2] \u001b[39m\u001b[92m+ LibCURL v0.6.4\u001b[39m\n",
      "  \u001b[90m[76f85450] \u001b[39m\u001b[92m+ LibGit2\u001b[39m\n",
      "  \u001b[90m[8f399da3] \u001b[39m\u001b[92m+ Libdl\u001b[39m\n",
      "  \u001b[90m[37e2e46d] \u001b[39m\u001b[92m+ LinearAlgebra\u001b[39m\n",
      "  \u001b[90m[56ddb016] \u001b[39m\u001b[92m+ Logging\u001b[39m\n",
      "  \u001b[90m[d6f4376e] \u001b[39m\u001b[92m+ Markdown\u001b[39m\n",
      "  \u001b[90m[a63ad114] \u001b[39m\u001b[92m+ Mmap\u001b[39m\n",
      "  \u001b[90m[ca575930] \u001b[39m\u001b[92m+ NetworkOptions v1.2.0\u001b[39m\n",
      "  \u001b[90m[de0858da] \u001b[39m\u001b[92m+ Printf\u001b[39m\n",
      "  \u001b[90m[3fa0cd96] \u001b[39m\u001b[92m+ REPL\u001b[39m\n",
      "  \u001b[90m[9a3f8284] \u001b[39m\u001b[92m+ Random\u001b[39m\n",
      "  \u001b[90m[ea8e919c] \u001b[39m\u001b[92m+ SHA v0.7.0\u001b[39m\n",
      "  \u001b[90m[9e88b42a] \u001b[39m\u001b[92m+ Serialization\u001b[39m\n",
      "  \u001b[90m[6462fe0b] \u001b[39m\u001b[92m+ Sockets\u001b[39m\n",
      "  \u001b[90m[2f01184e] \u001b[39m\u001b[92m+ SparseArrays v1.10.0\u001b[39m\n",
      "  \u001b[90m[10745b16] \u001b[39m\u001b[92m+ Statistics v1.10.0\u001b[39m\n",
      "  \u001b[90m[fa267f1f] \u001b[39m\u001b[92m+ TOML v1.0.3\u001b[39m\n",
      "  \u001b[90m[8dfed614] \u001b[39m\u001b[92m+ Test\u001b[39m\n",
      "  \u001b[90m[cf7118a7] \u001b[39m\u001b[92m+ UUIDs\u001b[39m\n",
      "  \u001b[90m[4ec0a83e] \u001b[39m\u001b[92m+ Unicode\u001b[39m\n",
      "  \u001b[90m[e66e0078] \u001b[39m\u001b[92m+ CompilerSupportLibraries_jll v1.1.0+0\u001b[39m\n",
      "  \u001b[90m[deac9b47] \u001b[39m\u001b[92m+ LibCURL_jll v8.4.0+0\u001b[39m\n",
      "  \u001b[90m[e37daf67] \u001b[39m\u001b[92m+ LibGit2_jll v1.6.4+0\u001b[39m\n",
      "  \u001b[90m[29816b5a] \u001b[39m\u001b[92m+ LibSSH2_jll v1.11.0+1\u001b[39m\n",
      "  \u001b[90m[c8ffd9c3] \u001b[39m\u001b[92m+ MbedTLS_jll v2.28.2+1\u001b[39m\n",
      "  \u001b[90m[14a3606d] \u001b[39m\u001b[92m+ MozillaCACerts_jll v2023.1.10\u001b[39m\n",
      "  \u001b[90m[4536629a] \u001b[39m\u001b[92m+ OpenBLAS_jll v0.3.23+4\u001b[39m\n",
      "  \u001b[90m[bea87d4a] \u001b[39m\u001b[92m+ SuiteSparse_jll v7.2.1+1\u001b[39m\n",
      "  \u001b[90m[83775a58] \u001b[39m\u001b[92m+ Zlib_jll v1.2.13+1\u001b[39m\n",
      "  \u001b[90m[8e850b90] \u001b[39m\u001b[92m+ libblastrampoline_jll v5.8.0+1\u001b[39m\n",
      "  \u001b[90m[8e850ede] \u001b[39m\u001b[92m+ nghttp2_jll v1.52.0+1\u001b[39m\n",
      "\u001b[36m\u001b[1m        Info\u001b[22m\u001b[39m Packages marked with \u001b[33m⌅\u001b[39m have new versions available but compatibility constraints restrict them from upgrading. To see why use `status --outdated -m`\n",
      "\u001b[32m\u001b[1m    Building\u001b[22m\u001b[39m Conda ─→ `C:\\Users\\tcivi\\.julia\\scratchspaces\\44cfe95a-1eb2-52ea-b672-e2afdf69b78f\\51cab8e982c5b598eea9c8ceaced4b58d9dd37c9\\build.log`\n",
      "\u001b[32m\u001b[1m    Building\u001b[22m\u001b[39m PyCall → `C:\\Users\\tcivi\\.julia\\scratchspaces\\44cfe95a-1eb2-52ea-b672-e2afdf69b78f\\9816a3826b0ebf49ab4926e2b18842ad8b5c8f04\\build.log`\n",
      "\u001b[32m\u001b[1mPrecompiling\u001b[22m\u001b[39m project...\n",
      "┌ Warning: attempting to remove probably stale pidfile\n",
      "│   path = C:\\Users\\tcivi\\.julia\\compiled\\v1.10\\InvertedIndices\\0P8C6_XRiRq.ji.pidfile\n",
      "└ @ FileWatching.Pidfile C:\\Users\\tcivi\\.julia\\juliaup\\julia-1.10.2+0.x64.w64.mingw32\\share\\julia\\stdlib\\v1.10\\FileWatching\\src\\pidfile.jl:244\n",
      "\u001b[32m  ✓ \u001b[39m\u001b[90mUnPack\u001b[39m\n",
      "\u001b[32m  ✓ \u001b[39m\u001b[90mDataValueInterfaces\u001b[39m\n",
      "\u001b[32m  ✓ \u001b[39m\u001b[90mInvertedIndices\u001b[39m\n",
      "\u001b[32m  ✓ \u001b[39m\u001b[90mLaTeXStrings\u001b[39m\n",
      "\u001b[32m  ✓ \u001b[39m\u001b[90mIteratorInterfaceExtensions\u001b[39m\n",
      "\u001b[32m  ✓ \u001b[39m\u001b[90mWorkerUtilities\u001b[39m\n",
      "\u001b[32m  ✓ \u001b[39m\u001b[90mDocStringExtensions\u001b[39m\n",
      "\u001b[32m  ✓ \u001b[39m\u001b[90mStatsAPI\u001b[39m\n",
      "\u001b[32m  ✓ \u001b[39m\u001b[90mCompilerSupportLibraries_jll\u001b[39m\n",
      "\u001b[32m  ✓ \u001b[39m\u001b[90mSentinelArrays\u001b[39m\n",
      "\u001b[32m  ✓ \u001b[39m\u001b[90mIrrationalConstants\u001b[39m\n",
      "\u001b[32m  ✓ \u001b[39m\u001b[90mIterTools\u001b[39m\n",
      "\u001b[32m  ✓ \u001b[39m\u001b[90mTranscodingStreams\u001b[39m\n",
      "\u001b[32m  ✓ \u001b[39m\u001b[90mVersionParsing\u001b[39m\n",
      "\u001b[32m  ✓ \u001b[39m\u001b[90mCrayons\u001b[39m\n",
      "\u001b[32m  ✓ \u001b[39m\u001b[90mPreferences\u001b[39m\n",
      "\u001b[32m  ✓ \u001b[39m\u001b[90mParameters\u001b[39m\n",
      "\u001b[32m  ✓ \u001b[39m\u001b[90mTableTraits\u001b[39m\n",
      "\u001b[32m  ✓ \u001b[39m\u001b[90mScikitLearnBase\u001b[39m\n",
      "\u001b[32m  ✓ \u001b[39m\u001b[90mFilePathsBase\u001b[39m\n",
      "\u001b[32m  ✓ \u001b[39m\u001b[90mLogExpFunctions\u001b[39m\n",
      "\u001b[32m  ✓ \u001b[39m\u001b[90mMacroTools\u001b[39m\n",
      "\u001b[32m  ✓ \u001b[39m\u001b[90mTranscodingStreams → TestExt\u001b[39m\n",
      "\u001b[32m  ✓ \u001b[39m\u001b[90mPrecompileTools\u001b[39m\n",
      "\u001b[32m  ✓ \u001b[39m\u001b[90mTables\u001b[39m\n",
      "\u001b[32m  ✓ \u001b[39m\u001b[90mCodecZlib\u001b[39m\n",
      "\u001b[32m  ✓ \u001b[39m\u001b[90mStatsBase\u001b[39m\n",
      "\u001b[32m  ✓ \u001b[39m\u001b[90mStringManipulation\u001b[39m\n",
      "\u001b[32m  ✓ \u001b[39m\u001b[90mParsers\u001b[39m\n",
      "\u001b[32m  ✓ \u001b[39m\u001b[90mPrettyTables\u001b[39m\n",
      "\u001b[32m  ✓ \u001b[39m\u001b[90mInlineStrings\u001b[39m\n",
      "┌ Warning: attempting to remove probably stale pidfile\n",
      "│   path = C:\\Users\\tcivi\\.julia\\compiled\\v1.10\\DataFrames\\AR9oZ_XRiRq.ji.pidfile\n",
      "└ @ FileWatching.Pidfile C:\\Users\\tcivi\\.julia\\juliaup\\julia-1.10.2+0.x64.w64.mingw32\\share\\julia\\stdlib\\v1.10\\FileWatching\\src\\pidfile.jl:244\n",
      "\u001b[32m  ✓ \u001b[39m\u001b[90mJSON\u001b[39m\n",
      "\u001b[32m  ✓ \u001b[39m\u001b[90mWeakRefStrings\u001b[39m\n",
      "\u001b[32m  ✓ \u001b[39m\u001b[90mConda\u001b[39m\n",
      "\u001b[32m  ✓ \u001b[39m\u001b[90mPyCall\u001b[39m\n",
      "\u001b[32m  ✓ \u001b[39mCSV\n",
      "\u001b[32m  ✓ \u001b[39mDataFrames\n",
      "\u001b[32m  ✓ \u001b[39mScikitLearn\n",
      "  38 dependencies successfully precompiled in 251 seconds. 15 already precompiled.\n"
     ]
    }
   ],
   "source": [
    "using Pkg\n",
    "deps = [\"DataFrames\", \"CSV\", \"ScikitLearn\", \"Statistics\"]\n",
    "Pkg.add(deps)"
   ]
  },
  {
   "cell_type": "code",
   "execution_count": 3,
   "id": "3a0ee701-32fa-4d7e-af8e-443a6495abdd",
   "metadata": {},
   "outputs": [],
   "source": [
    "using DataFrames, CSV, ScikitLearn, Statistics"
   ]
  },
  {
   "cell_type": "code",
   "execution_count": 156,
   "id": "03c4963b",
   "metadata": {},
   "outputs": [
    {
     "data": {
      "text/html": [
       "<div><div style = \"float: left;\"><span>4128×10 DataFrame</span></div><div style = \"float: right;\"><span style = \"font-style: italic;\">4103 rows omitted</span></div><div style = \"clear: both;\"></div></div><div class = \"data-frame\" style = \"overflow-x: scroll;\"><table class = \"data-frame\" style = \"margin-bottom: 6px;\"><thead><tr class = \"header\"><th class = \"rowNumber\" style = \"font-weight: bold; text-align: right;\">Row</th><th style = \"text-align: left;\">longitude</th><th style = \"text-align: left;\">latitude</th><th style = \"text-align: left;\">housing_median_age</th><th style = \"text-align: left;\">total_rooms</th><th style = \"text-align: left;\">total_bedrooms</th><th style = \"text-align: left;\">population</th><th style = \"text-align: left;\">households</th><th style = \"text-align: left;\">median_income</th><th style = \"text-align: left;\">ocean_proximity</th><th style = \"text-align: left;\">median_house_value</th></tr><tr class = \"subheader headerLastRow\"><th class = \"rowNumber\" style = \"font-weight: bold; text-align: right;\"></th><th title = \"Float64\" style = \"text-align: left;\">Float64</th><th title = \"Float64\" style = \"text-align: left;\">Float64</th><th title = \"Float64\" style = \"text-align: left;\">Float64</th><th title = \"Float64\" style = \"text-align: left;\">Float64</th><th title = \"Union{Missing, Float64}\" style = \"text-align: left;\">Float64?</th><th title = \"Float64\" style = \"text-align: left;\">Float64</th><th title = \"Float64\" style = \"text-align: left;\">Float64</th><th title = \"Float64\" style = \"text-align: left;\">Float64</th><th title = \"String15\" style = \"text-align: left;\">String15</th><th title = \"Float64\" style = \"text-align: left;\">Float64</th></tr></thead><tbody><tr><td class = \"rowNumber\" style = \"font-weight: bold; text-align: right;\">1</td><td style = \"text-align: right;\">-118.36</td><td style = \"text-align: right;\">34.06</td><td style = \"text-align: right;\">39.0</td><td style = \"text-align: right;\">2810.0</td><td style = \"text-align: right;\">670.0</td><td style = \"text-align: right;\">1109.0</td><td style = \"text-align: right;\">624.0</td><td style = \"text-align: right;\">3.25</td><td style = \"text-align: left;\">&lt;1H OCEAN</td><td style = \"text-align: right;\">355000.0</td></tr><tr><td class = \"rowNumber\" style = \"font-weight: bold; text-align: right;\">2</td><td style = \"text-align: right;\">-119.78</td><td style = \"text-align: right;\">36.78</td><td style = \"text-align: right;\">37.0</td><td style = \"text-align: right;\">2185.0</td><td style = \"text-align: right;\">455.0</td><td style = \"text-align: right;\">1143.0</td><td style = \"text-align: right;\">438.0</td><td style = \"text-align: right;\">1.9784</td><td style = \"text-align: left;\">INLAND</td><td style = \"text-align: right;\">70700.0</td></tr><tr><td class = \"rowNumber\" style = \"font-weight: bold; text-align: right;\">3</td><td style = \"text-align: right;\">-122.42</td><td style = \"text-align: right;\">37.73</td><td style = \"text-align: right;\">46.0</td><td style = \"text-align: right;\">1819.0</td><td style = \"text-align: right;\">411.0</td><td style = \"text-align: right;\">1534.0</td><td style = \"text-align: right;\">406.0</td><td style = \"text-align: right;\">4.0132</td><td style = \"text-align: left;\">NEAR BAY</td><td style = \"text-align: right;\">229400.0</td></tr><tr><td class = \"rowNumber\" style = \"font-weight: bold; text-align: right;\">4</td><td style = \"text-align: right;\">-122.28</td><td style = \"text-align: right;\">37.81</td><td style = \"text-align: right;\">52.0</td><td style = \"text-align: right;\">340.0</td><td style = \"text-align: right;\">97.0</td><td style = \"text-align: right;\">200.0</td><td style = \"text-align: right;\">87.0</td><td style = \"text-align: right;\">1.5208</td><td style = \"text-align: left;\">NEAR BAY</td><td style = \"text-align: right;\">112500.0</td></tr><tr><td class = \"rowNumber\" style = \"font-weight: bold; text-align: right;\">5</td><td style = \"text-align: right;\">-118.13</td><td style = \"text-align: right;\">33.82</td><td style = \"text-align: right;\">37.0</td><td style = \"text-align: right;\">1530.0</td><td style = \"text-align: right;\">290.0</td><td style = \"text-align: right;\">711.0</td><td style = \"text-align: right;\">283.0</td><td style = \"text-align: right;\">5.1795</td><td style = \"text-align: left;\">&lt;1H OCEAN</td><td style = \"text-align: right;\">225400.0</td></tr><tr><td class = \"rowNumber\" style = \"font-weight: bold; text-align: right;\">6</td><td style = \"text-align: right;\">-118.16</td><td style = \"text-align: right;\">34.15</td><td style = \"text-align: right;\">17.0</td><td style = \"text-align: right;\">821.0</td><td style = \"text-align: right;\">163.0</td><td style = \"text-align: right;\">229.0</td><td style = \"text-align: right;\">164.0</td><td style = \"text-align: right;\">7.3715</td><td style = \"text-align: left;\">&lt;1H OCEAN</td><td style = \"text-align: right;\">263000.0</td></tr><tr><td class = \"rowNumber\" style = \"font-weight: bold; text-align: right;\">7</td><td style = \"text-align: right;\">-120.44</td><td style = \"text-align: right;\">34.91</td><td style = \"text-align: right;\">12.0</td><td style = \"text-align: right;\">3189.0</td><td style = \"text-align: right;\">463.0</td><td style = \"text-align: right;\">1200.0</td><td style = \"text-align: right;\">442.0</td><td style = \"text-align: right;\">5.299</td><td style = \"text-align: left;\">&lt;1H OCEAN</td><td style = \"text-align: right;\">226800.0</td></tr><tr><td class = \"rowNumber\" style = \"font-weight: bold; text-align: right;\">8</td><td style = \"text-align: right;\">-122.48</td><td style = \"text-align: right;\">38.31</td><td style = \"text-align: right;\">29.0</td><td style = \"text-align: right;\">2375.0</td><td style = \"text-align: right;\">560.0</td><td style = \"text-align: right;\">1124.0</td><td style = \"text-align: right;\">502.0</td><td style = \"text-align: right;\">2.3276</td><td style = \"text-align: left;\">&lt;1H OCEAN</td><td style = \"text-align: right;\">166200.0</td></tr><tr><td class = \"rowNumber\" style = \"font-weight: bold; text-align: right;\">9</td><td style = \"text-align: right;\">-117.64</td><td style = \"text-align: right;\">34.08</td><td style = \"text-align: right;\">35.0</td><td style = \"text-align: right;\">1254.0</td><td style = \"text-align: right;\">241.0</td><td style = \"text-align: right;\">729.0</td><td style = \"text-align: right;\">253.0</td><td style = \"text-align: right;\">3.495</td><td style = \"text-align: left;\">INLAND</td><td style = \"text-align: right;\">118000.0</td></tr><tr><td class = \"rowNumber\" style = \"font-weight: bold; text-align: right;\">10</td><td style = \"text-align: right;\">-118.16</td><td style = \"text-align: right;\">34.04</td><td style = \"text-align: right;\">45.0</td><td style = \"text-align: right;\">332.0</td><td style = \"text-align: right;\">70.0</td><td style = \"text-align: right;\">302.0</td><td style = \"text-align: right;\">60.0</td><td style = \"text-align: right;\">3.1895</td><td style = \"text-align: left;\">&lt;1H OCEAN</td><td style = \"text-align: right;\">156300.0</td></tr><tr><td class = \"rowNumber\" style = \"font-weight: bold; text-align: right;\">11</td><td style = \"text-align: right;\">-122.44</td><td style = \"text-align: right;\">37.78</td><td style = \"text-align: right;\">31.0</td><td style = \"text-align: right;\">1364.0</td><td style = \"text-align: right;\">386.0</td><td style = \"text-align: right;\">707.0</td><td style = \"text-align: right;\">379.0</td><td style = \"text-align: right;\">3.1607</td><td style = \"text-align: left;\">NEAR BAY</td><td style = \"text-align: right;\">293800.0</td></tr><tr><td class = \"rowNumber\" style = \"font-weight: bold; text-align: right;\">12</td><td style = \"text-align: right;\">-116.44</td><td style = \"text-align: right;\">33.77</td><td style = \"text-align: right;\">18.0</td><td style = \"text-align: right;\">4872.0</td><td style = \"text-align: right;\">1110.0</td><td style = \"text-align: right;\">955.0</td><td style = \"text-align: right;\">656.0</td><td style = \"text-align: right;\">2.2439</td><td style = \"text-align: left;\">INLAND</td><td style = \"text-align: right;\">97500.0</td></tr><tr><td class = \"rowNumber\" style = \"font-weight: bold; text-align: right;\">13</td><td style = \"text-align: right;\">-117.3</td><td style = \"text-align: right;\">34.12</td><td style = \"text-align: right;\">50.0</td><td style = \"text-align: right;\">1629.0</td><td style = \"text-align: right;\">437.0</td><td style = \"text-align: right;\">1581.0</td><td style = \"text-align: right;\">394.0</td><td style = \"text-align: right;\">2.2019</td><td style = \"text-align: left;\">INLAND</td><td style = \"text-align: right;\">63500.0</td></tr><tr><td style = \"text-align: right;\">&vellip;</td><td style = \"text-align: right;\">&vellip;</td><td style = \"text-align: right;\">&vellip;</td><td style = \"text-align: right;\">&vellip;</td><td style = \"text-align: right;\">&vellip;</td><td style = \"text-align: right;\">&vellip;</td><td style = \"text-align: right;\">&vellip;</td><td style = \"text-align: right;\">&vellip;</td><td style = \"text-align: right;\">&vellip;</td><td style = \"text-align: right;\">&vellip;</td><td style = \"text-align: right;\">&vellip;</td></tr><tr><td class = \"rowNumber\" style = \"font-weight: bold; text-align: right;\">4117</td><td style = \"text-align: right;\">-118.57</td><td style = \"text-align: right;\">34.23</td><td style = \"text-align: right;\">22.0</td><td style = \"text-align: right;\">3275.0</td><td style = \"text-align: right;\">648.0</td><td style = \"text-align: right;\">1746.0</td><td style = \"text-align: right;\">585.0</td><td style = \"text-align: right;\">4.9676</td><td style = \"text-align: left;\">&lt;1H OCEAN</td><td style = \"text-align: right;\">221900.0</td></tr><tr><td class = \"rowNumber\" style = \"font-weight: bold; text-align: right;\">4118</td><td style = \"text-align: right;\">-118.13</td><td style = \"text-align: right;\">34.05</td><td style = \"text-align: right;\">35.0</td><td style = \"text-align: right;\">3229.0</td><td style = \"text-align: right;\">616.0</td><td style = \"text-align: right;\">1879.0</td><td style = \"text-align: right;\">595.0</td><td style = \"text-align: right;\">3.9531</td><td style = \"text-align: left;\">&lt;1H OCEAN</td><td style = \"text-align: right;\">268400.0</td></tr><tr><td class = \"rowNumber\" style = \"font-weight: bold; text-align: right;\">4119</td><td style = \"text-align: right;\">-117.68</td><td style = \"text-align: right;\">33.55</td><td style = \"text-align: right;\">5.0</td><td style = \"text-align: right;\">2262.0</td><td style = \"text-align: right;\">427.0</td><td style = \"text-align: right;\">1016.0</td><td style = \"text-align: right;\">402.0</td><td style = \"text-align: right;\">6.065</td><td style = \"text-align: left;\">&lt;1H OCEAN</td><td style = \"text-align: right;\">315500.0</td></tr><tr><td class = \"rowNumber\" style = \"font-weight: bold; text-align: right;\">4120</td><td style = \"text-align: right;\">-122.08</td><td style = \"text-align: right;\">37.69</td><td style = \"text-align: right;\">36.0</td><td style = \"text-align: right;\">2350.0</td><td style = \"text-align: right;\">499.0</td><td style = \"text-align: right;\">1105.0</td><td style = \"text-align: right;\">467.0</td><td style = \"text-align: right;\">3.3021</td><td style = \"text-align: left;\">NEAR BAY</td><td style = \"text-align: right;\">195700.0</td></tr><tr><td class = \"rowNumber\" style = \"font-weight: bold; text-align: right;\">4121</td><td style = \"text-align: right;\">-117.87</td><td style = \"text-align: right;\">33.89</td><td style = \"text-align: right;\">17.0</td><td style = \"text-align: right;\">1441.0</td><td style = \"text-align: right;\">530.0</td><td style = \"text-align: right;\">769.0</td><td style = \"text-align: right;\">456.0</td><td style = \"text-align: right;\">2.425</td><td style = \"text-align: left;\">&lt;1H OCEAN</td><td style = \"text-align: right;\">171700.0</td></tr><tr><td class = \"rowNumber\" style = \"font-weight: bold; text-align: right;\">4122</td><td style = \"text-align: right;\">-117.98</td><td style = \"text-align: right;\">33.71</td><td style = \"text-align: right;\">26.0</td><td style = \"text-align: right;\">1905.0</td><td style = \"text-align: right;\">373.0</td><td style = \"text-align: right;\">1098.0</td><td style = \"text-align: right;\">368.0</td><td style = \"text-align: right;\">4.8611</td><td style = \"text-align: left;\">&lt;1H OCEAN</td><td style = \"text-align: right;\">229600.0</td></tr><tr><td class = \"rowNumber\" style = \"font-weight: bold; text-align: right;\">4123</td><td style = \"text-align: right;\">-118.21</td><td style = \"text-align: right;\">33.92</td><td style = \"text-align: right;\">37.0</td><td style = \"text-align: right;\">1705.0</td><td style = \"text-align: right;\">403.0</td><td style = \"text-align: right;\">1839.0</td><td style = \"text-align: right;\">410.0</td><td style = \"text-align: right;\">2.5833</td><td style = \"text-align: left;\">&lt;1H OCEAN</td><td style = \"text-align: right;\">132700.0</td></tr><tr><td class = \"rowNumber\" style = \"font-weight: bold; text-align: right;\">4124</td><td style = \"text-align: right;\">-119.7</td><td style = \"text-align: right;\">36.82</td><td style = \"text-align: right;\">25.0</td><td style = \"text-align: right;\">2379.0</td><td style = \"text-align: right;\">540.0</td><td style = \"text-align: right;\">1482.0</td><td style = \"text-align: right;\">484.0</td><td style = \"text-align: right;\">2.3173</td><td style = \"text-align: left;\">INLAND</td><td style = \"text-align: right;\">68200.0</td></tr><tr><td class = \"rowNumber\" style = \"font-weight: bold; text-align: right;\">4125</td><td style = \"text-align: right;\">-118.44</td><td style = \"text-align: right;\">34.04</td><td style = \"text-align: right;\">49.0</td><td style = \"text-align: right;\">32.0</td><td style = \"text-align: right;\">7.0</td><td style = \"text-align: right;\">14.0</td><td style = \"text-align: right;\">7.0</td><td style = \"text-align: right;\">2.1875</td><td style = \"text-align: left;\">&lt;1H OCEAN</td><td style = \"text-align: right;\">225000.0</td></tr><tr><td class = \"rowNumber\" style = \"font-weight: bold; text-align: right;\">4126</td><td style = \"text-align: right;\">-122.37</td><td style = \"text-align: right;\">37.6</td><td style = \"text-align: right;\">26.0</td><td style = \"text-align: right;\">15.0</td><td style = \"text-align: right;\">3.0</td><td style = \"text-align: right;\">11.0</td><td style = \"text-align: right;\">3.0</td><td style = \"text-align: right;\">5.048</td><td style = \"text-align: left;\">NEAR OCEAN</td><td style = \"text-align: right;\">350000.0</td></tr><tr><td class = \"rowNumber\" style = \"font-weight: bold; text-align: right;\">4127</td><td style = \"text-align: right;\">-118.1</td><td style = \"text-align: right;\">34.09</td><td style = \"text-align: right;\">42.0</td><td style = \"text-align: right;\">1460.0</td><td style = \"text-align: right;\">289.0</td><td style = \"text-align: right;\">829.0</td><td style = \"text-align: right;\">273.0</td><td style = \"text-align: right;\">4.875</td><td style = \"text-align: left;\">&lt;1H OCEAN</td><td style = \"text-align: right;\">227300.0</td></tr><tr><td class = \"rowNumber\" style = \"font-weight: bold; text-align: right;\">4128</td><td style = \"text-align: right;\">-117.38</td><td style = \"text-align: right;\">33.99</td><td style = \"text-align: right;\">52.0</td><td style = \"text-align: right;\">1797.0</td><td style = \"text-align: right;\">332.0</td><td style = \"text-align: right;\">905.0</td><td style = \"text-align: right;\">313.0</td><td style = \"text-align: right;\">2.7054</td><td style = \"text-align: left;\">INLAND</td><td style = \"text-align: right;\">141700.0</td></tr></tbody></table></div>"
      ],
      "text/latex": [
       "\\begin{tabular}{r|ccccccc}\n",
       "\t& longitude & latitude & housing\\_median\\_age & total\\_rooms & total\\_bedrooms & population & \\\\\n",
       "\t\\hline\n",
       "\t& Float64 & Float64 & Float64 & Float64 & Float64? & Float64 & \\\\\n",
       "\t\\hline\n",
       "\t1 & -118.36 & 34.06 & 39.0 & 2810.0 & 670.0 & 1109.0 & $\\dots$ \\\\\n",
       "\t2 & -119.78 & 36.78 & 37.0 & 2185.0 & 455.0 & 1143.0 & $\\dots$ \\\\\n",
       "\t3 & -122.42 & 37.73 & 46.0 & 1819.0 & 411.0 & 1534.0 & $\\dots$ \\\\\n",
       "\t4 & -122.28 & 37.81 & 52.0 & 340.0 & 97.0 & 200.0 & $\\dots$ \\\\\n",
       "\t5 & -118.13 & 33.82 & 37.0 & 1530.0 & 290.0 & 711.0 & $\\dots$ \\\\\n",
       "\t6 & -118.16 & 34.15 & 17.0 & 821.0 & 163.0 & 229.0 & $\\dots$ \\\\\n",
       "\t7 & -120.44 & 34.91 & 12.0 & 3189.0 & 463.0 & 1200.0 & $\\dots$ \\\\\n",
       "\t8 & -122.48 & 38.31 & 29.0 & 2375.0 & 560.0 & 1124.0 & $\\dots$ \\\\\n",
       "\t9 & -117.64 & 34.08 & 35.0 & 1254.0 & 241.0 & 729.0 & $\\dots$ \\\\\n",
       "\t10 & -118.16 & 34.04 & 45.0 & 332.0 & 70.0 & 302.0 & $\\dots$ \\\\\n",
       "\t11 & -122.44 & 37.78 & 31.0 & 1364.0 & 386.0 & 707.0 & $\\dots$ \\\\\n",
       "\t12 & -116.44 & 33.77 & 18.0 & 4872.0 & 1110.0 & 955.0 & $\\dots$ \\\\\n",
       "\t13 & -117.3 & 34.12 & 50.0 & 1629.0 & 437.0 & 1581.0 & $\\dots$ \\\\\n",
       "\t14 & -118.34 & 34.26 & 37.0 & 1776.0 & 301.0 & 702.0 & $\\dots$ \\\\\n",
       "\t15 & -117.37 & 33.97 & 34.0 & 3676.0 & 697.0 & 2653.0 & $\\dots$ \\\\\n",
       "\t16 & -118.24 & 33.97 & 37.0 & 1212.0 & 314.0 & 1403.0 & $\\dots$ \\\\\n",
       "\t17 & -121.87 & 37.22 & 17.0 & 2825.0 & 365.0 & 1052.0 & $\\dots$ \\\\\n",
       "\t18 & -117.89 & 34.12 & 35.0 & 1447.0 & 272.0 & 1224.0 & $\\dots$ \\\\\n",
       "\t19 & -118.09 & 34.07 & 31.0 & 1054.0 & 252.0 & 1032.0 & $\\dots$ \\\\\n",
       "\t20 & -122.46 & 37.72 & 49.0 & 1207.0 & 255.0 & 658.0 & $\\dots$ \\\\\n",
       "\t21 & -122.64 & 41.73 & 36.0 & 3319.0 & 664.0 & 1492.0 & $\\dots$ \\\\\n",
       "\t22 & -121.63 & 36.68 & 24.0 & 2591.0 & 739.0 & 3243.0 & $\\dots$ \\\\\n",
       "\t23 & -121.22 & 37.96 & 30.0 & 1737.0 & 381.0 & 1177.0 & $\\dots$ \\\\\n",
       "\t24 & -117.03 & 32.79 & 31.0 & 2366.0 & 383.0 & 1077.0 & $\\dots$ \\\\\n",
       "\t$\\dots$ & $\\dots$ & $\\dots$ & $\\dots$ & $\\dots$ & $\\dots$ & $\\dots$ &  \\\\\n",
       "\\end{tabular}\n"
      ],
      "text/plain": [
       "\u001b[1m4128×10 DataFrame\u001b[0m\n",
       "\u001b[1m  Row \u001b[0m│\u001b[1m longitude \u001b[0m\u001b[1m latitude \u001b[0m\u001b[1m housing_median_age \u001b[0m\u001b[1m total_rooms \u001b[0m\u001b[1m total_bedrooms \u001b[0m\u001b[1m \u001b[0m ⋯\n",
       "      │\u001b[90m Float64   \u001b[0m\u001b[90m Float64  \u001b[0m\u001b[90m Float64            \u001b[0m\u001b[90m Float64     \u001b[0m\u001b[90m Float64?       \u001b[0m\u001b[90m \u001b[0m ⋯\n",
       "──────┼─────────────────────────────────────────────────────────────────────────\n",
       "    1 │   -118.36     34.06                39.0       2810.0           670.0   ⋯\n",
       "    2 │   -119.78     36.78                37.0       2185.0           455.0\n",
       "    3 │   -122.42     37.73                46.0       1819.0           411.0\n",
       "    4 │   -122.28     37.81                52.0        340.0            97.0\n",
       "    5 │   -118.13     33.82                37.0       1530.0           290.0   ⋯\n",
       "    6 │   -118.16     34.15                17.0        821.0           163.0\n",
       "    7 │   -120.44     34.91                12.0       3189.0           463.0\n",
       "    8 │   -122.48     38.31                29.0       2375.0           560.0\n",
       "  ⋮   │     ⋮         ⋮              ⋮                ⋮             ⋮          ⋱\n",
       " 4122 │   -117.98     33.71                26.0       1905.0           373.0   ⋯\n",
       " 4123 │   -118.21     33.92                37.0       1705.0           403.0\n",
       " 4124 │   -119.7      36.82                25.0       2379.0           540.0\n",
       " 4125 │   -118.44     34.04                49.0         32.0             7.0\n",
       " 4126 │   -122.37     37.6                 26.0         15.0             3.0   ⋯\n",
       " 4127 │   -118.1      34.09                42.0       1460.0           289.0\n",
       " 4128 │   -117.38     33.99                52.0       1797.0           332.0\n",
       "\u001b[36m                                                 5 columns and 4113 rows omitted\u001b[0m"
      ]
     },
     "metadata": {},
     "output_type": "display_data"
    }
   ],
   "source": [
    "test_df = DataFrame(CSV.File(\"../../data/test.csv\"))"
   ]
  },
  {
   "cell_type": "code",
   "execution_count": 197,
   "id": "8c78b73e",
   "metadata": {},
   "outputs": [
    {
     "data": {
      "text/plain": [
       "apply_feature_engineering (generic function with 1 method)"
      ]
     },
     "metadata": {},
     "output_type": "display_data"
    }
   ],
   "source": [
    "function remove_outliers( df::DataFrame, feat::String, q=0.05 )\n",
    "    Qi = quantile(df[:,feat], q)\n",
    "    Qf = quantile(df[:,feat], 1-q)\n",
    "    IQR = Qf-Qi\n",
    "\n",
    "    Qi -= 1.5*IQR\n",
    "    Qf += 1.5*IQR\n",
    "    \n",
    "    return df[ (df[:,feat] .> Qi) .& (df[:,feat] .< Qf) , : ]\n",
    "end\n",
    "\n",
    "function apply_feature_engineering(df::DataFrame, keep_outliers::Bool)\n",
    "    df.total_bedrooms .= coalesce.(df.total_bedrooms, mean(skipmissing(df.total_bedrooms)))\n",
    "    \n",
    "    custom_encoding = Dict(\"ISLAND\" => 0, \"NEAR OCEAN\" => 1, \"NEAR BAY\" => 2, \"<1H OCEAN\" => 3, \"INLAND\" => 4)\n",
    "    df.ocean_proximity_enc = get.(Ref(custom_encoding), df.ocean_proximity, missing)\n",
    "    select!(df, Not(:ocean_proximity))\n",
    "    \n",
    "    df.rooms_per_bedroom = df.total_rooms ./ df.total_bedrooms\n",
    "    df.rooms_per_household = df.total_rooms ./ df.households\n",
    "    df.encoded_position = df.longitude + df.latitude\n",
    "    df.population_per_bedrooms = df.population ./ df.total_bedrooms\n",
    "    df.target = df.median_house_value\n",
    "    select!(df, Not(:median_house_value))\n",
    "    \n",
    "    if !keep_outliers\n",
    "        for name in names(df)\n",
    "            df = remove_outliers(df, name, 0.05)\n",
    "        end\n",
    "    end\n",
    "    \n",
    "    return df\n",
    "end"
   ]
  },
  {
   "cell_type": "code",
   "execution_count": 166,
   "id": "7a30528a",
   "metadata": {},
   "outputs": [
    {
     "data": {
      "text/plain": [
       "(4128, 10)"
      ]
     },
     "metadata": {},
     "output_type": "display_data"
    }
   ],
   "source": [
    "size(test_df)"
   ]
  },
  {
   "cell_type": "code",
   "execution_count": null,
   "id": "02cd3952",
   "metadata": {},
   "outputs": [],
   "source": [
    "size(apply_feature_engineering(copy(test_df), false))"
   ]
  },
  {
   "cell_type": "code",
   "execution_count": 198,
   "id": "36e92cf8",
   "metadata": {},
   "outputs": [
    {
     "data": {
      "text/plain": [
       "split_target (generic function with 1 method)"
      ]
     },
     "metadata": {},
     "output_type": "display_data"
    }
   ],
   "source": [
    "function split_target(df::DataFrame)\n",
    "    x_train = select(df, Not(:target))\n",
    "    y_train = df.target\n",
    "    return x_train, y_train\n",
    "end"
   ]
  },
  {
   "cell_type": "code",
   "execution_count": 199,
   "id": "e7972013",
   "metadata": {},
   "outputs": [
    {
     "data": {
      "text/plain": [
       "(\u001b[1m4068×13 DataFrame\u001b[0m\n",
       "\u001b[1m  Row \u001b[0m│\u001b[1m longitude \u001b[0m\u001b[1m latitude \u001b[0m\u001b[1m housing_median_age \u001b[0m\u001b[1m total_rooms \u001b[0m\u001b[1m total_bedrooms \u001b[0m\u001b[1m \u001b[0m ⋯\n",
       "      │\u001b[90m Float64   \u001b[0m\u001b[90m Float64  \u001b[0m\u001b[90m Float64            \u001b[0m\u001b[90m Float64     \u001b[0m\u001b[90m Float64        \u001b[0m\u001b[90m \u001b[0m ⋯\n",
       "──────┼─────────────────────────────────────────────────────────────────────────\n",
       "    1 │   -118.36     34.06                39.0       2810.0           670.0   ⋯\n",
       "    2 │   -119.78     36.78                37.0       2185.0           455.0\n",
       "    3 │   -122.42     37.73                46.0       1819.0           411.0\n",
       "    4 │   -122.28     37.81                52.0        340.0            97.0\n",
       "    5 │   -118.13     33.82                37.0       1530.0           290.0   ⋯\n",
       "    6 │   -118.16     34.15                17.0        821.0           163.0\n",
       "    7 │   -120.44     34.91                12.0       3189.0           463.0\n",
       "    8 │   -122.48     38.31                29.0       2375.0           560.0\n",
       "  ⋮   │     ⋮         ⋮              ⋮                ⋮             ⋮          ⋱\n",
       " 4062 │   -117.98     33.71                26.0       1905.0           373.0   ⋯\n",
       " 4063 │   -118.21     33.92                37.0       1705.0           403.0\n",
       " 4064 │   -119.7      36.82                25.0       2379.0           540.0\n",
       " 4065 │   -118.44     34.04                49.0         32.0             7.0\n",
       " 4066 │   -122.37     37.6                 26.0         15.0             3.0   ⋯\n",
       " 4067 │   -118.1      34.09                42.0       1460.0           289.0\n",
       " 4068 │   -117.38     33.99                52.0       1797.0           332.0\n",
       "\u001b[36m                                                 8 columns and 4053 rows omitted\u001b[0m, [355000.0, 70700.0, 229400.0, 112500.0, 225400.0, 263000.0, 226800.0, 166200.0, 118000.0, 156300.0  …  315500.0, 195700.0, 171700.0, 229600.0, 132700.0, 68200.0, 225000.0, 350000.0, 227300.0, 141700.0])"
      ]
     },
     "metadata": {},
     "output_type": "display_data"
    }
   ],
   "source": [
    "x_train, y_train = split_target(apply_feature_engineering(copy(test_df), false))"
   ]
  },
  {
   "cell_type": "code",
   "execution_count": 200,
   "id": "6202e342",
   "metadata": {},
   "outputs": [
    {
     "data": {
      "text/html": [
       "<div><div style = \"float: left;\"><span>4068×13 DataFrame</span></div><div style = \"float: right;\"><span style = \"font-style: italic;\">4043 rows omitted</span></div><div style = \"clear: both;\"></div></div><div class = \"data-frame\" style = \"overflow-x: scroll;\"><table class = \"data-frame\" style = \"margin-bottom: 6px;\"><thead><tr class = \"header\"><th class = \"rowNumber\" style = \"font-weight: bold; text-align: right;\">Row</th><th style = \"text-align: left;\">longitude</th><th style = \"text-align: left;\">latitude</th><th style = \"text-align: left;\">housing_median_age</th><th style = \"text-align: left;\">total_rooms</th><th style = \"text-align: left;\">total_bedrooms</th><th style = \"text-align: left;\">population</th><th style = \"text-align: left;\">households</th><th style = \"text-align: left;\">median_income</th><th style = \"text-align: left;\">ocean_proximity_enc</th><th style = \"text-align: left;\">rooms_per_bedroom</th><th style = \"text-align: left;\">rooms_per_household</th><th style = \"text-align: left;\">encoded_position</th><th style = \"text-align: left;\">population_per_bedrooms</th></tr><tr class = \"subheader headerLastRow\"><th class = \"rowNumber\" style = \"font-weight: bold; text-align: right;\"></th><th title = \"Float64\" style = \"text-align: left;\">Float64</th><th title = \"Float64\" style = \"text-align: left;\">Float64</th><th title = \"Float64\" style = \"text-align: left;\">Float64</th><th title = \"Float64\" style = \"text-align: left;\">Float64</th><th title = \"Float64\" style = \"text-align: left;\">Float64</th><th title = \"Float64\" style = \"text-align: left;\">Float64</th><th title = \"Float64\" style = \"text-align: left;\">Float64</th><th title = \"Float64\" style = \"text-align: left;\">Float64</th><th title = \"Int64\" style = \"text-align: left;\">Int64</th><th title = \"Float64\" style = \"text-align: left;\">Float64</th><th title = \"Float64\" style = \"text-align: left;\">Float64</th><th title = \"Float64\" style = \"text-align: left;\">Float64</th><th title = \"Float64\" style = \"text-align: left;\">Float64</th></tr></thead><tbody><tr><td class = \"rowNumber\" style = \"font-weight: bold; text-align: right;\">1</td><td style = \"text-align: right;\">-118.36</td><td style = \"text-align: right;\">34.06</td><td style = \"text-align: right;\">39.0</td><td style = \"text-align: right;\">2810.0</td><td style = \"text-align: right;\">670.0</td><td style = \"text-align: right;\">1109.0</td><td style = \"text-align: right;\">624.0</td><td style = \"text-align: right;\">3.25</td><td style = \"text-align: right;\">3</td><td style = \"text-align: right;\">4.19403</td><td style = \"text-align: right;\">4.50321</td><td style = \"text-align: right;\">-84.3</td><td style = \"text-align: right;\">1.65522</td></tr><tr><td class = \"rowNumber\" style = \"font-weight: bold; text-align: right;\">2</td><td style = \"text-align: right;\">-119.78</td><td style = \"text-align: right;\">36.78</td><td style = \"text-align: right;\">37.0</td><td style = \"text-align: right;\">2185.0</td><td style = \"text-align: right;\">455.0</td><td style = \"text-align: right;\">1143.0</td><td style = \"text-align: right;\">438.0</td><td style = \"text-align: right;\">1.9784</td><td style = \"text-align: right;\">4</td><td style = \"text-align: right;\">4.8022</td><td style = \"text-align: right;\">4.98858</td><td style = \"text-align: right;\">-83.0</td><td style = \"text-align: right;\">2.51209</td></tr><tr><td class = \"rowNumber\" style = \"font-weight: bold; text-align: right;\">3</td><td style = \"text-align: right;\">-122.42</td><td style = \"text-align: right;\">37.73</td><td style = \"text-align: right;\">46.0</td><td style = \"text-align: right;\">1819.0</td><td style = \"text-align: right;\">411.0</td><td style = \"text-align: right;\">1534.0</td><td style = \"text-align: right;\">406.0</td><td style = \"text-align: right;\">4.0132</td><td style = \"text-align: right;\">2</td><td style = \"text-align: right;\">4.42579</td><td style = \"text-align: right;\">4.4803</td><td style = \"text-align: right;\">-84.69</td><td style = \"text-align: right;\">3.73236</td></tr><tr><td class = \"rowNumber\" style = \"font-weight: bold; text-align: right;\">4</td><td style = \"text-align: right;\">-122.28</td><td style = \"text-align: right;\">37.81</td><td style = \"text-align: right;\">52.0</td><td style = \"text-align: right;\">340.0</td><td style = \"text-align: right;\">97.0</td><td style = \"text-align: right;\">200.0</td><td style = \"text-align: right;\">87.0</td><td style = \"text-align: right;\">1.5208</td><td style = \"text-align: right;\">2</td><td style = \"text-align: right;\">3.50515</td><td style = \"text-align: right;\">3.90805</td><td style = \"text-align: right;\">-84.47</td><td style = \"text-align: right;\">2.06186</td></tr><tr><td class = \"rowNumber\" style = \"font-weight: bold; text-align: right;\">5</td><td style = \"text-align: right;\">-118.13</td><td style = \"text-align: right;\">33.82</td><td style = \"text-align: right;\">37.0</td><td style = \"text-align: right;\">1530.0</td><td style = \"text-align: right;\">290.0</td><td style = \"text-align: right;\">711.0</td><td style = \"text-align: right;\">283.0</td><td style = \"text-align: right;\">5.1795</td><td style = \"text-align: right;\">3</td><td style = \"text-align: right;\">5.27586</td><td style = \"text-align: right;\">5.40636</td><td style = \"text-align: right;\">-84.31</td><td style = \"text-align: right;\">2.45172</td></tr><tr><td class = \"rowNumber\" style = \"font-weight: bold; text-align: right;\">6</td><td style = \"text-align: right;\">-118.16</td><td style = \"text-align: right;\">34.15</td><td style = \"text-align: right;\">17.0</td><td style = \"text-align: right;\">821.0</td><td style = \"text-align: right;\">163.0</td><td style = \"text-align: right;\">229.0</td><td style = \"text-align: right;\">164.0</td><td style = \"text-align: right;\">7.3715</td><td style = \"text-align: right;\">3</td><td style = \"text-align: right;\">5.03681</td><td style = \"text-align: right;\">5.0061</td><td style = \"text-align: right;\">-84.01</td><td style = \"text-align: right;\">1.40491</td></tr><tr><td class = \"rowNumber\" style = \"font-weight: bold; text-align: right;\">7</td><td style = \"text-align: right;\">-120.44</td><td style = \"text-align: right;\">34.91</td><td style = \"text-align: right;\">12.0</td><td style = \"text-align: right;\">3189.0</td><td style = \"text-align: right;\">463.0</td><td style = \"text-align: right;\">1200.0</td><td style = \"text-align: right;\">442.0</td><td style = \"text-align: right;\">5.299</td><td style = \"text-align: right;\">3</td><td style = \"text-align: right;\">6.88769</td><td style = \"text-align: right;\">7.21493</td><td style = \"text-align: right;\">-85.53</td><td style = \"text-align: right;\">2.59179</td></tr><tr><td class = \"rowNumber\" style = \"font-weight: bold; text-align: right;\">8</td><td style = \"text-align: right;\">-122.48</td><td style = \"text-align: right;\">38.31</td><td style = \"text-align: right;\">29.0</td><td style = \"text-align: right;\">2375.0</td><td style = \"text-align: right;\">560.0</td><td style = \"text-align: right;\">1124.0</td><td style = \"text-align: right;\">502.0</td><td style = \"text-align: right;\">2.3276</td><td style = \"text-align: right;\">3</td><td style = \"text-align: right;\">4.24107</td><td style = \"text-align: right;\">4.73108</td><td style = \"text-align: right;\">-84.17</td><td style = \"text-align: right;\">2.00714</td></tr><tr><td class = \"rowNumber\" style = \"font-weight: bold; text-align: right;\">9</td><td style = \"text-align: right;\">-117.64</td><td style = \"text-align: right;\">34.08</td><td style = \"text-align: right;\">35.0</td><td style = \"text-align: right;\">1254.0</td><td style = \"text-align: right;\">241.0</td><td style = \"text-align: right;\">729.0</td><td style = \"text-align: right;\">253.0</td><td style = \"text-align: right;\">3.495</td><td style = \"text-align: right;\">4</td><td style = \"text-align: right;\">5.20332</td><td style = \"text-align: right;\">4.95652</td><td style = \"text-align: right;\">-83.56</td><td style = \"text-align: right;\">3.0249</td></tr><tr><td class = \"rowNumber\" style = \"font-weight: bold; text-align: right;\">10</td><td style = \"text-align: right;\">-118.16</td><td style = \"text-align: right;\">34.04</td><td style = \"text-align: right;\">45.0</td><td style = \"text-align: right;\">332.0</td><td style = \"text-align: right;\">70.0</td><td style = \"text-align: right;\">302.0</td><td style = \"text-align: right;\">60.0</td><td style = \"text-align: right;\">3.1895</td><td style = \"text-align: right;\">3</td><td style = \"text-align: right;\">4.74286</td><td style = \"text-align: right;\">5.53333</td><td style = \"text-align: right;\">-84.12</td><td style = \"text-align: right;\">4.31429</td></tr><tr><td class = \"rowNumber\" style = \"font-weight: bold; text-align: right;\">11</td><td style = \"text-align: right;\">-122.44</td><td style = \"text-align: right;\">37.78</td><td style = \"text-align: right;\">31.0</td><td style = \"text-align: right;\">1364.0</td><td style = \"text-align: right;\">386.0</td><td style = \"text-align: right;\">707.0</td><td style = \"text-align: right;\">379.0</td><td style = \"text-align: right;\">3.1607</td><td style = \"text-align: right;\">2</td><td style = \"text-align: right;\">3.53368</td><td style = \"text-align: right;\">3.59894</td><td style = \"text-align: right;\">-84.66</td><td style = \"text-align: right;\">1.83161</td></tr><tr><td class = \"rowNumber\" style = \"font-weight: bold; text-align: right;\">12</td><td style = \"text-align: right;\">-116.44</td><td style = \"text-align: right;\">33.77</td><td style = \"text-align: right;\">18.0</td><td style = \"text-align: right;\">4872.0</td><td style = \"text-align: right;\">1110.0</td><td style = \"text-align: right;\">955.0</td><td style = \"text-align: right;\">656.0</td><td style = \"text-align: right;\">2.2439</td><td style = \"text-align: right;\">4</td><td style = \"text-align: right;\">4.38919</td><td style = \"text-align: right;\">7.42683</td><td style = \"text-align: right;\">-82.67</td><td style = \"text-align: right;\">0.86036</td></tr><tr><td class = \"rowNumber\" style = \"font-weight: bold; text-align: right;\">13</td><td style = \"text-align: right;\">-117.3</td><td style = \"text-align: right;\">34.12</td><td style = \"text-align: right;\">50.0</td><td style = \"text-align: right;\">1629.0</td><td style = \"text-align: right;\">437.0</td><td style = \"text-align: right;\">1581.0</td><td style = \"text-align: right;\">394.0</td><td style = \"text-align: right;\">2.2019</td><td style = \"text-align: right;\">4</td><td style = \"text-align: right;\">3.72769</td><td style = \"text-align: right;\">4.13452</td><td style = \"text-align: right;\">-83.18</td><td style = \"text-align: right;\">3.61785</td></tr><tr><td style = \"text-align: right;\">&vellip;</td><td style = \"text-align: right;\">&vellip;</td><td style = \"text-align: right;\">&vellip;</td><td style = \"text-align: right;\">&vellip;</td><td style = \"text-align: right;\">&vellip;</td><td style = \"text-align: right;\">&vellip;</td><td style = \"text-align: right;\">&vellip;</td><td style = \"text-align: right;\">&vellip;</td><td style = \"text-align: right;\">&vellip;</td><td style = \"text-align: right;\">&vellip;</td><td style = \"text-align: right;\">&vellip;</td><td style = \"text-align: right;\">&vellip;</td><td style = \"text-align: right;\">&vellip;</td><td style = \"text-align: right;\">&vellip;</td></tr><tr><td class = \"rowNumber\" style = \"font-weight: bold; text-align: right;\">4057</td><td style = \"text-align: right;\">-118.57</td><td style = \"text-align: right;\">34.23</td><td style = \"text-align: right;\">22.0</td><td style = \"text-align: right;\">3275.0</td><td style = \"text-align: right;\">648.0</td><td style = \"text-align: right;\">1746.0</td><td style = \"text-align: right;\">585.0</td><td style = \"text-align: right;\">4.9676</td><td style = \"text-align: right;\">3</td><td style = \"text-align: right;\">5.05401</td><td style = \"text-align: right;\">5.59829</td><td style = \"text-align: right;\">-84.34</td><td style = \"text-align: right;\">2.69444</td></tr><tr><td class = \"rowNumber\" style = \"font-weight: bold; text-align: right;\">4058</td><td style = \"text-align: right;\">-118.13</td><td style = \"text-align: right;\">34.05</td><td style = \"text-align: right;\">35.0</td><td style = \"text-align: right;\">3229.0</td><td style = \"text-align: right;\">616.0</td><td style = \"text-align: right;\">1879.0</td><td style = \"text-align: right;\">595.0</td><td style = \"text-align: right;\">3.9531</td><td style = \"text-align: right;\">3</td><td style = \"text-align: right;\">5.24188</td><td style = \"text-align: right;\">5.42689</td><td style = \"text-align: right;\">-84.08</td><td style = \"text-align: right;\">3.05032</td></tr><tr><td class = \"rowNumber\" style = \"font-weight: bold; text-align: right;\">4059</td><td style = \"text-align: right;\">-117.68</td><td style = \"text-align: right;\">33.55</td><td style = \"text-align: right;\">5.0</td><td style = \"text-align: right;\">2262.0</td><td style = \"text-align: right;\">427.0</td><td style = \"text-align: right;\">1016.0</td><td style = \"text-align: right;\">402.0</td><td style = \"text-align: right;\">6.065</td><td style = \"text-align: right;\">3</td><td style = \"text-align: right;\">5.29742</td><td style = \"text-align: right;\">5.62687</td><td style = \"text-align: right;\">-84.13</td><td style = \"text-align: right;\">2.37939</td></tr><tr><td class = \"rowNumber\" style = \"font-weight: bold; text-align: right;\">4060</td><td style = \"text-align: right;\">-122.08</td><td style = \"text-align: right;\">37.69</td><td style = \"text-align: right;\">36.0</td><td style = \"text-align: right;\">2350.0</td><td style = \"text-align: right;\">499.0</td><td style = \"text-align: right;\">1105.0</td><td style = \"text-align: right;\">467.0</td><td style = \"text-align: right;\">3.3021</td><td style = \"text-align: right;\">2</td><td style = \"text-align: right;\">4.70942</td><td style = \"text-align: right;\">5.03212</td><td style = \"text-align: right;\">-84.39</td><td style = \"text-align: right;\">2.21443</td></tr><tr><td class = \"rowNumber\" style = \"font-weight: bold; text-align: right;\">4061</td><td style = \"text-align: right;\">-117.87</td><td style = \"text-align: right;\">33.89</td><td style = \"text-align: right;\">17.0</td><td style = \"text-align: right;\">1441.0</td><td style = \"text-align: right;\">530.0</td><td style = \"text-align: right;\">769.0</td><td style = \"text-align: right;\">456.0</td><td style = \"text-align: right;\">2.425</td><td style = \"text-align: right;\">3</td><td style = \"text-align: right;\">2.71887</td><td style = \"text-align: right;\">3.16009</td><td style = \"text-align: right;\">-83.98</td><td style = \"text-align: right;\">1.45094</td></tr><tr><td class = \"rowNumber\" style = \"font-weight: bold; text-align: right;\">4062</td><td style = \"text-align: right;\">-117.98</td><td style = \"text-align: right;\">33.71</td><td style = \"text-align: right;\">26.0</td><td style = \"text-align: right;\">1905.0</td><td style = \"text-align: right;\">373.0</td><td style = \"text-align: right;\">1098.0</td><td style = \"text-align: right;\">368.0</td><td style = \"text-align: right;\">4.8611</td><td style = \"text-align: right;\">3</td><td style = \"text-align: right;\">5.10724</td><td style = \"text-align: right;\">5.17663</td><td style = \"text-align: right;\">-84.27</td><td style = \"text-align: right;\">2.9437</td></tr><tr><td class = \"rowNumber\" style = \"font-weight: bold; text-align: right;\">4063</td><td style = \"text-align: right;\">-118.21</td><td style = \"text-align: right;\">33.92</td><td style = \"text-align: right;\">37.0</td><td style = \"text-align: right;\">1705.0</td><td style = \"text-align: right;\">403.0</td><td style = \"text-align: right;\">1839.0</td><td style = \"text-align: right;\">410.0</td><td style = \"text-align: right;\">2.5833</td><td style = \"text-align: right;\">3</td><td style = \"text-align: right;\">4.23077</td><td style = \"text-align: right;\">4.15854</td><td style = \"text-align: right;\">-84.29</td><td style = \"text-align: right;\">4.56328</td></tr><tr><td class = \"rowNumber\" style = \"font-weight: bold; text-align: right;\">4064</td><td style = \"text-align: right;\">-119.7</td><td style = \"text-align: right;\">36.82</td><td style = \"text-align: right;\">25.0</td><td style = \"text-align: right;\">2379.0</td><td style = \"text-align: right;\">540.0</td><td style = \"text-align: right;\">1482.0</td><td style = \"text-align: right;\">484.0</td><td style = \"text-align: right;\">2.3173</td><td style = \"text-align: right;\">4</td><td style = \"text-align: right;\">4.40556</td><td style = \"text-align: right;\">4.91529</td><td style = \"text-align: right;\">-82.88</td><td style = \"text-align: right;\">2.74444</td></tr><tr><td class = \"rowNumber\" style = \"font-weight: bold; text-align: right;\">4065</td><td style = \"text-align: right;\">-118.44</td><td style = \"text-align: right;\">34.04</td><td style = \"text-align: right;\">49.0</td><td style = \"text-align: right;\">32.0</td><td style = \"text-align: right;\">7.0</td><td style = \"text-align: right;\">14.0</td><td style = \"text-align: right;\">7.0</td><td style = \"text-align: right;\">2.1875</td><td style = \"text-align: right;\">3</td><td style = \"text-align: right;\">4.57143</td><td style = \"text-align: right;\">4.57143</td><td style = \"text-align: right;\">-84.4</td><td style = \"text-align: right;\">2.0</td></tr><tr><td class = \"rowNumber\" style = \"font-weight: bold; text-align: right;\">4066</td><td style = \"text-align: right;\">-122.37</td><td style = \"text-align: right;\">37.6</td><td style = \"text-align: right;\">26.0</td><td style = \"text-align: right;\">15.0</td><td style = \"text-align: right;\">3.0</td><td style = \"text-align: right;\">11.0</td><td style = \"text-align: right;\">3.0</td><td style = \"text-align: right;\">5.048</td><td style = \"text-align: right;\">1</td><td style = \"text-align: right;\">5.0</td><td style = \"text-align: right;\">5.0</td><td style = \"text-align: right;\">-84.77</td><td style = \"text-align: right;\">3.66667</td></tr><tr><td class = \"rowNumber\" style = \"font-weight: bold; text-align: right;\">4067</td><td style = \"text-align: right;\">-118.1</td><td style = \"text-align: right;\">34.09</td><td style = \"text-align: right;\">42.0</td><td style = \"text-align: right;\">1460.0</td><td style = \"text-align: right;\">289.0</td><td style = \"text-align: right;\">829.0</td><td style = \"text-align: right;\">273.0</td><td style = \"text-align: right;\">4.875</td><td style = \"text-align: right;\">3</td><td style = \"text-align: right;\">5.0519</td><td style = \"text-align: right;\">5.34799</td><td style = \"text-align: right;\">-84.01</td><td style = \"text-align: right;\">2.86851</td></tr><tr><td class = \"rowNumber\" style = \"font-weight: bold; text-align: right;\">4068</td><td style = \"text-align: right;\">-117.38</td><td style = \"text-align: right;\">33.99</td><td style = \"text-align: right;\">52.0</td><td style = \"text-align: right;\">1797.0</td><td style = \"text-align: right;\">332.0</td><td style = \"text-align: right;\">905.0</td><td style = \"text-align: right;\">313.0</td><td style = \"text-align: right;\">2.7054</td><td style = \"text-align: right;\">4</td><td style = \"text-align: right;\">5.41265</td><td style = \"text-align: right;\">5.74121</td><td style = \"text-align: right;\">-83.39</td><td style = \"text-align: right;\">2.7259</td></tr></tbody></table></div>"
      ],
      "text/latex": [
       "\\begin{tabular}{r|ccccccc}\n",
       "\t& longitude & latitude & housing\\_median\\_age & total\\_rooms & total\\_bedrooms & population & \\\\\n",
       "\t\\hline\n",
       "\t& Float64 & Float64 & Float64 & Float64 & Float64 & Float64 & \\\\\n",
       "\t\\hline\n",
       "\t1 & -118.36 & 34.06 & 39.0 & 2810.0 & 670.0 & 1109.0 & $\\dots$ \\\\\n",
       "\t2 & -119.78 & 36.78 & 37.0 & 2185.0 & 455.0 & 1143.0 & $\\dots$ \\\\\n",
       "\t3 & -122.42 & 37.73 & 46.0 & 1819.0 & 411.0 & 1534.0 & $\\dots$ \\\\\n",
       "\t4 & -122.28 & 37.81 & 52.0 & 340.0 & 97.0 & 200.0 & $\\dots$ \\\\\n",
       "\t5 & -118.13 & 33.82 & 37.0 & 1530.0 & 290.0 & 711.0 & $\\dots$ \\\\\n",
       "\t6 & -118.16 & 34.15 & 17.0 & 821.0 & 163.0 & 229.0 & $\\dots$ \\\\\n",
       "\t7 & -120.44 & 34.91 & 12.0 & 3189.0 & 463.0 & 1200.0 & $\\dots$ \\\\\n",
       "\t8 & -122.48 & 38.31 & 29.0 & 2375.0 & 560.0 & 1124.0 & $\\dots$ \\\\\n",
       "\t9 & -117.64 & 34.08 & 35.0 & 1254.0 & 241.0 & 729.0 & $\\dots$ \\\\\n",
       "\t10 & -118.16 & 34.04 & 45.0 & 332.0 & 70.0 & 302.0 & $\\dots$ \\\\\n",
       "\t11 & -122.44 & 37.78 & 31.0 & 1364.0 & 386.0 & 707.0 & $\\dots$ \\\\\n",
       "\t12 & -116.44 & 33.77 & 18.0 & 4872.0 & 1110.0 & 955.0 & $\\dots$ \\\\\n",
       "\t13 & -117.3 & 34.12 & 50.0 & 1629.0 & 437.0 & 1581.0 & $\\dots$ \\\\\n",
       "\t14 & -118.34 & 34.26 & 37.0 & 1776.0 & 301.0 & 702.0 & $\\dots$ \\\\\n",
       "\t15 & -117.37 & 33.97 & 34.0 & 3676.0 & 697.0 & 2653.0 & $\\dots$ \\\\\n",
       "\t16 & -118.24 & 33.97 & 37.0 & 1212.0 & 314.0 & 1403.0 & $\\dots$ \\\\\n",
       "\t17 & -121.87 & 37.22 & 17.0 & 2825.0 & 365.0 & 1052.0 & $\\dots$ \\\\\n",
       "\t18 & -117.89 & 34.12 & 35.0 & 1447.0 & 272.0 & 1224.0 & $\\dots$ \\\\\n",
       "\t19 & -118.09 & 34.07 & 31.0 & 1054.0 & 252.0 & 1032.0 & $\\dots$ \\\\\n",
       "\t20 & -122.46 & 37.72 & 49.0 & 1207.0 & 255.0 & 658.0 & $\\dots$ \\\\\n",
       "\t21 & -122.64 & 41.73 & 36.0 & 3319.0 & 664.0 & 1492.0 & $\\dots$ \\\\\n",
       "\t22 & -121.63 & 36.68 & 24.0 & 2591.0 & 739.0 & 3243.0 & $\\dots$ \\\\\n",
       "\t23 & -121.22 & 37.96 & 30.0 & 1737.0 & 381.0 & 1177.0 & $\\dots$ \\\\\n",
       "\t24 & -117.03 & 32.79 & 31.0 & 2366.0 & 383.0 & 1077.0 & $\\dots$ \\\\\n",
       "\t$\\dots$ & $\\dots$ & $\\dots$ & $\\dots$ & $\\dots$ & $\\dots$ & $\\dots$ &  \\\\\n",
       "\\end{tabular}\n"
      ],
      "text/plain": [
       "\u001b[1m4068×13 DataFrame\u001b[0m\n",
       "\u001b[1m  Row \u001b[0m│\u001b[1m longitude \u001b[0m\u001b[1m latitude \u001b[0m\u001b[1m housing_median_age \u001b[0m\u001b[1m total_rooms \u001b[0m\u001b[1m total_bedrooms \u001b[0m\u001b[1m \u001b[0m ⋯\n",
       "      │\u001b[90m Float64   \u001b[0m\u001b[90m Float64  \u001b[0m\u001b[90m Float64            \u001b[0m\u001b[90m Float64     \u001b[0m\u001b[90m Float64        \u001b[0m\u001b[90m \u001b[0m ⋯\n",
       "──────┼─────────────────────────────────────────────────────────────────────────\n",
       "    1 │   -118.36     34.06                39.0       2810.0           670.0   ⋯\n",
       "    2 │   -119.78     36.78                37.0       2185.0           455.0\n",
       "    3 │   -122.42     37.73                46.0       1819.0           411.0\n",
       "    4 │   -122.28     37.81                52.0        340.0            97.0\n",
       "    5 │   -118.13     33.82                37.0       1530.0           290.0   ⋯\n",
       "    6 │   -118.16     34.15                17.0        821.0           163.0\n",
       "    7 │   -120.44     34.91                12.0       3189.0           463.0\n",
       "    8 │   -122.48     38.31                29.0       2375.0           560.0\n",
       "  ⋮   │     ⋮         ⋮              ⋮                ⋮             ⋮          ⋱\n",
       " 4062 │   -117.98     33.71                26.0       1905.0           373.0   ⋯\n",
       " 4063 │   -118.21     33.92                37.0       1705.0           403.0\n",
       " 4064 │   -119.7      36.82                25.0       2379.0           540.0\n",
       " 4065 │   -118.44     34.04                49.0         32.0             7.0\n",
       " 4066 │   -122.37     37.6                 26.0         15.0             3.0   ⋯\n",
       " 4067 │   -118.1      34.09                42.0       1460.0           289.0\n",
       " 4068 │   -117.38     33.99                52.0       1797.0           332.0\n",
       "\u001b[36m                                                 8 columns and 4053 rows omitted\u001b[0m"
      ]
     },
     "metadata": {},
     "output_type": "display_data"
    }
   ],
   "source": [
    "x_train"
   ]
  },
  {
   "cell_type": "code",
   "execution_count": null,
   "id": "08d80137",
   "metadata": {},
   "outputs": [],
   "source": []
  },
  {
   "cell_type": "code",
   "execution_count": null,
   "id": "60cb75b9",
   "metadata": {},
   "outputs": [],
   "source": []
  },
  {
   "cell_type": "code",
   "execution_count": 188,
   "id": "a9fa1194",
   "metadata": {},
   "outputs": [
    {
     "data": {
      "text/plain": [
       "(4068, 15)"
      ]
     },
     "metadata": {},
     "output_type": "display_data"
    }
   ],
   "source": []
  }
 ],
 "metadata": {
  "kernelspec": {
   "display_name": "Julia 1.10.2",
   "language": "julia",
   "name": "julia-1.10"
  },
  "language_info": {
   "file_extension": ".jl",
   "mimetype": "application/julia",
   "name": "julia",
   "version": "1.10.2"
  }
 },
 "nbformat": 4,
 "nbformat_minor": 5
}
