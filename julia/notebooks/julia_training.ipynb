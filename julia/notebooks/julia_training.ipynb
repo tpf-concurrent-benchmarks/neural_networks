{
 "cells": [
  {
   "cell_type": "markdown",
   "id": "c40f287f-eb29-43ae-b776-a36de4794a5b",
   "metadata": {},
   "source": [
    "# Training"
   ]
  },
  {
   "cell_type": "code",
   "execution_count": null,
   "id": "bb043179",
   "metadata": {},
   "outputs": [],
   "source": []
  },
  {
   "cell_type": "code",
   "execution_count": 333,
   "id": "ecfefcf4",
   "metadata": {},
   "outputs": [],
   "source": [
    "using Pkg\n",
    "deps = [\"DataFrames\", \"CSV\", \"ScikitLearn\", \"Statistics\", \"Flux\", \"ProgressMeter\", \"FluxTraining\"]\n",
    "Pkg.add(deps)"
   ]
  },
  {
   "cell_type": "code",
   "execution_count": 203,
   "id": "3a0ee701-32fa-4d7e-af8e-443a6495abdd",
   "metadata": {},
   "outputs": [],
   "source": [
    "using DataFrames, CSV, ScikitLearn, Statistics, Flux"
   ]
  },
  {
   "cell_type": "code",
   "execution_count": 156,
   "id": "03c4963b",
   "metadata": {},
   "outputs": [
    {
     "data": {
      "text/html": [
       "<div><div style = \"float: left;\"><span>4128×10 DataFrame</span></div><div style = \"float: right;\"><span style = \"font-style: italic;\">4103 rows omitted</span></div><div style = \"clear: both;\"></div></div><div class = \"data-frame\" style = \"overflow-x: scroll;\"><table class = \"data-frame\" style = \"margin-bottom: 6px;\"><thead><tr class = \"header\"><th class = \"rowNumber\" style = \"font-weight: bold; text-align: right;\">Row</th><th style = \"text-align: left;\">longitude</th><th style = \"text-align: left;\">latitude</th><th style = \"text-align: left;\">housing_median_age</th><th style = \"text-align: left;\">total_rooms</th><th style = \"text-align: left;\">total_bedrooms</th><th style = \"text-align: left;\">population</th><th style = \"text-align: left;\">households</th><th style = \"text-align: left;\">median_income</th><th style = \"text-align: left;\">ocean_proximity</th><th style = \"text-align: left;\">median_house_value</th></tr><tr class = \"subheader headerLastRow\"><th class = \"rowNumber\" style = \"font-weight: bold; text-align: right;\"></th><th title = \"Float64\" style = \"text-align: left;\">Float64</th><th title = \"Float64\" style = \"text-align: left;\">Float64</th><th title = \"Float64\" style = \"text-align: left;\">Float64</th><th title = \"Float64\" style = \"text-align: left;\">Float64</th><th title = \"Union{Missing, Float64}\" style = \"text-align: left;\">Float64?</th><th title = \"Float64\" style = \"text-align: left;\">Float64</th><th title = \"Float64\" style = \"text-align: left;\">Float64</th><th title = \"Float64\" style = \"text-align: left;\">Float64</th><th title = \"String15\" style = \"text-align: left;\">String15</th><th title = \"Float64\" style = \"text-align: left;\">Float64</th></tr></thead><tbody><tr><td class = \"rowNumber\" style = \"font-weight: bold; text-align: right;\">1</td><td style = \"text-align: right;\">-118.36</td><td style = \"text-align: right;\">34.06</td><td style = \"text-align: right;\">39.0</td><td style = \"text-align: right;\">2810.0</td><td style = \"text-align: right;\">670.0</td><td style = \"text-align: right;\">1109.0</td><td style = \"text-align: right;\">624.0</td><td style = \"text-align: right;\">3.25</td><td style = \"text-align: left;\">&lt;1H OCEAN</td><td style = \"text-align: right;\">355000.0</td></tr><tr><td class = \"rowNumber\" style = \"font-weight: bold; text-align: right;\">2</td><td style = \"text-align: right;\">-119.78</td><td style = \"text-align: right;\">36.78</td><td style = \"text-align: right;\">37.0</td><td style = \"text-align: right;\">2185.0</td><td style = \"text-align: right;\">455.0</td><td style = \"text-align: right;\">1143.0</td><td style = \"text-align: right;\">438.0</td><td style = \"text-align: right;\">1.9784</td><td style = \"text-align: left;\">INLAND</td><td style = \"text-align: right;\">70700.0</td></tr><tr><td class = \"rowNumber\" style = \"font-weight: bold; text-align: right;\">3</td><td style = \"text-align: right;\">-122.42</td><td style = \"text-align: right;\">37.73</td><td style = \"text-align: right;\">46.0</td><td style = \"text-align: right;\">1819.0</td><td style = \"text-align: right;\">411.0</td><td style = \"text-align: right;\">1534.0</td><td style = \"text-align: right;\">406.0</td><td style = \"text-align: right;\">4.0132</td><td style = \"text-align: left;\">NEAR BAY</td><td style = \"text-align: right;\">229400.0</td></tr><tr><td class = \"rowNumber\" style = \"font-weight: bold; text-align: right;\">4</td><td style = \"text-align: right;\">-122.28</td><td style = \"text-align: right;\">37.81</td><td style = \"text-align: right;\">52.0</td><td style = \"text-align: right;\">340.0</td><td style = \"text-align: right;\">97.0</td><td style = \"text-align: right;\">200.0</td><td style = \"text-align: right;\">87.0</td><td style = \"text-align: right;\">1.5208</td><td style = \"text-align: left;\">NEAR BAY</td><td style = \"text-align: right;\">112500.0</td></tr><tr><td class = \"rowNumber\" style = \"font-weight: bold; text-align: right;\">5</td><td style = \"text-align: right;\">-118.13</td><td style = \"text-align: right;\">33.82</td><td style = \"text-align: right;\">37.0</td><td style = \"text-align: right;\">1530.0</td><td style = \"text-align: right;\">290.0</td><td style = \"text-align: right;\">711.0</td><td style = \"text-align: right;\">283.0</td><td style = \"text-align: right;\">5.1795</td><td style = \"text-align: left;\">&lt;1H OCEAN</td><td style = \"text-align: right;\">225400.0</td></tr><tr><td class = \"rowNumber\" style = \"font-weight: bold; text-align: right;\">6</td><td style = \"text-align: right;\">-118.16</td><td style = \"text-align: right;\">34.15</td><td style = \"text-align: right;\">17.0</td><td style = \"text-align: right;\">821.0</td><td style = \"text-align: right;\">163.0</td><td style = \"text-align: right;\">229.0</td><td style = \"text-align: right;\">164.0</td><td style = \"text-align: right;\">7.3715</td><td style = \"text-align: left;\">&lt;1H OCEAN</td><td style = \"text-align: right;\">263000.0</td></tr><tr><td class = \"rowNumber\" style = \"font-weight: bold; text-align: right;\">7</td><td style = \"text-align: right;\">-120.44</td><td style = \"text-align: right;\">34.91</td><td style = \"text-align: right;\">12.0</td><td style = \"text-align: right;\">3189.0</td><td style = \"text-align: right;\">463.0</td><td style = \"text-align: right;\">1200.0</td><td style = \"text-align: right;\">442.0</td><td style = \"text-align: right;\">5.299</td><td style = \"text-align: left;\">&lt;1H OCEAN</td><td style = \"text-align: right;\">226800.0</td></tr><tr><td class = \"rowNumber\" style = \"font-weight: bold; text-align: right;\">8</td><td style = \"text-align: right;\">-122.48</td><td style = \"text-align: right;\">38.31</td><td style = \"text-align: right;\">29.0</td><td style = \"text-align: right;\">2375.0</td><td style = \"text-align: right;\">560.0</td><td style = \"text-align: right;\">1124.0</td><td style = \"text-align: right;\">502.0</td><td style = \"text-align: right;\">2.3276</td><td style = \"text-align: left;\">&lt;1H OCEAN</td><td style = \"text-align: right;\">166200.0</td></tr><tr><td class = \"rowNumber\" style = \"font-weight: bold; text-align: right;\">9</td><td style = \"text-align: right;\">-117.64</td><td style = \"text-align: right;\">34.08</td><td style = \"text-align: right;\">35.0</td><td style = \"text-align: right;\">1254.0</td><td style = \"text-align: right;\">241.0</td><td style = \"text-align: right;\">729.0</td><td style = \"text-align: right;\">253.0</td><td style = \"text-align: right;\">3.495</td><td style = \"text-align: left;\">INLAND</td><td style = \"text-align: right;\">118000.0</td></tr><tr><td class = \"rowNumber\" style = \"font-weight: bold; text-align: right;\">10</td><td style = \"text-align: right;\">-118.16</td><td style = \"text-align: right;\">34.04</td><td style = \"text-align: right;\">45.0</td><td style = \"text-align: right;\">332.0</td><td style = \"text-align: right;\">70.0</td><td style = \"text-align: right;\">302.0</td><td style = \"text-align: right;\">60.0</td><td style = \"text-align: right;\">3.1895</td><td style = \"text-align: left;\">&lt;1H OCEAN</td><td style = \"text-align: right;\">156300.0</td></tr><tr><td class = \"rowNumber\" style = \"font-weight: bold; text-align: right;\">11</td><td style = \"text-align: right;\">-122.44</td><td style = \"text-align: right;\">37.78</td><td style = \"text-align: right;\">31.0</td><td style = \"text-align: right;\">1364.0</td><td style = \"text-align: right;\">386.0</td><td style = \"text-align: right;\">707.0</td><td style = \"text-align: right;\">379.0</td><td style = \"text-align: right;\">3.1607</td><td style = \"text-align: left;\">NEAR BAY</td><td style = \"text-align: right;\">293800.0</td></tr><tr><td class = \"rowNumber\" style = \"font-weight: bold; text-align: right;\">12</td><td style = \"text-align: right;\">-116.44</td><td style = \"text-align: right;\">33.77</td><td style = \"text-align: right;\">18.0</td><td style = \"text-align: right;\">4872.0</td><td style = \"text-align: right;\">1110.0</td><td style = \"text-align: right;\">955.0</td><td style = \"text-align: right;\">656.0</td><td style = \"text-align: right;\">2.2439</td><td style = \"text-align: left;\">INLAND</td><td style = \"text-align: right;\">97500.0</td></tr><tr><td class = \"rowNumber\" style = \"font-weight: bold; text-align: right;\">13</td><td style = \"text-align: right;\">-117.3</td><td style = \"text-align: right;\">34.12</td><td style = \"text-align: right;\">50.0</td><td style = \"text-align: right;\">1629.0</td><td style = \"text-align: right;\">437.0</td><td style = \"text-align: right;\">1581.0</td><td style = \"text-align: right;\">394.0</td><td style = \"text-align: right;\">2.2019</td><td style = \"text-align: left;\">INLAND</td><td style = \"text-align: right;\">63500.0</td></tr><tr><td style = \"text-align: right;\">&vellip;</td><td style = \"text-align: right;\">&vellip;</td><td style = \"text-align: right;\">&vellip;</td><td style = \"text-align: right;\">&vellip;</td><td style = \"text-align: right;\">&vellip;</td><td style = \"text-align: right;\">&vellip;</td><td style = \"text-align: right;\">&vellip;</td><td style = \"text-align: right;\">&vellip;</td><td style = \"text-align: right;\">&vellip;</td><td style = \"text-align: right;\">&vellip;</td><td style = \"text-align: right;\">&vellip;</td></tr><tr><td class = \"rowNumber\" style = \"font-weight: bold; text-align: right;\">4117</td><td style = \"text-align: right;\">-118.57</td><td style = \"text-align: right;\">34.23</td><td style = \"text-align: right;\">22.0</td><td style = \"text-align: right;\">3275.0</td><td style = \"text-align: right;\">648.0</td><td style = \"text-align: right;\">1746.0</td><td style = \"text-align: right;\">585.0</td><td style = \"text-align: right;\">4.9676</td><td style = \"text-align: left;\">&lt;1H OCEAN</td><td style = \"text-align: right;\">221900.0</td></tr><tr><td class = \"rowNumber\" style = \"font-weight: bold; text-align: right;\">4118</td><td style = \"text-align: right;\">-118.13</td><td style = \"text-align: right;\">34.05</td><td style = \"text-align: right;\">35.0</td><td style = \"text-align: right;\">3229.0</td><td style = \"text-align: right;\">616.0</td><td style = \"text-align: right;\">1879.0</td><td style = \"text-align: right;\">595.0</td><td style = \"text-align: right;\">3.9531</td><td style = \"text-align: left;\">&lt;1H OCEAN</td><td style = \"text-align: right;\">268400.0</td></tr><tr><td class = \"rowNumber\" style = \"font-weight: bold; text-align: right;\">4119</td><td style = \"text-align: right;\">-117.68</td><td style = \"text-align: right;\">33.55</td><td style = \"text-align: right;\">5.0</td><td style = \"text-align: right;\">2262.0</td><td style = \"text-align: right;\">427.0</td><td style = \"text-align: right;\">1016.0</td><td style = \"text-align: right;\">402.0</td><td style = \"text-align: right;\">6.065</td><td style = \"text-align: left;\">&lt;1H OCEAN</td><td style = \"text-align: right;\">315500.0</td></tr><tr><td class = \"rowNumber\" style = \"font-weight: bold; text-align: right;\">4120</td><td style = \"text-align: right;\">-122.08</td><td style = \"text-align: right;\">37.69</td><td style = \"text-align: right;\">36.0</td><td style = \"text-align: right;\">2350.0</td><td style = \"text-align: right;\">499.0</td><td style = \"text-align: right;\">1105.0</td><td style = \"text-align: right;\">467.0</td><td style = \"text-align: right;\">3.3021</td><td style = \"text-align: left;\">NEAR BAY</td><td style = \"text-align: right;\">195700.0</td></tr><tr><td class = \"rowNumber\" style = \"font-weight: bold; text-align: right;\">4121</td><td style = \"text-align: right;\">-117.87</td><td style = \"text-align: right;\">33.89</td><td style = \"text-align: right;\">17.0</td><td style = \"text-align: right;\">1441.0</td><td style = \"text-align: right;\">530.0</td><td style = \"text-align: right;\">769.0</td><td style = \"text-align: right;\">456.0</td><td style = \"text-align: right;\">2.425</td><td style = \"text-align: left;\">&lt;1H OCEAN</td><td style = \"text-align: right;\">171700.0</td></tr><tr><td class = \"rowNumber\" style = \"font-weight: bold; text-align: right;\">4122</td><td style = \"text-align: right;\">-117.98</td><td style = \"text-align: right;\">33.71</td><td style = \"text-align: right;\">26.0</td><td style = \"text-align: right;\">1905.0</td><td style = \"text-align: right;\">373.0</td><td style = \"text-align: right;\">1098.0</td><td style = \"text-align: right;\">368.0</td><td style = \"text-align: right;\">4.8611</td><td style = \"text-align: left;\">&lt;1H OCEAN</td><td style = \"text-align: right;\">229600.0</td></tr><tr><td class = \"rowNumber\" style = \"font-weight: bold; text-align: right;\">4123</td><td style = \"text-align: right;\">-118.21</td><td style = \"text-align: right;\">33.92</td><td style = \"text-align: right;\">37.0</td><td style = \"text-align: right;\">1705.0</td><td style = \"text-align: right;\">403.0</td><td style = \"text-align: right;\">1839.0</td><td style = \"text-align: right;\">410.0</td><td style = \"text-align: right;\">2.5833</td><td style = \"text-align: left;\">&lt;1H OCEAN</td><td style = \"text-align: right;\">132700.0</td></tr><tr><td class = \"rowNumber\" style = \"font-weight: bold; text-align: right;\">4124</td><td style = \"text-align: right;\">-119.7</td><td style = \"text-align: right;\">36.82</td><td style = \"text-align: right;\">25.0</td><td style = \"text-align: right;\">2379.0</td><td style = \"text-align: right;\">540.0</td><td style = \"text-align: right;\">1482.0</td><td style = \"text-align: right;\">484.0</td><td style = \"text-align: right;\">2.3173</td><td style = \"text-align: left;\">INLAND</td><td style = \"text-align: right;\">68200.0</td></tr><tr><td class = \"rowNumber\" style = \"font-weight: bold; text-align: right;\">4125</td><td style = \"text-align: right;\">-118.44</td><td style = \"text-align: right;\">34.04</td><td style = \"text-align: right;\">49.0</td><td style = \"text-align: right;\">32.0</td><td style = \"text-align: right;\">7.0</td><td style = \"text-align: right;\">14.0</td><td style = \"text-align: right;\">7.0</td><td style = \"text-align: right;\">2.1875</td><td style = \"text-align: left;\">&lt;1H OCEAN</td><td style = \"text-align: right;\">225000.0</td></tr><tr><td class = \"rowNumber\" style = \"font-weight: bold; text-align: right;\">4126</td><td style = \"text-align: right;\">-122.37</td><td style = \"text-align: right;\">37.6</td><td style = \"text-align: right;\">26.0</td><td style = \"text-align: right;\">15.0</td><td style = \"text-align: right;\">3.0</td><td style = \"text-align: right;\">11.0</td><td style = \"text-align: right;\">3.0</td><td style = \"text-align: right;\">5.048</td><td style = \"text-align: left;\">NEAR OCEAN</td><td style = \"text-align: right;\">350000.0</td></tr><tr><td class = \"rowNumber\" style = \"font-weight: bold; text-align: right;\">4127</td><td style = \"text-align: right;\">-118.1</td><td style = \"text-align: right;\">34.09</td><td style = \"text-align: right;\">42.0</td><td style = \"text-align: right;\">1460.0</td><td style = \"text-align: right;\">289.0</td><td style = \"text-align: right;\">829.0</td><td style = \"text-align: right;\">273.0</td><td style = \"text-align: right;\">4.875</td><td style = \"text-align: left;\">&lt;1H OCEAN</td><td style = \"text-align: right;\">227300.0</td></tr><tr><td class = \"rowNumber\" style = \"font-weight: bold; text-align: right;\">4128</td><td style = \"text-align: right;\">-117.38</td><td style = \"text-align: right;\">33.99</td><td style = \"text-align: right;\">52.0</td><td style = \"text-align: right;\">1797.0</td><td style = \"text-align: right;\">332.0</td><td style = \"text-align: right;\">905.0</td><td style = \"text-align: right;\">313.0</td><td style = \"text-align: right;\">2.7054</td><td style = \"text-align: left;\">INLAND</td><td style = \"text-align: right;\">141700.0</td></tr></tbody></table></div>"
      ],
      "text/latex": [
       "\\begin{tabular}{r|ccccccc}\n",
       "\t& longitude & latitude & housing\\_median\\_age & total\\_rooms & total\\_bedrooms & population & \\\\\n",
       "\t\\hline\n",
       "\t& Float64 & Float64 & Float64 & Float64 & Float64? & Float64 & \\\\\n",
       "\t\\hline\n",
       "\t1 & -118.36 & 34.06 & 39.0 & 2810.0 & 670.0 & 1109.0 & $\\dots$ \\\\\n",
       "\t2 & -119.78 & 36.78 & 37.0 & 2185.0 & 455.0 & 1143.0 & $\\dots$ \\\\\n",
       "\t3 & -122.42 & 37.73 & 46.0 & 1819.0 & 411.0 & 1534.0 & $\\dots$ \\\\\n",
       "\t4 & -122.28 & 37.81 & 52.0 & 340.0 & 97.0 & 200.0 & $\\dots$ \\\\\n",
       "\t5 & -118.13 & 33.82 & 37.0 & 1530.0 & 290.0 & 711.0 & $\\dots$ \\\\\n",
       "\t6 & -118.16 & 34.15 & 17.0 & 821.0 & 163.0 & 229.0 & $\\dots$ \\\\\n",
       "\t7 & -120.44 & 34.91 & 12.0 & 3189.0 & 463.0 & 1200.0 & $\\dots$ \\\\\n",
       "\t8 & -122.48 & 38.31 & 29.0 & 2375.0 & 560.0 & 1124.0 & $\\dots$ \\\\\n",
       "\t9 & -117.64 & 34.08 & 35.0 & 1254.0 & 241.0 & 729.0 & $\\dots$ \\\\\n",
       "\t10 & -118.16 & 34.04 & 45.0 & 332.0 & 70.0 & 302.0 & $\\dots$ \\\\\n",
       "\t11 & -122.44 & 37.78 & 31.0 & 1364.0 & 386.0 & 707.0 & $\\dots$ \\\\\n",
       "\t12 & -116.44 & 33.77 & 18.0 & 4872.0 & 1110.0 & 955.0 & $\\dots$ \\\\\n",
       "\t13 & -117.3 & 34.12 & 50.0 & 1629.0 & 437.0 & 1581.0 & $\\dots$ \\\\\n",
       "\t14 & -118.34 & 34.26 & 37.0 & 1776.0 & 301.0 & 702.0 & $\\dots$ \\\\\n",
       "\t15 & -117.37 & 33.97 & 34.0 & 3676.0 & 697.0 & 2653.0 & $\\dots$ \\\\\n",
       "\t16 & -118.24 & 33.97 & 37.0 & 1212.0 & 314.0 & 1403.0 & $\\dots$ \\\\\n",
       "\t17 & -121.87 & 37.22 & 17.0 & 2825.0 & 365.0 & 1052.0 & $\\dots$ \\\\\n",
       "\t18 & -117.89 & 34.12 & 35.0 & 1447.0 & 272.0 & 1224.0 & $\\dots$ \\\\\n",
       "\t19 & -118.09 & 34.07 & 31.0 & 1054.0 & 252.0 & 1032.0 & $\\dots$ \\\\\n",
       "\t20 & -122.46 & 37.72 & 49.0 & 1207.0 & 255.0 & 658.0 & $\\dots$ \\\\\n",
       "\t21 & -122.64 & 41.73 & 36.0 & 3319.0 & 664.0 & 1492.0 & $\\dots$ \\\\\n",
       "\t22 & -121.63 & 36.68 & 24.0 & 2591.0 & 739.0 & 3243.0 & $\\dots$ \\\\\n",
       "\t23 & -121.22 & 37.96 & 30.0 & 1737.0 & 381.0 & 1177.0 & $\\dots$ \\\\\n",
       "\t24 & -117.03 & 32.79 & 31.0 & 2366.0 & 383.0 & 1077.0 & $\\dots$ \\\\\n",
       "\t$\\dots$ & $\\dots$ & $\\dots$ & $\\dots$ & $\\dots$ & $\\dots$ & $\\dots$ &  \\\\\n",
       "\\end{tabular}\n"
      ],
      "text/plain": [
       "\u001b[1m4128×10 DataFrame\u001b[0m\n",
       "\u001b[1m  Row \u001b[0m│\u001b[1m longitude \u001b[0m\u001b[1m latitude \u001b[0m\u001b[1m housing_median_age \u001b[0m\u001b[1m total_rooms \u001b[0m\u001b[1m total_bedrooms \u001b[0m\u001b[1m \u001b[0m ⋯\n",
       "      │\u001b[90m Float64   \u001b[0m\u001b[90m Float64  \u001b[0m\u001b[90m Float64            \u001b[0m\u001b[90m Float64     \u001b[0m\u001b[90m Float64?       \u001b[0m\u001b[90m \u001b[0m ⋯\n",
       "──────┼─────────────────────────────────────────────────────────────────────────\n",
       "    1 │   -118.36     34.06                39.0       2810.0           670.0   ⋯\n",
       "    2 │   -119.78     36.78                37.0       2185.0           455.0\n",
       "    3 │   -122.42     37.73                46.0       1819.0           411.0\n",
       "    4 │   -122.28     37.81                52.0        340.0            97.0\n",
       "    5 │   -118.13     33.82                37.0       1530.0           290.0   ⋯\n",
       "    6 │   -118.16     34.15                17.0        821.0           163.0\n",
       "    7 │   -120.44     34.91                12.0       3189.0           463.0\n",
       "    8 │   -122.48     38.31                29.0       2375.0           560.0\n",
       "  ⋮   │     ⋮         ⋮              ⋮                ⋮             ⋮          ⋱\n",
       " 4122 │   -117.98     33.71                26.0       1905.0           373.0   ⋯\n",
       " 4123 │   -118.21     33.92                37.0       1705.0           403.0\n",
       " 4124 │   -119.7      36.82                25.0       2379.0           540.0\n",
       " 4125 │   -118.44     34.04                49.0         32.0             7.0\n",
       " 4126 │   -122.37     37.6                 26.0         15.0             3.0   ⋯\n",
       " 4127 │   -118.1      34.09                42.0       1460.0           289.0\n",
       " 4128 │   -117.38     33.99                52.0       1797.0           332.0\n",
       "\u001b[36m                                                 5 columns and 4113 rows omitted\u001b[0m"
      ]
     },
     "metadata": {},
     "output_type": "display_data"
    }
   ],
   "source": [
    "test_df = DataFrame(CSV.File(\"../../data/test.csv\"))"
   ]
  },
  {
   "cell_type": "code",
   "execution_count": 197,
   "id": "8c78b73e",
   "metadata": {},
   "outputs": [
    {
     "data": {
      "text/plain": [
       "apply_feature_engineering (generic function with 1 method)"
      ]
     },
     "metadata": {},
     "output_type": "display_data"
    }
   ],
   "source": [
    "function remove_outliers( df::DataFrame, feat::String, q=0.05 )\n",
    "    Qi = quantile(df[:,feat], q)\n",
    "    Qf = quantile(df[:,feat], 1-q)\n",
    "    IQR = Qf-Qi\n",
    "\n",
    "    Qi -= 1.5*IQR\n",
    "    Qf += 1.5*IQR\n",
    "    \n",
    "    return df[ (df[:,feat] .> Qi) .& (df[:,feat] .< Qf) , : ]\n",
    "end\n",
    "\n",
    "function apply_feature_engineering(df::DataFrame, keep_outliers::Bool)\n",
    "    df.total_bedrooms .= coalesce.(df.total_bedrooms, mean(skipmissing(df.total_bedrooms)))\n",
    "    \n",
    "    custom_encoding = Dict(\"ISLAND\" => 0, \"NEAR OCEAN\" => 1, \"NEAR BAY\" => 2, \"<1H OCEAN\" => 3, \"INLAND\" => 4)\n",
    "    df.ocean_proximity_enc = get.(Ref(custom_encoding), df.ocean_proximity, missing)\n",
    "    select!(df, Not(:ocean_proximity))\n",
    "    \n",
    "    df.rooms_per_bedroom = df.total_rooms ./ df.total_bedrooms\n",
    "    df.rooms_per_household = df.total_rooms ./ df.households\n",
    "    df.encoded_position = df.longitude + df.latitude\n",
    "    df.population_per_bedrooms = df.population ./ df.total_bedrooms\n",
    "    df.target = df.median_house_value\n",
    "    select!(df, Not(:median_house_value))\n",
    "    \n",
    "    if !keep_outliers\n",
    "        for name in names(df)\n",
    "            df = remove_outliers(df, name, 0.05)\n",
    "        end\n",
    "    end\n",
    "    \n",
    "    return df\n",
    "end"
   ]
  },
  {
   "cell_type": "code",
   "execution_count": null,
   "id": "d0d4f7d8",
   "metadata": {},
   "outputs": [],
   "source": [
    "function rmse(y_true::AbstractVector, y_pred::AbstractVector)\n",
    "    return sqrt(mean((y_pred .- y_true) .^ 2))\n",
    "end"
   ]
  },
  {
   "cell_type": "code",
   "execution_count": 166,
   "id": "7a30528a",
   "metadata": {},
   "outputs": [
    {
     "data": {
      "text/plain": [
       "(4128, 10)"
      ]
     },
     "metadata": {},
     "output_type": "display_data"
    }
   ],
   "source": [
    "size(test_df)"
   ]
  },
  {
   "cell_type": "code",
   "execution_count": null,
   "id": "02cd3952",
   "metadata": {},
   "outputs": [],
   "source": [
    "size(apply_feature_engineering(copy(test_df), false))"
   ]
  },
  {
   "cell_type": "code",
   "execution_count": 337,
   "id": "36e92cf8",
   "metadata": {},
   "outputs": [
    {
     "data": {
      "text/plain": [
       "split_target (generic function with 1 method)"
      ]
     },
     "metadata": {},
     "output_type": "display_data"
    }
   ],
   "source": [
    "function split_target(df::DataFrame)\n",
    "    x = transpose(Matrix(select(df, Not(:target))))\n",
    "    y = Vector(df.target)\n",
    "    return x, y\n",
    "end"
   ]
  },
  {
   "cell_type": "code",
   "execution_count": 341,
   "id": "e7972013",
   "metadata": {},
   "outputs": [
    {
     "data": {
      "text/plain": [
       "([-118.36 -119.78 … -118.1 -117.38; 34.06 36.78 … 34.09 33.99; … ; -84.3 -83.0 … -84.00999999999999 -83.38999999999999; 1.655223880597015 2.512087912087912 … 2.868512110726644 2.7259036144578315], [355000.0, 70700.0, 229400.0, 112500.0, 225400.0, 263000.0, 226800.0, 166200.0, 118000.0, 156300.0  …  315500.0, 195700.0, 171700.0, 229600.0, 132700.0, 68200.0, 225000.0, 350000.0, 227300.0, 141700.0])"
      ]
     },
     "metadata": {},
     "output_type": "display_data"
    }
   ],
   "source": [
    "x_train, y_train = split_target(apply_feature_engineering(copy(test_df), false))"
   ]
  },
  {
   "cell_type": "code",
   "execution_count": 343,
   "id": "c61c46c6",
   "metadata": {},
   "outputs": [
    {
     "data": {
      "text/plain": [
       "(4068,)"
      ]
     },
     "metadata": {},
     "output_type": "display_data"
    }
   ],
   "source": [
    "size(y_train)"
   ]
  },
  {
   "cell_type": "code",
   "execution_count": 272,
   "id": "3e81ca73",
   "metadata": {},
   "outputs": [
    {
     "data": {
      "text/plain": [
       "([-118.36, 34.06, 39.0, 2810.0, 670.0, 1109.0, 624.0, 3.25, 3.0, 4.1940298507462686, 4.503205128205129, -84.3, 1.655223880597015], 355000.0)"
      ]
     },
     "metadata": {},
     "output_type": "display_data"
    }
   ],
   "source": [
    "data = [(x_train[i, :], y_train[i]) for i in 1:size(x_train, 1)]\n",
    "size(data)\n",
    "data[1]"
   ]
  },
  {
   "cell_type": "code",
   "execution_count": 314,
   "id": "d9a75b8f",
   "metadata": {},
   "outputs": [
    {
     "data": {
      "text/plain": [
       "(4068, 1)"
      ]
     },
     "metadata": {},
     "output_type": "display_data"
    }
   ],
   "source": [
    "y_train = reshape(y_train, :, 1)\n",
    "size(y_train)"
   ]
  },
  {
   "cell_type": "code",
   "execution_count": 374,
   "id": "6e2d6d0d",
   "metadata": {},
   "outputs": [
    {
     "ename": "UndefVarError",
     "evalue": "UndefVarError: `@epochs` not defined",
     "output_type": "error",
     "traceback": [
      "UndefVarError: `@epochs` not defined\n",
      "\n",
      "Stacktrace:\n",
      "  [1] eval\n",
      "    @ .\\boot.jl:385 [inlined]\n",
      "  [2] include_string(mapexpr::typeof(REPL.softscope), mod::Module, code::String, filename::String)\n",
      "    @ Base .\\loading.jl:2076\n",
      "  [3] #invokelatest#2\n",
      "    @ .\\essentials.jl:892 [inlined]\n",
      "  [4] invokelatest\n",
      "    @ .\\essentials.jl:889 [inlined]\n",
      "  [5] (::VSCodeServer.var\"#216#217\"{VSCodeServer.NotebookRunCellArguments, String})()\n",
      "    @ VSCodeServer c:\\Users\\tcivi\\.vscode\\extensions\\julialang.language-julia-1.76.2\\scripts\\packages\\VSCodeServer\\src\\serve_notebook.jl:19\n",
      "  [6] withpath(f::VSCodeServer.var\"#216#217\"{VSCodeServer.NotebookRunCellArguments, String}, path::String)\n",
      "    @ VSCodeServer c:\\Users\\tcivi\\.vscode\\extensions\\julialang.language-julia-1.76.2\\scripts\\packages\\VSCodeServer\\src\\repl.jl:274\n",
      "  [7] notebook_runcell_request(conn::VSCodeServer.JSONRPC.JSONRPCEndpoint{Base.PipeEndpoint, Base.PipeEndpoint}, params::VSCodeServer.NotebookRunCellArguments)\n",
      "    @ VSCodeServer c:\\Users\\tcivi\\.vscode\\extensions\\julialang.language-julia-1.76.2\\scripts\\packages\\VSCodeServer\\src\\serve_notebook.jl:13\n",
      "  [8] dispatch_msg(x::VSCodeServer.JSONRPC.JSONRPCEndpoint{Base.PipeEndpoint, Base.PipeEndpoint}, dispatcher::VSCodeServer.JSONRPC.MsgDispatcher, msg::Dict{String, Any})\n",
      "    @ VSCodeServer.JSONRPC c:\\Users\\tcivi\\.vscode\\extensions\\julialang.language-julia-1.76.2\\scripts\\packages\\JSONRPC\\src\\typed.jl:67\n",
      "  [9] serve_notebook(pipename::String, outputchannel_logger::Base.CoreLogging.SimpleLogger; crashreporting_pipename::String)\n",
      "    @ VSCodeServer c:\\Users\\tcivi\\.vscode\\extensions\\julialang.language-julia-1.76.2\\scripts\\packages\\VSCodeServer\\src\\serve_notebook.jl:139\n",
      " [10] top-level scope\n",
      "    @ c:\\Users\\tcivi\\.vscode\\extensions\\julialang.language-julia-1.76.2\\scripts\\notebook\\notebook.jl:35"
     ]
    }
   ],
   "source": []
  },
  {
   "cell_type": "code",
   "execution_count": 363,
   "id": "acf55453",
   "metadata": {},
   "outputs": [
    {
     "ename": "UndefVarError",
     "evalue": "UndefVarError: `@epochs` not defined",
     "output_type": "error",
     "traceback": [
      "UndefVarError: `@epochs` not defined\n",
      "\n",
      "Stacktrace:\n",
      "  [1] eval\n",
      "    @ .\\boot.jl:385 [inlined]\n",
      "  [2] include_string(mapexpr::typeof(REPL.softscope), mod::Module, code::String, filename::String)\n",
      "    @ Base .\\loading.jl:2076\n",
      "  [3] #invokelatest#2\n",
      "    @ .\\essentials.jl:892 [inlined]\n",
      "  [4] invokelatest\n",
      "    @ .\\essentials.jl:889 [inlined]\n",
      "  [5] (::VSCodeServer.var\"#216#217\"{VSCodeServer.NotebookRunCellArguments, String})()\n",
      "    @ VSCodeServer c:\\Users\\tcivi\\.vscode\\extensions\\julialang.language-julia-1.76.2\\scripts\\packages\\VSCodeServer\\src\\serve_notebook.jl:19\n",
      "  [6] withpath(f::VSCodeServer.var\"#216#217\"{VSCodeServer.NotebookRunCellArguments, String}, path::String)\n",
      "    @ VSCodeServer c:\\Users\\tcivi\\.vscode\\extensions\\julialang.language-julia-1.76.2\\scripts\\packages\\VSCodeServer\\src\\repl.jl:274\n",
      "  [7] notebook_runcell_request(conn::VSCodeServer.JSONRPC.JSONRPCEndpoint{Base.PipeEndpoint, Base.PipeEndpoint}, params::VSCodeServer.NotebookRunCellArguments)\n",
      "    @ VSCodeServer c:\\Users\\tcivi\\.vscode\\extensions\\julialang.language-julia-1.76.2\\scripts\\packages\\VSCodeServer\\src\\serve_notebook.jl:13\n",
      "  [8] dispatch_msg(x::VSCodeServer.JSONRPC.JSONRPCEndpoint{Base.PipeEndpoint, Base.PipeEndpoint}, dispatcher::VSCodeServer.JSONRPC.MsgDispatcher, msg::Dict{String, Any})\n",
      "    @ VSCodeServer.JSONRPC c:\\Users\\tcivi\\.vscode\\extensions\\julialang.language-julia-1.76.2\\scripts\\packages\\JSONRPC\\src\\typed.jl:67\n",
      "  [9] serve_notebook(pipename::String, outputchannel_logger::Base.CoreLogging.SimpleLogger; crashreporting_pipename::String)\n",
      "    @ VSCodeServer c:\\Users\\tcivi\\.vscode\\extensions\\julialang.language-julia-1.76.2\\scripts\\packages\\VSCodeServer\\src\\serve_notebook.jl:139\n",
      " [10] top-level scope\n",
      "    @ c:\\Users\\tcivi\\.vscode\\extensions\\julialang.language-julia-1.76.2\\scripts\\notebook\\notebook.jl:35"
     ]
    }
   ],
   "source": [
    "using Pkg\n",
    "Pkg.add(\"FluxTraining\")\n",
    "using Flux: @epochs"
   ]
  },
  {
   "cell_type": "code",
   "execution_count": 409,
   "id": "08d80137",
   "metadata": {},
   "outputs": [
    {
     "data": {
      "text/plain": [
       "simple_train_model (generic function with 6 methods)"
      ]
     },
     "metadata": {},
     "output_type": "display_data"
    }
   ],
   "source": [
    "function build_model(inputs::Int,\n",
    "    layers::Vector{Int},\n",
    "    layers_per_dropout::Int=0,\n",
    "    dropout_rate::Float64=0.0,\n",
    "    activation_func::Function=Flux.relu\n",
    ")\n",
    "    layer_vec = Vector{Any}()\n",
    "    push!(layer_vec, Flux.Dense(inputs => layers[1], activation_func))\n",
    "\n",
    "    count = 1\n",
    "    for i in 2:length(layers)\n",
    "        push!(layer_vec, Flux.Dense(layers[i-1] => layers[i], activation_func))\n",
    "        count += 1\n",
    "        if layers_per_dropout > 0 && count % layers_per_dropout == 0\n",
    "            push!(layer_vec, Flux.Dropout(dropout_rate))\n",
    "            count = 0\n",
    "        end\n",
    "    end\n",
    "    push!(layer_vec, Flux.Dense(last(layers) => 1))\n",
    "    model = Flux.Chain(layer_vec)\n",
    "    return model\n",
    "end\n",
    "\n",
    "function simple_train_model(train_df::DataFrame,\n",
    "    layers::Vector{Int},\n",
    "    layers_per_dropout::Int=0,\n",
    "    dropout_rate::Float64=0.0,\n",
    "    activation_func::Function=Flux.relu,\n",
    "    loss_func::Function=Flux.mse,\n",
    "    optimizer=Flux.ADAM\n",
    ")\n",
    "\n",
    "    x_train, y_train = split_target(apply_feature_engineering(train_df, false))\n",
    "    println(\"building model\")\n",
    "    model = build_model(size(x_train, 1), layers, layers_per_dropout, dropout_rate, activation_func)\n",
    "    opt = optimizer()\n",
    "    y_train = reshape(y_train, 1, :)\n",
    "    loss(x, y) = loss_func(model(x), y)\n",
    "    evalcb() = println(\"RMSE: \", sqrt(mean((model(x_train) .- y_train) .^ 2)))\n",
    "    for epoch in 1:1000\n",
    "        Flux.train!(model, [(x_train, y_train)], opt) do m, x, y\n",
    "            y_hat = model(x)\n",
    "            loss_func(y_hat, y)\n",
    "        end\n",
    "    end\n",
    "    # Flux.train!(loss, Flux.params(model), [(x_train, y_train)], opt, cb=evalcb)\n",
    "    # optim = Flux.setup(optimizer(), model)\n",
    "    # println(\"training model\")\n",
    "    # loader = Flux.DataLoader((data=x_train, label=y_train), batchsize=64);\n",
    "    # losses = []\n",
    "    # for epoch in 1:100\n",
    "    #     for (x, y) in loader\n",
    "    #         loss, grads = Flux.withgradient(model) do m\n",
    "    #             # Evaluate model and loss inside gradient context:\n",
    "    #             y_hat = m(x)\n",
    "    #             Flux.crossentropy(y_hat, y)\n",
    "    #         end\n",
    "    #         Flux.update!(optim, model, grads[1])\n",
    "    #         push!(losses, loss)  # logging, outside gradient context\n",
    "    #     end\n",
    "    # end\n",
    "\n",
    "    println(\"done\")\n",
    "    return model\n",
    "end"
   ]
  },
  {
   "cell_type": "code",
   "execution_count": 414,
   "id": "60cb75b9",
   "metadata": {},
   "outputs": [
    {
     "data": {
      "text/plain": [
       "Chain([\n",
       "  Array(\n",
       "    Dense(13 => 64, relu),              \u001b[90m# 896 parameters\u001b[39m\n",
       "    Dense(64 => 32, relu),              \u001b[90m# 2_080 parameters\u001b[39m\n",
       "    Dropout(0.2),\n",
       "    Dense(32 => 16, relu),              \u001b[90m# 528 parameters\u001b[39m\n",
       "    Dense(16 => 1),                     \u001b[90m# 17 parameters\u001b[39m\n",
       "  ),\n",
       "])\u001b[90m                  # Total: 8 arrays, \u001b[39m3_521 parameters, 14.230 KiB."
      ]
     },
     "metadata": {},
     "output_type": "display_data"
    }
   ],
   "source": [
    "model = simple_train_model(copy(test_df), [64, 32, 16], 2, 0.2)"
   ]
  },
  {
   "cell_type": "code",
   "execution_count": 391,
   "id": "4e4432a9",
   "metadata": {},
   "outputs": [],
   "source": []
  },
  {
   "cell_type": "code",
   "execution_count": 415,
   "id": "148654db",
   "metadata": {},
   "outputs": [],
   "source": [
    "# Assuming x_test is a DataFrame containing the test features and y_test is a vector containing the test targets\n",
    "# Preprocess the test data similar to how you preprocessed the training data\n",
    "x_test, y_test = split_target(apply_feature_engineering(copy(test_df), false))\n",
    "\n",
    "# Evaluate the model on the test data\n",
    "predictions = model(x_test)\n",
    "\n",
    "# Compute evaluation metrics\n",
    "rmse = sqrt(mean((predictions .- y_test) .^ 2))\n",
    "println(\"RMSE on test data: \", rmse)"
   ]
  },
  {
   "cell_type": "code",
   "execution_count": 416,
   "id": "44784a47",
   "metadata": {},
   "outputs": [
    {
     "data": {
      "text/plain": [
       "233486.56675017593"
      ]
     },
     "metadata": {},
     "output_type": "display_data"
    }
   ],
   "source": [
    "rmse"
   ]
  },
  {
   "cell_type": "code",
   "execution_count": 413,
   "id": "51120af5",
   "metadata": {},
   "outputs": [
    {
     "data": {
      "text/plain": [
       "true"
      ]
     },
     "metadata": {},
     "output_type": "display_data"
    }
   ],
   "source": [
    "233611.7484814511 > 233580.9707921928"
   ]
  },
  {
   "cell_type": "code",
   "execution_count": 188,
   "id": "a9fa1194",
   "metadata": {},
   "outputs": [
    {
     "data": {
      "text/plain": [
       "(4068, 15)"
      ]
     },
     "metadata": {},
     "output_type": "display_data"
    }
   ],
   "source": []
  }
 ],
 "metadata": {
  "kernelspec": {
   "display_name": "Julia 1.10.2",
   "language": "julia",
   "name": "julia-1.10"
  },
  "language_info": {
   "file_extension": ".jl",
   "mimetype": "application/julia",
   "name": "julia",
   "version": "1.10.2"
  }
 },
 "nbformat": 4,
 "nbformat_minor": 5
}
