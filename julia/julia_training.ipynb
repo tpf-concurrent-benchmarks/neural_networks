{
 "cells": [
  {
   "cell_type": "markdown",
   "id": "c40f287f-eb29-43ae-b776-a36de4794a5b",
   "metadata": {},
   "source": [
    "# Training"
   ]
  },
  {
   "cell_type": "code",
   "execution_count": null,
   "id": "3a0ee701-32fa-4d7e-af8e-443a6495abdd",
   "metadata": {},
   "outputs": [],
   "source": [
    "using DataFrames, CSV, Plots, ScikitLearn"
   ]
  }
 ],
 "metadata": {
  "kernelspec": {
   "display_name": "Julia 1.10.2",
   "language": "julia",
   "name": "julia-1.10"
  },
  "language_info": {
   "file_extension": ".jl",
   "mimetype": "application/julia",
   "name": "julia",
   "version": "1.10.2"
  }
 },
 "nbformat": 4,
 "nbformat_minor": 5
}
