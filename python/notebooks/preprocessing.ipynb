{
 "cells": [
  {
   "cell_type": "code",
   "id": "c3573e66-cf39-43eb-b8c6-3da95f2f3996",
   "metadata": {
    "scrolled": true
   },
   "source": [
    "!pip3 install tensorflow==2.14.0\n",
    "!pip3 install scikeras==0.12.0\n",
    "!pip3 install pandas\n",
    "!pip3 install matplotlib\n",
    "!pip3 install seaborn\n",
    "!pip3 install scikit-learn\n",
    "!pip3 install cartopy"
   ],
   "outputs": [],
   "execution_count": null
  },
  {
   "cell_type": "code",
   "id": "c9e9ade5-59af-43db-9cea-122a153e33fe",
   "metadata": {},
   "source": [
    "import pandas as pd\n",
    "import numpy as np\n",
    "import matplotlib.pyplot as plt\n",
    "import seaborn as sns\n",
    "from sklearn.model_selection import train_test_split\n",
    "from sklearn.preprocessing import StandardScaler, OneHotEncoder, OrdinalEncoder\n",
    "from sklearn.linear_model import LinearRegression\n",
    "from sklearn.model_selection import cross_val_score\n",
    "\n",
    "import math\n",
    "\n",
    "import cartopy.crs as ccrs\n",
    "import cartopy.feature as cfeature"
   ],
   "outputs": [],
   "execution_count": null
  },
  {
   "cell_type": "code",
   "id": "376dd6fa-a7fd-450e-9b88-fd4998e685dd",
   "metadata": {},
   "source": [
    "df = pd.read_csv(\"../data/housing.csv\")\n",
    "df.head(10)"
   ],
   "outputs": [],
   "execution_count": null
  },
  {
   "cell_type": "code",
   "id": "a67b7914-e1f5-4383-93ec-e7e5610b1d2e",
   "metadata": {},
   "source": [
    "df.shape[0]"
   ],
   "outputs": [],
   "execution_count": null
  },
  {
   "cell_type": "code",
   "id": "4ebc4436-78e1-4926-b592-8d582b7b2424",
   "metadata": {},
   "source": [
    "df.rename({\"median_house_value\": \"target\"}, inplace=True, axis=1)\n",
    "df.head(1)"
   ],
   "outputs": [],
   "execution_count": null
  },
  {
   "cell_type": "code",
   "id": "a4757add-c214-4848-a949-b46ce42e35ef",
   "metadata": {},
   "source": [
    "df.dtypes"
   ],
   "outputs": [],
   "execution_count": null
  },
  {
   "cell_type": "code",
   "id": "7d239869-1e85-4669-88f4-1d2ceab3ee4b",
   "metadata": {},
   "source": [
    "df.isnull().any()"
   ],
   "outputs": [],
   "execution_count": null
  },
  {
   "cell_type": "code",
   "id": "63cd972e-b903-4b35-9cb4-5749003fe503",
   "metadata": {},
   "source": [
    "df[\"total_bedrooms\"].isnull().sum()"
   ],
   "outputs": [],
   "execution_count": null
  },
  {
   "cell_type": "code",
   "id": "cf2dbbac-e6e6-413c-abad-fc51c612d2e6",
   "metadata": {},
   "source": [
    "df[\"total_bedrooms\"] = df[\"total_bedrooms\"].fillna(df[\"total_bedrooms\"].mean())\n",
    "df.isnull().any()"
   ],
   "outputs": [],
   "execution_count": null
  },
  {
   "cell_type": "code",
   "id": "1c65a306-c267-45bc-8902-3f959f3e44ea",
   "metadata": {},
   "source": [
    "numerical_features = [\"longitude\",\n",
    "                      \"latitude\",\n",
    "                      \"housing_median_age\",\n",
    "                      \"total_rooms\",\n",
    "                      \"total_bedrooms\",\n",
    "                      \"population\",\n",
    "                      \"households\",\n",
    "                      \"median_income\"]\n",
    "categorical_features = [\"ocean_proximity\"]"
   ],
   "outputs": [],
   "execution_count": null
  },
  {
   "cell_type": "code",
   "id": "33b79347-77e2-43c0-af27-507842b3fa67",
   "metadata": {},
   "source": [
    "def plot_scatter_matrix(df):\n",
    "    sm = pd.plotting.scatter_matrix(df, alpha=0.2, diagonal=\"kde\", figsize=(6,6))\n",
    "    [s.xaxis.label.set_rotation(90) for s in sm.reshape(-1)]\n",
    "    [s.yaxis.label.set_rotation(0) for s in sm.reshape(-1)]\n",
    "    [s.yaxis.label.set_size(8) for s in sm.reshape(-1)]\n",
    "    [s.xaxis.label.set_size(8) for s in sm.reshape(-1)]\n",
    "    [s.get_yaxis().set_label_coords(-1,0.5) for s in sm.reshape(-1)]\n",
    "    [s.set_xticks(()) for s in sm.reshape(-1)]\n",
    "    [s.set_yticks(()) for s in sm.reshape(-1)]\n",
    "\n",
    "    plt.show()\n",
    "\n",
    "plot_scatter_matrix(df[numerical_features])"
   ],
   "outputs": [],
   "execution_count": null
  },
  {
   "cell_type": "code",
   "id": "8b2b3e7a-719e-4710-b8c6-50af873dacc6",
   "metadata": {},
   "source": [
    "def get_redundant_pairs(df):\n",
    "    pairs_to_drop = set()\n",
    "    cols = df.columns\n",
    "    for i in range(0, df.shape[1]):\n",
    "        for j in range(0, i+1):\n",
    "            pairs_to_drop.add((cols[i], cols[j]))\n",
    "    return pairs_to_drop\n",
    "\n",
    "def get_top_abs_correlations(df, n):\n",
    "    au_corr = df.corr().abs().unstack()\n",
    "    labels_to_drop = get_redundant_pairs(df)\n",
    "    au_corr = au_corr.drop(labels=labels_to_drop).sort_values(ascending=False)\n",
    "    return au_corr[0:n]\n",
    "    \n",
    "get_top_abs_correlations(df[numerical_features], 20)"
   ],
   "outputs": [],
   "execution_count": null
  },
  {
   "cell_type": "code",
   "id": "6776e49e-f8b6-414d-8161-de2f4c66cd5d",
   "metadata": {},
   "source": [
    "sns.heatmap(df[numerical_features].corr())"
   ],
   "outputs": [],
   "execution_count": null
  },
  {
   "cell_type": "code",
   "id": "f2a623dc-2190-4575-a157-5f6c618026dc",
   "metadata": {},
   "source": [
    "plt.figure(figsize=(12, 8))\n",
    "ax = plt.axes(projection=ccrs.PlateCarree())\n",
    "ax.set_extent([-125, -112, 30, 45], crs=ccrs.PlateCarree())  # Adjust the extent as needed\n",
    "\n",
    "ax.add_feature(cfeature.COASTLINE)\n",
    "ax.add_feature(cfeature.BORDERS, linestyle=':')\n",
    "ax.add_feature(cfeature.LAND, edgecolor='black')\n",
    "\n",
    "sc = ax.scatter(df['longitude'], df['latitude'], c=df['target'], cmap='viridis', s=5, alpha=0.7, transform=ccrs.PlateCarree())\n",
    "plt.colorbar(sc, label='Median house value')\n",
    "plt.xlabel('Longitude')\n",
    "plt.ylabel('Latitude')\n",
    "plt.title('Median house value according to location')\n",
    "\n",
    "plt.show()"
   ],
   "outputs": [],
   "execution_count": null
  },
  {
   "cell_type": "code",
   "id": "e308c6ca-cdb5-4af4-93e7-abef44569238",
   "metadata": {},
   "source": [
    "from sklearn.tree import DecisionTreeClassifier\n",
    "from sklearn.model_selection import cross_val_score\n",
    "\n",
    "clf = DecisionTreeClassifier(random_state=0)\n",
    "cross_val_score(clf, df[[\"latitude\", \"longitude\"]], df[[\"ocean_proximity\"]], cv=10).mean()"
   ],
   "outputs": [],
   "execution_count": null
  },
  {
   "cell_type": "code",
   "id": "1ef4d9b1-f242-4aea-8a94-e5e8c4126a80",
   "metadata": {},
   "source": [
    "df[\"ocean_proximity\"].unique()"
   ],
   "outputs": [],
   "execution_count": null
  },
  {
   "cell_type": "code",
   "id": "dd40adc6-4f57-4a84-8878-962a219dac8c",
   "metadata": {},
   "source": [
    "from sklearn.linear_model import LinearRegression\n",
    "\n",
    "enc = OrdinalEncoder()\n",
    "df[\"ocean_proximity_enc\"] = enc.fit_transform(df[[\"ocean_proximity\"]])\n",
    "df.head(5)"
   ],
   "outputs": [],
   "execution_count": null
  },
  {
   "cell_type": "code",
   "id": "c8835ebc-e8e0-4eb0-a622-87c6fcf05413",
   "metadata": {},
   "source": [
    "reg = LinearRegression()\n",
    "\n",
    "cross_val_score(reg, df[[\"latitude\", \"longitude\"]], df[[\"ocean_proximity_enc\"]], scoring=\"neg_root_mean_squared_error\", cv=10).mean()"
   ],
   "outputs": [],
   "execution_count": null
  },
  {
   "cell_type": "code",
   "id": "34672916-b538-4322-8ac4-b8f522629b84",
   "metadata": {},
   "source": [
    "custom_encoding = {\"ISLAND\": 0, \"NEAR OCEAN\": 1, \"NEAR BAY\": 2, \"<1H OCEAN\": 3, \"INLAND\": 4}\n",
    "df[\"ocean_proximity_enc_2\"] = df.replace({\"ocean_proximity\": custom_encoding})[\"ocean_proximity\"]\n",
    "df.head(5)"
   ],
   "outputs": [],
   "execution_count": null
  },
  {
   "cell_type": "code",
   "id": "d76e910f-8a94-4070-91b4-012dc3d34846",
   "metadata": {},
   "source": [
    "reg = LinearRegression()\n",
    "\n",
    "cross_val_score(reg, df[[\"latitude\", \"longitude\"]], df[[\"ocean_proximity_enc_2\"]], scoring=\"neg_root_mean_squared_error\", cv=10).mean()"
   ],
   "outputs": [],
   "execution_count": null
  },
  {
   "cell_type": "code",
   "id": "519e8f28-1772-4e6b-bbde-4735a25a59cc",
   "metadata": {},
   "source": [
    "corr_with_target = \\\n",
    "    df[numerical_features+[\"ocean_proximity_enc\", \"ocean_proximity_enc_2\"]].corrwith(df[\"target\"]).abs().sort_values(ascending=False)\n",
    "corr_with_target"
   ],
   "outputs": [],
   "execution_count": null
  },
  {
   "cell_type": "code",
   "id": "16105cd7-301b-4559-bc5d-429a5122f94a",
   "metadata": {},
   "source": [
    "fig, (ax0, ax1) = plt.subplots(1, 2, figsize=(10,6), sharey=True)\n",
    "\n",
    "means = df.groupby(\"ocean_proximity\")[\"target\"].mean()\n",
    "\n",
    "ax0.scatter(df[\"median_income\"], df[\"target\"])\n",
    "ax0.set_xlabel(\"Median income (tens of thousands of US Dollars)\")\n",
    "ax0.set_ylabel(\"Median house value\")\n",
    "\n",
    "plt.xticks(rotation=45)\n",
    "ax1.bar(means.index, means)\n",
    "ax1.set_xlabel(\"Ocean proximity\")\n",
    "ax1.set_ylabel(\"Median house value\")\n",
    "plt.show()"
   ],
   "outputs": [],
   "execution_count": null
  },
  {
   "cell_type": "code",
   "id": "82abe29b-7a4c-4a04-a31b-beeb7431b643",
   "metadata": {},
   "source": [
    "fig, axs = plt.subplots(3, 3, figsize=(10,10))\n",
    "\n",
    "for (feature, ax) in zip(numerical_features, axs.flat):\n",
    "    ax.boxplot(df[feature])\n",
    "    ax.set_title(feature)\n",
    "axs.flat[-1].axis(\"off\")\n",
    "plt.show()"
   ],
   "outputs": [],
   "execution_count": null
  },
  {
   "cell_type": "code",
   "id": "62b438f9-23c3-4393-be33-20553c23a09d",
   "metadata": {},
   "source": [
    "df[\"rooms_per_bedroom\"] = df[\"total_rooms\"] / df[\"total_bedrooms\"]\n",
    "plt.boxplot(df[\"rooms_per_bedroom\"])\n",
    "plt.title(\"rooms_per_bedroom\")\n",
    "plt.show()"
   ],
   "outputs": [],
   "execution_count": null
  },
  {
   "cell_type": "code",
   "id": "88e5dfff-82b5-4b73-baa5-999a75f67810",
   "metadata": {},
   "source": [
    "df[\"rooms_per_household\"] = df[\"total_rooms\"] / df[\"households\"]\n",
    "plt.boxplot(df[\"rooms_per_household\"])\n",
    "plt.title(\"rooms_per_household\")\n",
    "plt.show()"
   ],
   "outputs": [],
   "execution_count": null
  },
  {
   "cell_type": "code",
   "id": "1bbc52ef-3def-4b7e-b0e9-63807d136a9b",
   "metadata": {},
   "source": [
    "df[df[\"rooms_per_household\"] > 40]"
   ],
   "outputs": [],
   "execution_count": null
  },
  {
   "cell_type": "code",
   "id": "9d5ab9f3-b1bc-4b13-8913-0139959f253a",
   "metadata": {},
   "source": [
    "df[\"encoded_position\"] = df[\"longitude\"] + df[\"latitude\"]\n",
    "df[\"encoded_position\"]"
   ],
   "outputs": [],
   "execution_count": null
  },
  {
   "cell_type": "code",
   "id": "fa1337cd-51e2-462b-b8ff-99421d58f2e6",
   "metadata": {},
   "source": [
    "df[\"population_per_bedrooms\"] = df[\"population\"] / df[\"total_bedrooms\"]"
   ],
   "outputs": [],
   "execution_count": null
  },
  {
   "cell_type": "code",
   "id": "938070ba-53fa-4126-b95c-1c378c7f4a5d",
   "metadata": {},
   "source": [
    "corr_with_target = \\\n",
    "    df.drop([\"ocean_proximity\", \"target\"], axis=1).corrwith(df[\"target\"]).abs().sort_values(ascending=False)\n",
    "corr_with_target"
   ],
   "outputs": [],
   "execution_count": null
  },
  {
   "cell_type": "code",
   "id": "4ca6601c-e912-45ad-b4b1-3bc12c05b548",
   "metadata": {},
   "source": [
    "def remove_outliers(df, quantile=0.05):\n",
    "    Q1 = df.quantile(quantile)\n",
    "    Q3 = df.quantile(1-quantile)\n",
    "    IQR = Q3 - Q1\n",
    "    \n",
    "    return df[~((df < (Q1 - 1.5 * IQR)) |(df > (Q3 + 1.5 * IQR))).any(axis=1)]\n",
    "\n",
    "df_no_outliers = remove_outliers(df.drop(\"ocean_proximity\", axis=1))\n",
    "df_no_outliers"
   ],
   "outputs": [],
   "execution_count": null
  },
  {
   "cell_type": "code",
   "id": "ab408dc1-3e1e-42d3-91b2-284a5bd26fc8",
   "metadata": {},
   "source": [
    "corr_with_target_no_outliers = \\\n",
    "    df_no_outliers.drop([\"target\"], axis=1).corrwith(df_no_outliers[\"target\"]).abs().sort_values(ascending=False)\n",
    "\n",
    "diff = (corr_with_target_no_outliers - corr_with_target)\n",
    "rel_diff = (diff/corr_with_target_no_outliers).sort_values(ascending=False)\n",
    "\n",
    "pd.DataFrame({\"Correlation with target\": corr_with_target, \n",
    "              \"Correlation with target without outliers\": corr_with_target_no_outliers,\n",
    "              \"Difference\": diff,\n",
    "              \"Relative Difference\": rel_diff}).sort_values(\"Relative Difference\", ascending=False)"
   ],
   "outputs": [],
   "execution_count": null
  },
  {
   "cell_type": "code",
   "id": "1d41b683-33a2-4695-809b-343cb529725c",
   "metadata": {},
   "source": [
    "def apply_feature_engineering(df: pd.DataFrame, remove_outliers) -> pd.DataFrame:\n",
    "    df[\"total_bedrooms\"] = df[\"total_bedrooms\"].fillna(df[\"total_bedrooms\"].mean())\n",
    "    custom_encoding = {\"ISLAND\": 0, \"NEAR OCEAN\": 1, \"NEAR BAY\": 2, \"<1H OCEAN\": 3, \"INLAND\": 4}\n",
    "    df[\"ocean_proximity_enc\"] = df.replace({\"ocean_proximity\": custom_encoding})[\"ocean_proximity\"]\n",
    "    df = df.drop(\"ocean_proximity\")\n",
    "    df[\"rooms_per_bedroom\"] = df[\"total_rooms\"] / df[\"total_bedrooms\"]\n",
    "    df[\"rooms_per_household\"] = df[\"total_rooms\"] / df[\"households\"]\n",
    "    df[\"encoded_position\"] = df[\"longitude\"] + df[\"latitude\"]\n",
    "    df[\"population_per_bedrooms\"] = df[\"population\"] / df[\"total_bedrooms\"]\n",
    "    if remove_outliers:\n",
    "        df = remove_outliers(df, 0.05)\n",
    "    return df"
   ],
   "outputs": [],
   "execution_count": null
  }
 ],
 "metadata": {
  "kernelspec": {
   "display_name": "Python 3 (ipykernel)",
   "language": "python",
   "name": "python3"
  },
  "language_info": {
   "codemirror_mode": {
    "name": "ipython",
    "version": 3
   },
   "file_extension": ".py",
   "mimetype": "text/x-python",
   "name": "python",
   "nbconvert_exporter": "python",
   "pygments_lexer": "ipython3",
   "version": "3.11.6"
  }
 },
 "nbformat": 4,
 "nbformat_minor": 5
}
